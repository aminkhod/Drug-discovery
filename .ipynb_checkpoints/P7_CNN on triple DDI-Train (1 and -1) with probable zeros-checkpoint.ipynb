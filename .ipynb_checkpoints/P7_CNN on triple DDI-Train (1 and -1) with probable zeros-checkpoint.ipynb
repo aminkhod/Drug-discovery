{
 "cells": [
  {
   "cell_type": "code",
   "execution_count": 1,
   "metadata": {},
   "outputs": [
    {
     "name": "stderr",
     "output_type": "stream",
     "text": [
      "2022-03-08 20:15:31.130442: W tensorflow/stream_executor/platform/default/dso_loader.cc:64] Could not load dynamic library 'libcudart.so.11.0'; dlerror: libcudart.so.11.0: cannot open shared object file: No such file or directory\n",
      "2022-03-08 20:15:31.130462: I tensorflow/stream_executor/cuda/cudart_stub.cc:29] Ignore above cudart dlerror if you do not have a GPU set up on your machine.\n"
     ]
    },
    {
     "ename": "ImportError",
     "evalue": "cannot import name 'to_categorical' from 'keras.utils' (/home/aminuninnova/.local/lib/python3.8/site-packages/keras/utils/__init__.py)",
     "output_type": "error",
     "traceback": [
      "\u001b[0;31m---------------------------------------------------------------------------\u001b[0m",
      "\u001b[0;31mImportError\u001b[0m                               Traceback (most recent call last)",
      "Input \u001b[0;32mIn [1]\u001b[0m, in \u001b[0;36m<module>\u001b[0;34m\u001b[0m\n\u001b[1;32m     11\u001b[0m \u001b[38;5;28;01mfrom\u001b[39;00m \u001b[38;5;21;01msklearn\u001b[39;00m\u001b[38;5;21;01m.\u001b[39;00m\u001b[38;5;21;01mmetrics\u001b[39;00m \u001b[38;5;28;01mimport\u001b[39;00m confusion_matrix,classification_report,precision_score, auc, precision_recall_curve, roc_curve\n\u001b[1;32m     13\u001b[0m \u001b[38;5;28;01mimport\u001b[39;00m \u001b[38;5;21;01mkeras\u001b[39;00m\n\u001b[0;32m---> 14\u001b[0m \u001b[38;5;28;01mfrom\u001b[39;00m \u001b[38;5;21;01mkeras\u001b[39;00m\u001b[38;5;21;01m.\u001b[39;00m\u001b[38;5;21;01mutils\u001b[39;00m \u001b[38;5;28;01mimport\u001b[39;00m to_categorical\n\u001b[1;32m     15\u001b[0m \u001b[38;5;28;01mfrom\u001b[39;00m \u001b[38;5;21;01mkeras\u001b[39;00m\u001b[38;5;21;01m.\u001b[39;00m\u001b[38;5;21;01mmodels\u001b[39;00m \u001b[38;5;28;01mimport\u001b[39;00m Sequential\n\u001b[1;32m     16\u001b[0m \u001b[38;5;28;01mfrom\u001b[39;00m \u001b[38;5;21;01mkeras\u001b[39;00m\u001b[38;5;21;01m.\u001b[39;00m\u001b[38;5;21;01mlayers\u001b[39;00m \u001b[38;5;28;01mimport\u001b[39;00m Dense, Conv2D, Flatten, Softmax, Dropout\n",
      "\u001b[0;31mImportError\u001b[0m: cannot import name 'to_categorical' from 'keras.utils' (/home/aminuninnova/.local/lib/python3.8/site-packages/keras/utils/__init__.py)"
     ]
    }
   ],
   "source": [
    "import random\n",
    "import pandas as pd \n",
    "import numpy as np\n",
    "\n",
    "import seaborn as sns\n",
    "import matplotlib.pyplot as plt\n",
    "\n",
    "import confusion_matrix_pretty_print\n",
    "from confusion_matrix_pretty_print import plot_confusion_matrix_from_data\n",
    "\n",
    "from sklearn.metrics import confusion_matrix,classification_report,precision_score, auc, precision_recall_curve, roc_curve\n",
    "\n",
    "import tensorflow.keras as keras\n",
    "from tensorflow.keras.utils import to_categorical\n",
    "from tensorflow.keras.models import Sequential\n",
    "from tensorflow.keras.layers import Dense, Conv2D, Flatten, Softmax, Dropout\n",
    "from tensorflow.keras import optimizers\n",
    "from tensorflow.keras import metrics as kmetr\n",
    "from tensorflow.keras.utils import plot_model\n"
   ]
  },
  {
   "cell_type": "code",
   "execution_count": 2,
   "metadata": {},
   "outputs": [],
   "source": [
    "# zeroIndex = pd.read_csv('zero indexes_without softmax.csv')\n",
    "\n",
    "# zeroIndex = list(zeroIndex['0'])"
   ]
  },
  {
   "cell_type": "code",
   "execution_count": 3,
   "metadata": {},
   "outputs": [],
   "source": [
    "# probableZero = pd.read_csv('../../triple_cosineSNF(zeros).csv').iloc[zeroIndex,:]"
   ]
  },
  {
   "cell_type": "code",
   "execution_count": 4,
   "metadata": {},
   "outputs": [],
   "source": [
    "# # probableZero.to_csv('../../probableZeroes.csv',index=False)\n",
    "# probableZero = pd.read_csv('../../probableZeroes.csv')"
   ]
  },
  {
   "cell_type": "code",
   "execution_count": 5,
   "metadata": {},
   "outputs": [],
   "source": [
    "# r, c = probableZero.shape\n",
    "# probableZero.head()"
   ]
  },
  {
   "cell_type": "code",
   "execution_count": 6,
   "metadata": {},
   "outputs": [],
   "source": [
    "# probableZero.head()"
   ]
  },
  {
   "cell_type": "code",
   "execution_count": 28,
   "metadata": {},
   "outputs": [],
   "source": [
    "zeros = pd.read_csv('probZeroDrug20000_.2_.2_revised.csv')"
   ]
  },
  {
   "cell_type": "code",
   "execution_count": 29,
   "metadata": {},
   "outputs": [],
   "source": [
    "dataTrain = pd.read_csv('triple43110_revised_ShuffledPaired.csv')\n",
    "dataTest = pd.read_csv('tripleTest_revised.csv')\n"
   ]
  },
  {
   "cell_type": "code",
   "execution_count": 30,
   "metadata": {},
   "outputs": [
    {
     "name": "stdout",
     "output_type": "stream",
     "text": [
      "20000 1139\n"
     ]
    },
    {
     "data": {
      "text/html": [
       "<div>\n",
       "<style scoped>\n",
       "    .dataframe tbody tr th:only-of-type {\n",
       "        vertical-align: middle;\n",
       "    }\n",
       "\n",
       "    .dataframe tbody tr th {\n",
       "        vertical-align: top;\n",
       "    }\n",
       "\n",
       "    .dataframe thead th {\n",
       "        text-align: right;\n",
       "    }\n",
       "</style>\n",
       "<table border=\"1\" class=\"dataframe\">\n",
       "  <thead>\n",
       "    <tr style=\"text-align: right;\">\n",
       "      <th></th>\n",
       "      <th>0</th>\n",
       "      <th>1</th>\n",
       "      <th>2</th>\n",
       "      <th>3</th>\n",
       "      <th>4</th>\n",
       "      <th>5</th>\n",
       "      <th>6</th>\n",
       "      <th>7</th>\n",
       "      <th>8</th>\n",
       "      <th>9</th>\n",
       "      <th>...</th>\n",
       "      <th>1131</th>\n",
       "      <th>1132</th>\n",
       "      <th>1133</th>\n",
       "      <th>1134</th>\n",
       "      <th>1135</th>\n",
       "      <th>1136</th>\n",
       "      <th>1137</th>\n",
       "      <th>1138</th>\n",
       "      <th>1139</th>\n",
       "      <th>1140</th>\n",
       "    </tr>\n",
       "  </thead>\n",
       "  <tbody>\n",
       "    <tr>\n",
       "      <th>0</th>\n",
       "      <td>DB00180</td>\n",
       "      <td>DB00158</td>\n",
       "      <td>0</td>\n",
       "      <td>0.001581</td>\n",
       "      <td>0.001589</td>\n",
       "      <td>0.002184</td>\n",
       "      <td>0.002115</td>\n",
       "      <td>0.002140</td>\n",
       "      <td>0.002113</td>\n",
       "      <td>0.001662</td>\n",
       "      <td>...</td>\n",
       "      <td>0.001692</td>\n",
       "      <td>0.001592</td>\n",
       "      <td>0.001666</td>\n",
       "      <td>0.001667</td>\n",
       "      <td>0.001591</td>\n",
       "      <td>0.001575</td>\n",
       "      <td>0.001588</td>\n",
       "      <td>0.001675</td>\n",
       "      <td>0.001594</td>\n",
       "      <td>0.001637</td>\n",
       "    </tr>\n",
       "    <tr>\n",
       "      <th>1</th>\n",
       "      <td>DB00180</td>\n",
       "      <td>DB00190</td>\n",
       "      <td>0</td>\n",
       "      <td>0.001581</td>\n",
       "      <td>0.001589</td>\n",
       "      <td>0.002184</td>\n",
       "      <td>0.002115</td>\n",
       "      <td>0.002140</td>\n",
       "      <td>0.002113</td>\n",
       "      <td>0.001662</td>\n",
       "      <td>...</td>\n",
       "      <td>0.001611</td>\n",
       "      <td>0.002181</td>\n",
       "      <td>0.001782</td>\n",
       "      <td>0.001593</td>\n",
       "      <td>0.001637</td>\n",
       "      <td>0.001560</td>\n",
       "      <td>0.001564</td>\n",
       "      <td>0.001648</td>\n",
       "      <td>0.001668</td>\n",
       "      <td>0.001593</td>\n",
       "    </tr>\n",
       "    <tr>\n",
       "      <th>2</th>\n",
       "      <td>DB01155</td>\n",
       "      <td>DB00699</td>\n",
       "      <td>0</td>\n",
       "      <td>0.002019</td>\n",
       "      <td>0.001617</td>\n",
       "      <td>0.001633</td>\n",
       "      <td>0.001608</td>\n",
       "      <td>0.002083</td>\n",
       "      <td>0.001618</td>\n",
       "      <td>0.001588</td>\n",
       "      <td>...</td>\n",
       "      <td>0.002266</td>\n",
       "      <td>0.001598</td>\n",
       "      <td>0.001604</td>\n",
       "      <td>0.001590</td>\n",
       "      <td>0.001962</td>\n",
       "      <td>0.001771</td>\n",
       "      <td>0.002173</td>\n",
       "      <td>0.001629</td>\n",
       "      <td>0.001818</td>\n",
       "      <td>0.001901</td>\n",
       "    </tr>\n",
       "    <tr>\n",
       "      <th>3</th>\n",
       "      <td>DB01155</td>\n",
       "      <td>DB00713</td>\n",
       "      <td>0</td>\n",
       "      <td>0.002019</td>\n",
       "      <td>0.001617</td>\n",
       "      <td>0.001633</td>\n",
       "      <td>0.001608</td>\n",
       "      <td>0.002083</td>\n",
       "      <td>0.001618</td>\n",
       "      <td>0.001588</td>\n",
       "      <td>...</td>\n",
       "      <td>0.001872</td>\n",
       "      <td>0.001598</td>\n",
       "      <td>0.001583</td>\n",
       "      <td>0.001563</td>\n",
       "      <td>0.001645</td>\n",
       "      <td>0.001703</td>\n",
       "      <td>0.001634</td>\n",
       "      <td>0.001611</td>\n",
       "      <td>0.001704</td>\n",
       "      <td>0.001857</td>\n",
       "    </tr>\n",
       "    <tr>\n",
       "      <th>4</th>\n",
       "      <td>DB00497</td>\n",
       "      <td>DB00379</td>\n",
       "      <td>0</td>\n",
       "      <td>0.001609</td>\n",
       "      <td>0.001599</td>\n",
       "      <td>0.001609</td>\n",
       "      <td>0.001678</td>\n",
       "      <td>0.001643</td>\n",
       "      <td>0.001722</td>\n",
       "      <td>0.001988</td>\n",
       "      <td>...</td>\n",
       "      <td>0.001844</td>\n",
       "      <td>0.001709</td>\n",
       "      <td>0.001621</td>\n",
       "      <td>0.001614</td>\n",
       "      <td>0.002237</td>\n",
       "      <td>0.001893</td>\n",
       "      <td>0.002022</td>\n",
       "      <td>0.001610</td>\n",
       "      <td>0.001917</td>\n",
       "      <td>0.001615</td>\n",
       "    </tr>\n",
       "  </tbody>\n",
       "</table>\n",
       "<p>5 rows × 1139 columns</p>\n",
       "</div>"
      ],
      "text/plain": [
       "         0        1  2         3         4         5         6         7  \\\n",
       "0  DB00180  DB00158  0  0.001581  0.001589  0.002184  0.002115  0.002140   \n",
       "1  DB00180  DB00190  0  0.001581  0.001589  0.002184  0.002115  0.002140   \n",
       "2  DB01155  DB00699  0  0.002019  0.001617  0.001633  0.001608  0.002083   \n",
       "3  DB01155  DB00713  0  0.002019  0.001617  0.001633  0.001608  0.002083   \n",
       "4  DB00497  DB00379  0  0.001609  0.001599  0.001609  0.001678  0.001643   \n",
       "\n",
       "          8         9  ...      1131      1132      1133      1134      1135  \\\n",
       "0  0.002113  0.001662  ...  0.001692  0.001592  0.001666  0.001667  0.001591   \n",
       "1  0.002113  0.001662  ...  0.001611  0.002181  0.001782  0.001593  0.001637   \n",
       "2  0.001618  0.001588  ...  0.002266  0.001598  0.001604  0.001590  0.001962   \n",
       "3  0.001618  0.001588  ...  0.001872  0.001598  0.001583  0.001563  0.001645   \n",
       "4  0.001722  0.001988  ...  0.001844  0.001709  0.001621  0.001614  0.002237   \n",
       "\n",
       "       1136      1137      1138      1139      1140  \n",
       "0  0.001575  0.001588  0.001675  0.001594  0.001637  \n",
       "1  0.001560  0.001564  0.001648  0.001668  0.001593  \n",
       "2  0.001771  0.002173  0.001629  0.001818  0.001901  \n",
       "3  0.001703  0.001634  0.001611  0.001704  0.001857  \n",
       "4  0.001893  0.002022  0.001610  0.001917  0.001615  \n",
       "\n",
       "[5 rows x 1139 columns]"
      ]
     },
     "execution_count": 30,
     "metadata": {},
     "output_type": "execute_result"
    }
   ],
   "source": [
    "r,c = zeros.shape\n",
    "print(r,c)\n",
    "zeros.head()"
   ]
  },
  {
   "cell_type": "code",
   "execution_count": 31,
   "metadata": {},
   "outputs": [],
   "source": [
    "dataTrain = dataTrain.append(zeros, ignore_index = True)"
   ]
  },
  {
   "cell_type": "code",
   "execution_count": 32,
   "metadata": {},
   "outputs": [],
   "source": [
    "dataTest = dataTest.append(zeros.iloc[int(0.9*r):,:], ignore_index = True) "
   ]
  },
  {
   "cell_type": "code",
   "execution_count": 33,
   "metadata": {},
   "outputs": [],
   "source": [
    "del zeros\n",
    "# del probableZero"
   ]
  },
  {
   "cell_type": "code",
   "execution_count": 34,
   "metadata": {},
   "outputs": [],
   "source": [
    "# Shuffle datasets\n",
    "dataTrain = dataTrain.sample(frac=1).reset_index(drop=True)\n",
    "dataTest = dataTest.sample(frac=1).reset_index(drop=True)"
   ]
  },
  {
   "cell_type": "code",
   "execution_count": 35,
   "metadata": {},
   "outputs": [
    {
     "name": "stdout",
     "output_type": "stream",
     "text": [
      "63110 1139\n"
     ]
    }
   ],
   "source": [
    "r, c = dataTrain.shape\n",
    "print(r, c)"
   ]
  },
  {
   "cell_type": "code",
   "execution_count": 36,
   "metadata": {},
   "outputs": [],
   "source": [
    "# y_train"
   ]
  },
  {
   "cell_type": "code",
   "execution_count": 37,
   "metadata": {},
   "outputs": [],
   "source": [
    "X_train = dataTrain.values[:,3:]\n",
    "y_train = dataTrain.values[:,2].astype(int)\n",
    "del dataTrain\n",
    "trainNum = len(X_train)\n",
    "X_test = dataTest.values[:,3:]\n",
    "y_test = dataTest.values[:,2].astype(int)\n",
    "# del dataTest\n",
    "testNum = len(X_test)\n",
    "\n",
    "#reshape data to fit model\n",
    "X_train = X_train.reshape(trainNum,16,71,1)\n",
    "X_test = X_test.reshape(testNum,16,71,1)\n",
    "\n",
    "y_train = y_train + 1\n",
    "y_test  = y_test + 1\n",
    "# y_train = y_train / 2\n",
    "# y_test  = y_test / 2\n",
    "# print(y_train[0], y_test[0])\n",
    "\n",
    "#one-hot encode target column\n",
    "y_train = to_categorical(y_train)\n",
    "y_test = to_categorical(y_test)\n",
    "# y_test[0]\n"
   ]
  },
  {
   "cell_type": "code",
   "execution_count": 38,
   "metadata": {},
   "outputs": [
    {
     "name": "stdout",
     "output_type": "stream",
     "text": [
      "[0. 0. 1.] [0. 1. 0.]\n"
     ]
    }
   ],
   "source": [
    "print(y_train[0], y_test[0])"
   ]
  },
  {
   "cell_type": "code",
   "execution_count": 251,
   "metadata": {},
   "outputs": [
    {
     "name": "stdout",
     "output_type": "stream",
     "text": [
      "Model: \"sequential_4\"\n",
      "_________________________________________________________________\n",
      "Layer (type)                 Output Shape              Param #   \n",
      "=================================================================\n",
      "conv2d_10 (Conv2D)           (None, 13, 68, 128)       2176      \n",
      "_________________________________________________________________\n",
      "conv2d_11 (Conv2D)           (None, 10, 65, 32)        65568     \n",
      "_________________________________________________________________\n",
      "conv2d_12 (Conv2D)           (None, 7, 62, 8)          4104      \n",
      "_________________________________________________________________\n",
      "flatten_4 (Flatten)          (None, 3472)              0         \n",
      "_________________________________________________________________\n",
      "dense_10 (Dense)             (None, 64)                222272    \n",
      "_________________________________________________________________\n",
      "dropout_4 (Dropout)          (None, 64)                0         \n",
      "_________________________________________________________________\n",
      "dense_11 (Dense)             (None, 16)                1040      \n",
      "_________________________________________________________________\n",
      "dense_12 (Dense)             (None, 3)                 51        \n",
      "=================================================================\n",
      "Total params: 295,211\n",
      "Trainable params: 295,211\n",
      "Non-trainable params: 0\n",
      "_________________________________________________________________\n"
     ]
    }
   ],
   "source": [
    "#create model\n",
    "model = Sequential()\n",
    "#add model layers\n",
    "# kernel_initializer='uniform',\n",
    "# kernel_initializer='uniform',\n",
    "# kernel_initializer='uniform',\n",
    "# kernel_initializer='uniform',\n",
    "model.add(Conv2D(128, kernel_size=4, activation='relu', input_shape=(16,71,1)))\n",
    "# model.add(Conv2D(64, kernel_size=2, activation='relu'))\n",
    "\n",
    "model.add(Conv2D(32, kernel_size=4, activation='relu'))\n",
    "# model.add(Conv2D(16, kernel_size=2, activation='relu'))\n",
    "model.add(Conv2D(8, kernel_size=4, activation='relu'))\n",
    "model.add(Flatten())\n",
    "model.add(Dense( 64, activation='relu'))\n",
    "model.add(Dropout(0.2))\n",
    "model.add(Dense( 16, activation='relu'))\n",
    "model.add(Dense( 3, activation='sigmoid'))\n",
    "# model.add(Softmax(128))\n",
    "model.summary()\n",
    "\n",
    "#compile model using accuracy to measure model performance\n",
    "\n",
    "\n",
    "adam = optimizers.Adam(lr=0.0001, beta_1=0.9, beta_2=0.999)\n",
    "# model.compile(loss='hinge', optimizer=adam, metrics=[kmetr.categorical_accuracy])\n",
    "model.compile(optimizer='adam', loss='categorical_crossentropy', metrics=['accuracy']) ## Minist\n",
    "\n",
    "### Load the model's saved weights.\n",
    "# model.load_weights('model with zeros_5Epoch_revised.h5')"
   ]
  },
  {
   "cell_type": "code",
   "execution_count": 54,
   "metadata": {},
   "outputs": [],
   "source": [
    "# #### plotting model\n",
    "# plot_model(model,show_shapes = True, to_file='modelLastDense_3.png')"
   ]
  },
  {
   "cell_type": "code",
   "execution_count": 274,
   "metadata": {},
   "outputs": [
    {
     "name": "stdout",
     "output_type": "stream",
     "text": [
      "Train on 63110 samples, validate on 6310 samples\n",
      "Epoch 1/1\n",
      "63110/63110 [==============================] - 449s 7ms/step - loss: 0.2331 - acc: 0.9117 - val_loss: 0.1515 - val_acc: 0.9407\n"
     ]
    },
    {
     "data": {
      "text/plain": [
       "<keras.callbacks.History at 0x7f2518efc198>"
      ]
     },
     "execution_count": 274,
     "metadata": {},
     "output_type": "execute_result"
    }
   ],
   "source": [
    "# #### train the model\n",
    "model.fit(X_train, y_train, validation_data=(X_test, y_test), epochs=1)\n",
    "# model.fit(X_train, y_train, epochs=10)\n"
   ]
  },
  {
   "cell_type": "code",
   "execution_count": 275,
   "metadata": {},
   "outputs": [],
   "source": [
    "### Saveing the Model\n",
    "model.save_weights('model with zeros_3Epoch_revised.h5')\n"
   ]
  },
  {
   "cell_type": "code",
   "execution_count": 276,
   "metadata": {},
   "outputs": [],
   "source": [
    "predit = model.predict(X_test)\n",
    "#actual results for first 4 images in test set\n",
    "# print(predit[:4],X_test[:4,2])\n",
    "\n"
   ]
  },
  {
   "cell_type": "code",
   "execution_count": 291,
   "metadata": {},
   "outputs": [
    {
     "name": "stdout",
     "output_type": "stream",
     "text": [
      "0.7915856855151663 0.965419923664989  -1s AUPR and AUC\n",
      "\n",
      "Epoch 02: 72 Aupr\n",
      "Epoch 03: 79 Aupr\n",
      "Epoch 04: 78 Aupr\n",
      "Epoch 05: 77 Aupr\n",
      "Epoch 06: 76 Aupr\n",
      "Epoch 07: 76 Aupr\n",
      "Epoch 08: 77 Aupr\n",
      "Epoch 09: 78 Aupr\n",
      "Epoch 10: 79 Aupr\n",
      "Epoch 11: 80 Aupr\n",
      "Epoch 12: 77 Aupr\n",
      "Epoch 13: 81 Aupr\n",
      "Epoch 14: 81 Aupr\n",
      "\n"
     ]
    }
   ],
   "source": [
    "# #from sklearn.metrics import precision_recall_curve, roc_curve\n",
    "\n",
    "prec, rec, thr = precision_recall_curve(y_test[:,0], predit[:,0])\n",
    "aupr_val = auc(rec, prec)\n",
    "fpr, tpr, thr = roc_curve(y_test[:,0], predit[:,0])\n",
    "auc_val = auc(fpr, tpr)\n",
    "print(aupr_val,auc_val, \" -1s AUPR and AUC\")\n",
    "print('''\n",
    "Epoch 02: 72 Aupr\n",
    "Epoch 03: 79 Aupr\n",
    "Epoch 04: 78 Aupr\n",
    "Epoch 05: 77 Aupr\n",
    "Epoch 06: 76 Aupr\n",
    "Epoch 07: 76 Aupr\n",
    "Epoch 08: 77 Aupr\n",
    "Epoch 09: 78 Aupr\n",
    "Epoch 10: 79 Aupr\n",
    "Epoch 11: 80 Aupr\n",
    "Epoch 12: 77 Aupr\n",
    "Epoch 13: 81 Aupr\n",
    "Epoch 14: 81 Aupr\n",
    "''')"
   ]
  },
  {
   "cell_type": "code",
   "execution_count": 278,
   "metadata": {},
   "outputs": [
    {
     "name": "stdout",
     "output_type": "stream",
     "text": [
      "0.9536505160507448 0.9668656673885786  +1s AUPR and AUC\n",
      "\n",
      "Epoch 02: 94 Aupr\n",
      "Epoch 03: 78 Aupr\n",
      "Epoch 04: 95 Aupr\n",
      "Epoch 05: 93 Aupr\n",
      "Epoch 06: 93 Aupr\n",
      "Epoch 07: 93 Aupr\n",
      "Epoch 08: 93 Aupr\n",
      "Epoch 09: 93 Aupr\n",
      "Epoch 10: 94 Aupr\n",
      "Epoch 11: 94 Aupr\n",
      "Epoch 12: 94 Aupr\n",
      "Epoch 13: 94 Aupr\n",
      "Epoch 14: 94 Aupr\n",
      "\n"
     ]
    }
   ],
   "source": [
    "# #from sklearn.metrics import precision_recall_curve, roc_curve\n",
    "\n",
    "prec, rec, thr = precision_recall_curve(y_test[:,2], predit[:,2])\n",
    "aupr_val = auc(rec, prec)\n",
    "fpr, tpr, thr = roc_curve(y_test[:,2], predit[:,2])\n",
    "auc_val = auc(fpr, tpr)\n",
    "print(aupr_val,auc_val, \" +1s AUPR and AUC\")\n",
    "print('''\n",
    "Epoch 02: 94 Aupr\n",
    "Epoch 03: 95 Aupr\n",
    "Epoch 04: 95 Aupr\n",
    "Epoch 05: 93 Aupr\n",
    "Epoch 06: 93 Aupr\n",
    "Epoch 07: 93 Aupr\n",
    "Epoch 08: 93 Aupr\n",
    "Epoch 09: 93 Aupr\n",
    "Epoch 10: 94 Aupr\n",
    "Epoch 11: 94 Aupr\n",
    "Epoch 12: 94 Aupr\n",
    "Epoch 13: 94 Aupr\n",
    "Epoch 14: 94 Aupr\n",
    "''')"
   ]
  },
  {
   "cell_type": "code",
   "execution_count": 279,
   "metadata": {},
   "outputs": [
    {
     "name": "stdout",
     "output_type": "stream",
     "text": [
      "0.9760516795080186 0.9906584686774942  0s AUPR and AUC\n",
      "\n",
      "Epoch 02: 96 Aupr\n",
      "Epoch 03: 78 Aupr\n",
      "Epoch 04: 97 Aupr\n",
      "Epoch 05: 98 Aupr\n",
      "Epoch 06: 98 Aupr\n",
      "Epoch 07: 98 Aupr\n",
      "Epoch 08: 99 Aupr\n",
      "Epoch 09: 99 Aupr\n",
      "Epoch 10: 99 Aupr\n",
      "Epoch 11: 98 Aupr\n",
      "Epoch 12: 99 Aupr\n",
      "Epoch 13: 98 Aupr\n",
      "Epoch 14: 98 Aupr\n",
      "\n"
     ]
    }
   ],
   "source": [
    "# #from sklearn.metrics import precision_recall_curve, roc_curve\n",
    "\n",
    "prec, rec, thr = precision_recall_curve(y_test[:,1], predit[:,1])\n",
    "aupr_val = auc(rec, prec)\n",
    "fpr, tpr, thr = roc_curve(y_test[:,1], predit[:,1])\n",
    "auc_val = auc(fpr, tpr)\n",
    "print(aupr_val,auc_val, \" 0s AUPR and AUC\")\n",
    "print('''\n",
    "Epoch 02: 96 Aupr\n",
    "Epoch 03: 97 Aupr\n",
    "Epoch 04: 97 Aupr\n",
    "Epoch 05: 98 Aupr\n",
    "Epoch 06: 98 Aupr\n",
    "Epoch 07: 98 Aupr\n",
    "Epoch 08: 99 Aupr\n",
    "Epoch 09: 99 Aupr\n",
    "Epoch 10: 99 Aupr\n",
    "Epoch 11: 98 Aupr\n",
    "Epoch 12: 99 Aupr\n",
    "Epoch 13: 98 Aupr\n",
    "Epoch 14: 98 Aupr\n",
    "''')"
   ]
  },
  {
   "cell_type": "code",
   "execution_count": 258,
   "metadata": {},
   "outputs": [],
   "source": [
    "# print(model.history.history['val_acc'])"
   ]
  },
  {
   "cell_type": "code",
   "execution_count": 259,
   "metadata": {
    "scrolled": false
   },
   "outputs": [],
   "source": [
    "\n",
    "# # Plot training & validation accuracy values\n",
    "# plt.plot(list(range(1,6)),model.history.history['acc'])\n",
    "# plt.plot(list(range(1,6)),model.history.history['val_acc'])\n",
    "# plt.title('Model accuracy')\n",
    "# plt.ylabel('Accuracy')\n",
    "# plt.xlabel('Epoch')\n",
    "# plt.legend(['Train', 'Test'], loc='upper left')\n",
    "# plt.show()\n",
    "\n",
    "# # Plot training & validation loss values\n",
    "# plt.plot(list(range(1,6)),model.history.history['loss'])\n",
    "# plt.plot(list(range(1,6)),model.history.history['val_loss'])\n",
    "# plt.title('Model loss')\n",
    "# plt.ylabel('Loss')\n",
    "# plt.xlabel('Epoch')\n",
    "# plt.legend(['Train', 'Test'], loc='upper left')\n",
    "# plt.show()"
   ]
  },
  {
   "cell_type": "code",
   "execution_count": 260,
   "metadata": {},
   "outputs": [],
   "source": [
    "# # predit\n",
    "# predit[:,0].shape "
   ]
  },
  {
   "cell_type": "code",
   "execution_count": 280,
   "metadata": {
    "scrolled": false
   },
   "outputs": [],
   "source": [
    "predicts = []\n",
    "for a,b,c in predit:\n",
    "    if a >b and a>c:\n",
    "        predicts.append(0)\n",
    "    elif c>a and c>b:\n",
    "        predicts.append(2)\n",
    "    else:\n",
    "        predicts.append(1)"
   ]
  },
  {
   "cell_type": "code",
   "execution_count": 281,
   "metadata": {},
   "outputs": [
    {
     "name": "stdout",
     "output_type": "stream",
     "text": [
      "degrassive 126 enhancive 405 zeros 3861\n",
      "\n",
      "Epoch 02: degrassive 67 enhancive 341 zeros 3825\n",
      "Epoch 03: \n",
      "Epoch 04: degrassive 61 enhancive 79 zeros 4100\n",
      "Epoch 05: degrassive 133 enhancive 492 zeros 3700\n",
      "Epoch 06: degrassive 97 enhancive 312 zeros 3860\n",
      "Epoch 07: degrassive 155 enhancive 357 zeros 3884\n",
      "Epoch 08: degrassive 117 enhancive 469 zeros 3954\n",
      "Epoch 09: degrassive 122 enhancive 263 zeros 4064\n",
      "Epoch 10: degrassive 167 enhancive 465 zeros 4000\n",
      "Epoch 11: degrassive 198 enhancive 402 zeros 4068\n",
      "Epoch 12: degrassive 164 enhancive 584 zeros 4022\n",
      "Epoch 13: degrassive 184 enhancive 375 zeros 4169\n",
      "Epoch 14: degrassive 129 enhancive 530 zeros 4252\n",
      "\n"
     ]
    }
   ],
   "source": [
    "predicts1 = []\n",
    "e = d = z = 0\n",
    "\n",
    "for a,b,c in predit:\n",
    "    if a >=0.95:\n",
    "        predicts1.append(0)\n",
    "        d += 1\n",
    "    elif b>=0.95:\n",
    "        predicts1.append(2)\n",
    "        e += 1\n",
    "    elif a<=0.2 and b<=0.2:\n",
    "        predicts1.append(1)\n",
    "        z += 1\n",
    "    elif c>a and c>b:\n",
    "        predicts1.append(1)\n",
    "        z += 1\n",
    "print('degrassive', d, 'enhancive', e, 'zeros', z)\n",
    "print('''\n",
    "Epoch 02: degrassive 67 enhancive 341 zeros 3825\n",
    "Epoch 03: degrassive 126 enhancive 405 zeros 3861\n",
    "Epoch 04: degrassive 61 enhancive 79 zeros 4100\n",
    "Epoch 05: degrassive 133 enhancive 492 zeros 3700\n",
    "Epoch 06: degrassive 97 enhancive 312 zeros 3860\n",
    "Epoch 07: degrassive 155 enhancive 357 zeros 3884\n",
    "Epoch 08: degrassive 117 enhancive 469 zeros 3954\n",
    "Epoch 09: degrassive 122 enhancive 263 zeros 4064\n",
    "Epoch 10: degrassive 167 enhancive 465 zeros 4000\n",
    "Epoch 11: degrassive 198 enhancive 402 zeros 4068\n",
    "Epoch 12: degrassive 164 enhancive 584 zeros 4022\n",
    "Epoch 13: degrassive 184 enhancive 375 zeros 4169\n",
    "Epoch 14: degrassive 129 enhancive 530 zeros 4252\n",
    "''')"
   ]
  },
  {
   "cell_type": "code",
   "execution_count": 263,
   "metadata": {},
   "outputs": [],
   "source": [
    "# max(list((dataTest.values[:,2]+1)/2))"
   ]
  },
  {
   "cell_type": "code",
   "execution_count": 282,
   "metadata": {
    "scrolled": false
   },
   "outputs": [
    {
     "name": "stdout",
     "output_type": "stream",
     "text": [
      "[[ 680   19   63]\n",
      " [  50 1940   17]\n",
      " [ 184   41 3316]]\n",
      "              precision    recall  f1-score   support\n",
      "\n",
      "           0       0.89      0.74      0.81       914\n",
      "           1       0.97      0.97      0.97      2000\n",
      "           2       0.94      0.98      0.96      3396\n",
      "\n",
      "    accuracy                           0.94      6310\n",
      "   macro avg       0.93      0.90      0.91      6310\n",
      "weighted avg       0.94      0.94      0.94      6310\n",
      "\n"
     ]
    },
    {
     "name": "stderr",
     "output_type": "stream",
     "text": [
      "/home/amin/confusion_matrix_pretty_print.py:165: MatplotlibDeprecationWarning: \n",
      "The tick1On function was deprecated in Matplotlib 3.1 and will be removed in 3.3. Use Tick.tick1line.set_visible instead.\n",
      "  t.tick1On = False\n",
      "/home/amin/confusion_matrix_pretty_print.py:166: MatplotlibDeprecationWarning: \n",
      "The tick2On function was deprecated in Matplotlib 3.1 and will be removed in 3.3. Use Tick.tick2line.set_visible instead.\n",
      "  t.tick2On = False\n",
      "/home/amin/confusion_matrix_pretty_print.py:168: MatplotlibDeprecationWarning: \n",
      "The tick1On function was deprecated in Matplotlib 3.1 and will be removed in 3.3. Use Tick.tick1line.set_visible instead.\n",
      "  t.tick1On = False\n",
      "/home/amin/confusion_matrix_pretty_print.py:169: MatplotlibDeprecationWarning: \n",
      "The tick2On function was deprecated in Matplotlib 3.1 and will be removed in 3.3. Use Tick.tick2line.set_visible instead.\n",
      "  t.tick2On = False\n"
     ]
    },
    {
     "data": {
      "image/png": "[encoded data removed]",
      "text/plain": [
       "<Figure size 648x648 with 1 Axes>"
      ]
     },
     "metadata": {
      "needs_background": "light"
     },
     "output_type": "display_data"
    },
    {
     "name": "stdout",
     "output_type": "stream",
     "text": [
      "\n",
      "Epoch 02:\n",
      "              precision    recall  f1-score   support\n",
      "\n",
      "           0       0.85      0.66      0.74       914\n",
      "           1       0.94      0.94      0.94      2000\n",
      "           2       0.91      0.97      0.94      3396\n",
      "Epoch 03:\n",
      "\n",
      "Epoch 04:\n",
      "              precision    recall  f1-score   support\n",
      "\n",
      "           0       0.91      0.79      0.84       914\n",
      "           1       0.97      0.97      0.97      2000\n",
      "           2       0.95      0.98      0.96      3396\n",
      "Epoch 05:\n",
      "\n",
      "              precision    recall  f1-score   support\n",
      "\n",
      "           0       0.90      0.74      0.81       914\n",
      "           1       0.97      0.98      0.97      2000\n",
      "           2       0.94      0.98      0.96      3396\n",
      "           \n",
      "Epoch 06:\n",
      "              precision    recall  f1-score   support\n",
      "\n",
      "           0       0.93      0.80      0.86       914\n",
      "           1       0.97      0.98      0.98      2000\n",
      "           2       0.95      0.98      0.96      3396\n",
      "Epoch 07:\n",
      "              precision    recall  f1-score   support\n",
      "\n",
      "           0       0.93      0.81      0.87       914\n",
      "           1       0.98      0.99      0.98      2000\n",
      "           2       0.96      0.98      0.97      3396\n",
      "Epoch 08:\n",
      "              precision    recall  f1-score   support\n",
      "\n",
      "           0       0.94      0.83      0.88       914\n",
      "           1       0.98      0.99      0.99      2000\n",
      "           2       0.96      0.98      0.97      3396\n",
      "Epoch 09:\n",
      "              precision    recall  f1-score   support\n",
      "\n",
      "           0       0.94      0.84      0.89       914\n",
      "           1       0.98      0.99      0.99      2000\n",
      "           2       0.96      0.98      0.97      3396\n",
      "Epoch 10:\n",
      "              precision    recall  f1-score   support\n",
      "\n",
      "           0       0.94      0.86      0.90       914\n",
      "           1       0.99      0.99      0.99      2000\n",
      "           2       0.96      0.99      0.97      3396\n",
      "Epoch 11:\n",
      "              precision    recall  f1-score   support\n",
      "\n",
      "           0       0.94      0.87      0.90       914\n",
      "           1       0.99      0.99      0.99      2000\n",
      "           2       0.97      0.99      0.98      3396\n",
      "Epoch 12:\n",
      "              precision    recall  f1-score   support\n",
      "\n",
      "           0       0.95      0.86      0.90       914\n",
      "           1       0.98      0.99      0.99      2000\n",
      "           2       0.97      0.99      0.98      3396\n",
      "Epoch 13:\n",
      "              precision    recall  f1-score   support\n",
      "\n",
      "           0       0.95      0.87      0.91       914\n",
      "           1       0.99      0.99      0.99      2000\n",
      "           2       0.97      0.99      0.98      3396\n",
      "Epoch 14:\n",
      "              precision    recall  f1-score   support\n",
      "\n",
      "           0       0.96      0.86      0.91       914\n",
      "           1       0.99      0.99      0.99      2000\n",
      "           2       0.97      0.99      0.98      3396\n",
      "\n",
      "\n"
     ]
    }
   ],
   "source": [
    "\n",
    "cm = confusion_matrix(list(predicts), list((dataTest.values[:,2]+1)))\n",
    "print(cm)\n",
    "\n",
    "CR = classification_report(list((dataTest.values[:,2]+1)),list(predicts))\n",
    "print(CR)\n",
    "# print((92+90+140+67+42+81)/(6950))\n",
    "# i=0\n",
    "# for j in list(data.values[9500:,2]+1):\n",
    "#     if j==1:\n",
    "#         i +=1\n",
    "# print(i)\n",
    "\n",
    "# plt.show()\n",
    "plot_confusion_matrix_from_data(list((dataTest.values[:,2]+1)), list(predicts))\n",
    "plt.show()\n",
    "print(\n",
    "\"\"\"\n",
    "Epoch 02:\n",
    "              precision    recall  f1-score   support\n",
    "\n",
    "           0       0.85      0.66      0.74       914\n",
    "           1       0.94      0.94      0.94      2000\n",
    "           2       0.91      0.97      0.94      3396\n",
    "Epoch 03:\n",
    "              precision    recall  f1-score   support\n",
    "\n",
    "           0       0.89      0.74      0.81       914\n",
    "           1       0.97      0.97      0.97      2000\n",
    "           2       0.94      0.98      0.96      3396\n",
    "Epoch 04:\n",
    "              precision    recall  f1-score   support\n",
    "\n",
    "           0       0.91      0.79      0.84       914\n",
    "           1       0.97      0.97      0.97      2000\n",
    "           2       0.95      0.98      0.96      3396\n",
    "Epoch 05:\n",
    "\n",
    "              precision    recall  f1-score   support\n",
    "\n",
    "           0       0.90      0.74      0.81       914\n",
    "           1       0.97      0.98      0.97      2000\n",
    "           2       0.94      0.98      0.96      3396\n",
    "           \n",
    "Epoch 06:\n",
    "              precision    recall  f1-score   support\n",
    "\n",
    "           0       0.93      0.80      0.86       914\n",
    "           1       0.97      0.98      0.98      2000\n",
    "           2       0.95      0.98      0.96      3396\n",
    "Epoch 07:\n",
    "              precision    recall  f1-score   support\n",
    "\n",
    "           0       0.93      0.81      0.87       914\n",
    "           1       0.98      0.99      0.98      2000\n",
    "           2       0.96      0.98      0.97      3396\n",
    "Epoch 08:\n",
    "              precision    recall  f1-score   support\n",
    "\n",
    "           0       0.94      0.83      0.88       914\n",
    "           1       0.98      0.99      0.99      2000\n",
    "           2       0.96      0.98      0.97      3396\n",
    "Epoch 09:\n",
    "              precision    recall  f1-score   support\n",
    "\n",
    "           0       0.94      0.84      0.89       914\n",
    "           1       0.98      0.99      0.99      2000\n",
    "           2       0.96      0.98      0.97      3396\n",
    "Epoch 10:\n",
    "              precision    recall  f1-score   support\n",
    "\n",
    "           0       0.94      0.86      0.90       914\n",
    "           1       0.99      0.99      0.99      2000\n",
    "           2       0.96      0.99      0.97      3396\n",
    "Epoch 11:\n",
    "              precision    recall  f1-score   support\n",
    "\n",
    "           0       0.94      0.87      0.90       914\n",
    "           1       0.99      0.99      0.99      2000\n",
    "           2       0.97      0.99      0.98      3396\n",
    "Epoch 12:\n",
    "              precision    recall  f1-score   support\n",
    "\n",
    "           0       0.95      0.86      0.90       914\n",
    "           1       0.98      0.99      0.99      2000\n",
    "           2       0.97      0.99      0.98      3396\n",
    "Epoch 13:\n",
    "              precision    recall  f1-score   support\n",
    "\n",
    "           0       0.95      0.87      0.91       914\n",
    "           1       0.99      0.99      0.99      2000\n",
    "           2       0.97      0.99      0.98      3396\n",
    "Epoch 14:\n",
    "              precision    recall  f1-score   support\n",
    "\n",
    "           0       0.96      0.86      0.91       914\n",
    "           1       0.99      0.99      0.99      2000\n",
    "           2       0.97      0.99      0.98      3396\n",
    "\n",
    "\"\"\"\n",
    ")"
   ]
  },
  {
   "cell_type": "code",
   "execution_count": 265,
   "metadata": {},
   "outputs": [],
   "source": [
    "# print(pd.DataFrame(predit))"
   ]
  },
  {
   "cell_type": "code",
   "execution_count": 283,
   "metadata": {},
   "outputs": [
    {
     "data": {
      "image/png": "[encoded data removed]",
      "text/plain": [
       "<Figure size 432x288 with 1 Axes>"
      ]
     },
     "metadata": {
      "needs_background": "light"
     },
     "output_type": "display_data"
    }
   ],
   "source": [
    "pd.DataFrame(predit).plot.density()\n",
    "plt.show()"
   ]
  },
  {
   "cell_type": "code",
   "execution_count": 284,
   "metadata": {},
   "outputs": [
    {
     "data": {
      "image/png": "[encoded data removed]",
      "text/plain": [
       "<Figure size 432x288 with 1 Axes>"
      ]
     },
     "metadata": {
      "needs_background": "light"
     },
     "output_type": "display_data"
    }
   ],
   "source": [
    "pd.DataFrame(predit).iloc[:,0].plot.density()\n",
    "plt.show()"
   ]
  },
  {
   "cell_type": "code",
   "execution_count": 285,
   "metadata": {},
   "outputs": [
    {
     "data": {
      "image/png": "[encoded data removed]",
      "text/plain": [
       "<Figure size 432x288 with 1 Axes>"
      ]
     },
     "metadata": {
      "needs_background": "light"
     },
     "output_type": "display_data"
    }
   ],
   "source": [
    "pd.DataFrame(predit).iloc[:,1].plot.density()\n",
    "plt.show()"
   ]
  },
  {
   "cell_type": "code",
   "execution_count": 286,
   "metadata": {},
   "outputs": [
    {
     "data": {
      "image/png": "[encoded data removed]",
      "text/plain": [
       "<Figure size 432x288 with 1 Axes>"
      ]
     },
     "metadata": {
      "needs_background": "light"
     },
     "output_type": "display_data"
    }
   ],
   "source": [
    "pd.DataFrame(predit).iloc[:,2].plot.density()\n",
    "plt.show()"
   ]
  },
  {
   "cell_type": "code",
   "execution_count": 287,
   "metadata": {},
   "outputs": [
    {
     "data": {
      "image/png": "[encoded data removed]",
      "text/plain": [
       "<Figure size 1152x576 with 1 Axes>"
      ]
     },
     "metadata": {
      "needs_background": "light"
     },
     "output_type": "display_data"
    }
   ],
   "source": [
    "\n",
    "fig, ax = plt.subplots()\n",
    "fig.set_size_inches(16,8)\n",
    "\n",
    "# matplotlib histogram\n",
    "# plt.hist(pd.DataFrame(predit).iloc[:,1], color = 'blue', edgecolor = 'black',\n",
    "#          bins = int(200))\n",
    "\n",
    "# seaborn histogram\n",
    "\n",
    "sns.distplot(pd.DataFrame(predit).iloc[:,0], hist=True, kde=False, \n",
    "             bins=int(100), color = 'red',\n",
    "             hist_kws={'edgecolor':'black'})\n",
    "# sns.distplot(pd.DataFrame(predit).iloc[:,0], hist=True, kde=True, \n",
    "#              bins=int(200), color = 'darkblue', \n",
    "#              hist_kws={'edgecolor':'black'},\n",
    "#              kde_kws={'linewidth': 4})\n",
    "# Add labels\n",
    "plt.title('frequency Histogram of Drugs')\n",
    "plt.xlabel('Degressive drugs Probability')\n",
    "plt.ylabel('frequency distribution')\n",
    "plt.show()"
   ]
  },
  {
   "cell_type": "code",
   "execution_count": 288,
   "metadata": {},
   "outputs": [
    {
     "data": {
      "image/png": "[encoded data removed]",
      "text/plain": [
       "<Figure size 1152x576 with 1 Axes>"
      ]
     },
     "metadata": {
      "needs_background": "light"
     },
     "output_type": "display_data"
    }
   ],
   "source": [
    "fig, ax = plt.subplots()\n",
    "fig.set_size_inches(16, 8)\n",
    "\n",
    "# matplotlib histogram\n",
    "# plt.hist(pd.DataFrame(predit).iloc[:,1], color = 'blue', edgecolor = 'black',\n",
    "#          bins = int(200))\n",
    "\n",
    "# seaborn histogram\n",
    "sns.distplot(pd.DataFrame(predit).iloc[:,1], hist=True, kde=False, \n",
    "             bins=int(100), color = 'blue',\n",
    "             hist_kws={'edgecolor':'black'})\n",
    "\n",
    "# sns.distplot(pd.DataFrame(predit).iloc[:,0], hist=True, kde=True, \n",
    "#              bins=int(200), color = 'darkblue', \n",
    "#              hist_kws={'edgecolor':'black'},\n",
    "#              kde_kws={'linewidth': 4})\n",
    "# Add labels\n",
    "plt.title('frequency Histogram of Drugs')\n",
    "plt.xlabel('Enhancive drugs Probability')\n",
    "plt.ylabel('frequency distribution')\n",
    "plt.show()"
   ]
  },
  {
   "cell_type": "code",
   "execution_count": 289,
   "metadata": {},
   "outputs": [
    {
     "data": {
      "image/png": "[encoded data removed]",
      "text/plain": [
       "<Figure size 1152x576 with 1 Axes>"
      ]
     },
     "metadata": {
      "needs_background": "light"
     },
     "output_type": "display_data"
    }
   ],
   "source": [
    "\n",
    "fig, ax = plt.subplots()\n",
    "fig.set_size_inches(16,8)\n",
    "\n",
    "# matplotlib histogram\n",
    "# plt.hist(pd.DataFrame(predit).iloc[:,1], color = 'blue', edgecolor = 'black',\n",
    "#          bins = int(200))\n",
    "\n",
    "# seaborn histogram\n",
    "\n",
    "sns.distplot(pd.DataFrame(predit).iloc[:,2], hist=True, kde=False, \n",
    "             bins=int(100), color = 'red',\n",
    "             hist_kws={'edgecolor':'black'})\n",
    "# sns.distplot(pd.DataFrame(predit).iloc[:,0], hist=True, kde=True, \n",
    "#              bins=int(200), color = 'darkblue', \n",
    "#              hist_kws={'edgecolor':'black'},\n",
    "#              kde_kws={'linewidth': 4})\n",
    "# Add labels\n",
    "plt.title('frequency Histogram of Drugs')\n",
    "plt.xlabel('Zero drugs Probability')\n",
    "plt.ylabel('frequency distribution')\n",
    "plt.show()"
   ]
  },
  {
   "cell_type": "code",
   "execution_count": 290,
   "metadata": {},
   "outputs": [
    {
     "data": {
      "image/png": "[encoded data removed]",
      "text/plain": [
       "<Figure size 1152x576 with 1 Axes>"
      ]
     },
     "metadata": {
      "needs_background": "light"
     },
     "output_type": "display_data"
    }
   ],
   "source": [
    "\n",
    "fig, ax = plt.subplots()\n",
    "fig.set_size_inches(16,8)\n",
    "\n",
    "# matplotlib histogram\n",
    "# plt.hist(pd.DataFrame(predit).iloc[:,1], color = 'blue', edgecolor = 'black',\n",
    "#          bins = int(200))\n",
    "\n",
    "# seaborn histogram\n",
    "sns.distplot(pd.DataFrame(predit).iloc[:,1], hist=True, kde=False, \n",
    "             bins=int(100), color = 'blue',\n",
    "             hist_kws={'edgecolor':'black'})\n",
    "\n",
    "sns.distplot(pd.DataFrame(predit).iloc[:,0], hist=True, kde=False, \n",
    "             bins=int(100), color = 'red',\n",
    "             hist_kws={'edgecolor':'black'})\n",
    "\n",
    "sns.distplot(pd.DataFrame(predit).iloc[:,2], hist=True, kde=False, \n",
    "             bins=int(100), color = 'red',\n",
    "             hist_kws={'edgecolor':'black'})\n",
    "# sns.distplot(pd.DataFrame(predit).iloc[:,0], hist=True, kde=True, \n",
    "#              bins=int(200), color = 'darkblue', \n",
    "#              hist_kws={'edgecolor':'black'},\n",
    "#              kde_kws={'linewidth': 4})\n",
    "# Add labels\n",
    "plt.title('frequency Histogram of Drugs')\n",
    "plt.xlabel('both of Degressive and Enhancive drugs Probability')\n",
    "plt.ylabel('frequency distribution')\n",
    "plt.show()"
   ]
  },
  {
   "cell_type": "code",
   "execution_count": null,
   "metadata": {},
   "outputs": [],
   "source": []
  }
 ],
 "metadata": {
  "kernelspec": {
   "display_name": "Python 3 (ipykernel)",
   "language": "python",
   "name": "python3"
  },
  "language_info": {
   "codemirror_mode": {
    "name": "ipython",
    "version": 3
   },
   "file_extension": ".py",
   "mimetype": "text/x-python",
   "name": "python",
   "nbconvert_exporter": "python",
   "pygments_lexer": "ipython3",
   "version": "3.8.10"
  }
 },
 "nbformat": 4,
 "nbformat_minor": 2
}
