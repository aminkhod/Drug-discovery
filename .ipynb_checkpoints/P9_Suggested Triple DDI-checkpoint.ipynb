{
 "cells": [
  {
   "cell_type": "code",
   "execution_count": 1,
   "metadata": {},
   "outputs": [],
   "source": [
    "import numpy as np\n",
    "import pandas as pd"
   ]
  },
  {
   "cell_type": "code",
   "execution_count": 14,
   "metadata": {},
   "outputs": [],
   "source": [
    "pd.read_csv('triple_cosineSNF(zeros)_rivised.csv').iloc[:,0:2].to_csv('zero drug pairs.csv', index = False)"
   ]
  },
  {
   "cell_type": "code",
   "execution_count": 25,
   "metadata": {},
   "outputs": [
    {
     "data": {
      "text/html": [
       "<div>\n",
       "<style scoped>\n",
       "    .dataframe tbody tr th:only-of-type {\n",
       "        vertical-align: middle;\n",
       "    }\n",
       "\n",
       "    .dataframe tbody tr th {\n",
       "        vertical-align: top;\n",
       "    }\n",
       "\n",
       "    .dataframe thead th {\n",
       "        text-align: right;\n",
       "    }\n",
       "</style>\n",
       "<table border=\"1\" class=\"dataframe\">\n",
       "  <thead>\n",
       "    <tr style=\"text-align: right;\">\n",
       "      <th></th>\n",
       "      <th>i</th>\n",
       "      <th>j</th>\n",
       "    </tr>\n",
       "  </thead>\n",
       "  <tbody>\n",
       "    <tr>\n",
       "      <th>0</th>\n",
       "      <td>DB00115</td>\n",
       "      <td>DB00130</td>\n",
       "    </tr>\n",
       "    <tr>\n",
       "      <th>1</th>\n",
       "      <td>DB00115</td>\n",
       "      <td>DB00136</td>\n",
       "    </tr>\n",
       "    <tr>\n",
       "      <th>2</th>\n",
       "      <td>DB00115</td>\n",
       "      <td>DB00153</td>\n",
       "    </tr>\n",
       "    <tr>\n",
       "      <th>3</th>\n",
       "      <td>DB00115</td>\n",
       "      <td>DB00158</td>\n",
       "    </tr>\n",
       "    <tr>\n",
       "      <th>4</th>\n",
       "      <td>DB00115</td>\n",
       "      <td>DB00162</td>\n",
       "    </tr>\n",
       "  </tbody>\n",
       "</table>\n",
       "</div>"
      ],
      "text/plain": [
       "         i        j\n",
       "0  DB00115  DB00130\n",
       "1  DB00115  DB00136\n",
       "2  DB00115  DB00153\n",
       "3  DB00115  DB00158\n",
       "4  DB00115  DB00162"
      ]
     },
     "execution_count": 25,
     "metadata": {},
     "output_type": "execute_result"
    }
   ],
   "source": [
    "zeroDrugPairs = pd.read_csv('zero drug pairs.csv')\n",
    "zeroDrugPairs = zeroDrugPairs.rename(columns={'0': \"i\", \"1\": \"j\"})\n",
    "\n",
    "zeroDrugPairs.head()"
   ]
  },
  {
   "cell_type": "code",
   "execution_count": 32,
   "metadata": {},
   "outputs": [
    {
     "data": {
      "text/html": [
       "<div>\n",
       "<style scoped>\n",
       "    .dataframe tbody tr th:only-of-type {\n",
       "        vertical-align: middle;\n",
       "    }\n",
       "\n",
       "    .dataframe tbody tr th {\n",
       "        vertical-align: top;\n",
       "    }\n",
       "\n",
       "    .dataframe thead th {\n",
       "        text-align: right;\n",
       "    }\n",
       "</style>\n",
       "<table border=\"1\" class=\"dataframe\">\n",
       "  <thead>\n",
       "    <tr style=\"text-align: right;\">\n",
       "      <th></th>\n",
       "      <th>pMines1</th>\n",
       "      <th>p0</th>\n",
       "      <th>p1</th>\n",
       "      <th>i</th>\n",
       "      <th>j</th>\n",
       "      <th>deg</th>\n",
       "      <th>enh</th>\n",
       "    </tr>\n",
       "  </thead>\n",
       "  <tbody>\n",
       "    <tr>\n",
       "      <th>0</th>\n",
       "      <td>0.513887</td>\n",
       "      <td>0.359214</td>\n",
       "      <td>0.429381</td>\n",
       "      <td>DB00115</td>\n",
       "      <td>DB00130</td>\n",
       "      <td>0.293234</td>\n",
       "      <td>0.208728</td>\n",
       "    </tr>\n",
       "    <tr>\n",
       "      <th>1</th>\n",
       "      <td>0.574993</td>\n",
       "      <td>0.263945</td>\n",
       "      <td>0.490502</td>\n",
       "      <td>DB00115</td>\n",
       "      <td>DB00136</td>\n",
       "      <td>0.292957</td>\n",
       "      <td>0.208467</td>\n",
       "    </tr>\n",
       "    <tr>\n",
       "      <th>2</th>\n",
       "      <td>0.650555</td>\n",
       "      <td>0.474437</td>\n",
       "      <td>0.134744</td>\n",
       "      <td>DB00115</td>\n",
       "      <td>DB00153</td>\n",
       "      <td>0.562897</td>\n",
       "      <td>0.047086</td>\n",
       "    </tr>\n",
       "    <tr>\n",
       "      <th>3</th>\n",
       "      <td>0.649173</td>\n",
       "      <td>0.252102</td>\n",
       "      <td>0.029011</td>\n",
       "      <td>DB00115</td>\n",
       "      <td>DB00158</td>\n",
       "      <td>0.630340</td>\n",
       "      <td>0.010178</td>\n",
       "    </tr>\n",
       "    <tr>\n",
       "      <th>4</th>\n",
       "      <td>0.014712</td>\n",
       "      <td>0.737266</td>\n",
       "      <td>0.047499</td>\n",
       "      <td>DB00115</td>\n",
       "      <td>DB00162</td>\n",
       "      <td>0.014014</td>\n",
       "      <td>0.046800</td>\n",
       "    </tr>\n",
       "  </tbody>\n",
       "</table>\n",
       "</div>"
      ],
      "text/plain": [
       "    pMines1        p0        p1        i        j       deg       enh\n",
       "0  0.513887  0.359214  0.429381  DB00115  DB00130  0.293234  0.208728\n",
       "1  0.574993  0.263945  0.490502  DB00115  DB00136  0.292957  0.208467\n",
       "2  0.650555  0.474437  0.134744  DB00115  DB00153  0.562897  0.047086\n",
       "3  0.649173  0.252102  0.029011  DB00115  DB00158  0.630340  0.010178\n",
       "4  0.014712  0.737266  0.047499  DB00115  DB00162  0.014014  0.046800"
      ]
     },
     "execution_count": 32,
     "metadata": {},
     "output_type": "execute_result"
    }
   ],
   "source": [
    "predict = pd.read_excel('evi_predict_all_without softmax.xlsx')\n",
    "predict = predict.rename(columns={0: \"pMines1\", 1: \"p0\",2:'p1'})\n",
    "deg = predict[\"pMines1\"]*(1-predict['p1'])\n",
    "enh = predict['p1']*(1-predict[\"pMines1\"])\n",
    "predict = predict.join(zeroDrugPairs).join(pd.DataFrame({'deg':deg})).join(pd.DataFrame({'enh':enh}))\n",
    "\n",
    "predict.head()"
   ]
  },
  {
   "cell_type": "code",
   "execution_count": 33,
   "metadata": {},
   "outputs": [],
   "source": [
    "def reduceList(pairList, predictCopy):\n",
    "    dPairs = predictCopy.iloc[pairList,:]\n",
    "    print(dPairs.head())\n",
    "    i = 0\n",
    "    newList = []\n",
    "    seenList = []\n",
    "    while i < len(pairList):\n",
    "        d1, d2 = dPairs.iloc[i][3], dPairs.iloc[i][4]\n",
    "        buf = dPairs[dPairs['i']==d2][dPairs['j']==d1]\n",
    "#         print(buf)\n",
    "        if len(buf) == 1 and (pairList[i] not in seenList) and (list(buf.index)[0] not in seenList):\n",
    "            newList.append(pairList[i])\n",
    "            newList.append(list(buf.index)[0])\n",
    "            seenList.append(list(buf.index)[0])\n",
    "            seenList.append(pairList[i])\n",
    "        else:\n",
    "            seenList.append(pairList[i])\n",
    "        i += 1\n",
    "    return newList, predictCopy.iloc[newList]\n"
   ]
  },
  {
   "cell_type": "code",
   "execution_count": 34,
   "metadata": {},
   "outputs": [
    {
     "name": "stderr",
     "output_type": "stream",
     "text": [
      "/home/amin/.local/lib/python3.6/site-packages/ipykernel_launcher.py:7: UserWarning: Boolean Series key will be reindexed to match DataFrame index.\n",
      "  import sys\n"
     ]
    },
    {
     "data": {
      "text/plain": [
       "255"
      ]
     },
     "execution_count": 34,
     "metadata": {},
     "output_type": "execute_result"
    }
   ],
   "source": [
    "# predict = predict.sort_values(by=['0'], ascending=False)\n",
    "# # predict.head()\n",
    "# degList = list(predict[predict['0']>0.9][predict['2']<0.01].index)\n",
    "# len(degList)\n",
    "# predict = predict.sort_values(by=['deg'], ascending=False).reindex(range(len(predict.iloc[:,0])))\n",
    "# print(predict.head())\n",
    "degList = list(predict[predict['deg']>0.99][predict['p0']<0.1].index)\n",
    "len(degList)"
   ]
  },
  {
   "cell_type": "code",
   "execution_count": 213,
   "metadata": {},
   "outputs": [],
   "source": [
    "# dPairs = zeroDrugPairs.iloc[degList]\n",
    "# dPairs.iloc[0]"
   ]
  },
  {
   "cell_type": "code",
   "execution_count": 214,
   "metadata": {},
   "outputs": [],
   "source": [
    "# i = 150\n",
    "# print(zeroDrugPairs.iloc[i])\n",
    "# d1, d2 = zeroDrugPairs.iloc[i][0], zeroDrugPairs.iloc[i][1]\n",
    "# buf = zeroDrugPairs[zeroDrugPairs['0']==d2][zeroDrugPairs['1']==d1]\n",
    "# # buf = buf[buf['1']==d1]\n",
    "# buf\n",
    "# # list(buf.index)[0]\n",
    "# print(zeroDrugPairs.iloc[3])"
   ]
  },
  {
   "cell_type": "code",
   "execution_count": 36,
   "metadata": {},
   "outputs": [
    {
     "name": "stdout",
     "output_type": "stream",
     "text": [
      "       pMines1        p0        p1        i        j       deg           enh\n",
      "2320  0.999738  0.000287  0.001736  DB00158  DB00379  0.998002  4.552630e-07\n",
      "2353  0.998534  0.001611  0.006786  DB00158  DB00446  0.991758  9.946704e-06\n",
      "2428  0.997534  0.008870  0.005957  DB00158  DB00648  0.991592  1.468998e-05\n",
      "2850  0.993657  0.001433  0.003316  DB00162  DB00379  0.990362  2.103150e-05\n",
      "9321  0.999597  0.000609  0.004225  DB00197  DB00379  0.995373  1.703460e-06\n"
     ]
    },
    {
     "name": "stderr",
     "output_type": "stream",
     "text": [
      "/home/amin/.local/lib/python3.6/site-packages/ipykernel_launcher.py:9: UserWarning: Boolean Series key will be reindexed to match DataFrame index.\n",
      "  if __name__ == '__main__':\n"
     ]
    },
    {
     "data": {
      "text/plain": [
       "(136, 7)"
      ]
     },
     "execution_count": 36,
     "metadata": {},
     "output_type": "execute_result"
    }
   ],
   "source": [
    "newDegList, newDegData = reduceList(degList.copy(), predict.copy())\n",
    "# print(newDegList)\n",
    "newDegData.shape"
   ]
  },
  {
   "cell_type": "code",
   "execution_count": 205,
   "metadata": {},
   "outputs": [
    {
     "data": {
      "text/plain": [
       "176.0"
      ]
     },
     "execution_count": 205,
     "metadata": {},
     "output_type": "execute_result"
    }
   ],
   "source": [
    "352/2"
   ]
  },
  {
   "cell_type": "code",
   "execution_count": 37,
   "metadata": {},
   "outputs": [],
   "source": [
    "dropList = list(range(0, newDegData.shape[0], 2))\n",
    "newDegData.iloc[dropList,:].to_csv('suggested Degressive.csv', index=False)"
   ]
  },
  {
   "cell_type": "code",
   "execution_count": 38,
   "metadata": {},
   "outputs": [],
   "source": [
    "# predict = pd.read_excel('predict_allTrain_epoch10.xlsx')"
   ]
  },
  {
   "cell_type": "code",
   "execution_count": 40,
   "metadata": {},
   "outputs": [
    {
     "name": "stderr",
     "output_type": "stream",
     "text": [
      "/home/amin/.local/lib/python3.6/site-packages/ipykernel_launcher.py:6: UserWarning: Boolean Series key will be reindexed to match DataFrame index.\n",
      "  \n"
     ]
    },
    {
     "data": {
      "text/plain": [
       "22508"
      ]
     },
     "execution_count": 40,
     "metadata": {},
     "output_type": "execute_result"
    }
   ],
   "source": [
    "# predict = predict.sort_values(by=['2'], ascending=False)\n",
    "# enhList = list(predict[predict['2']>0.99][predict['0']<0.05].index)\n",
    "# len(enhList)\n",
    "# predict = predict.sort_values(by=['inh'], ascending=False).reindex(range(len(predict.iloc[:,0])))\n",
    "# print(predict.head())\n",
    "enhList = list(predict[predict['enh']>0.99][predict['p0']<0.1].index)\n",
    "len(enhList)"
   ]
  },
  {
   "cell_type": "code",
   "execution_count": 42,
   "metadata": {},
   "outputs": [
    {
     "name": "stdout",
     "output_type": "stream",
     "text": [
      "      pMines1        p0        p1        i        j           deg       enh\n",
      "76   0.002150  0.025013  0.995085  DB00115  DB00350  1.056717e-05  0.992946\n",
      "150  0.004115  0.015522  0.997172  DB00115  DB00512  1.163959e-05  0.993068\n",
      "175  0.000090  0.000439  0.998643  DB00115  DB00556  1.216478e-07  0.998553\n",
      "241  0.002713  0.007125  0.994095  DB00115  DB00727  1.601941e-05  0.991398\n",
      "633  0.002984  0.027158  0.995129  DB00130  DB00350  1.453588e-05  0.992159\n"
     ]
    },
    {
     "name": "stderr",
     "output_type": "stream",
     "text": [
      "/home/amin/.local/lib/python3.6/site-packages/ipykernel_launcher.py:9: UserWarning: Boolean Series key will be reindexed to match DataFrame index.\n",
      "  if __name__ == '__main__':\n"
     ]
    },
    {
     "data": {
      "text/plain": [
       "(17766, 7)"
      ]
     },
     "execution_count": 42,
     "metadata": {},
     "output_type": "execute_result"
    }
   ],
   "source": [
    "newEnhList, newenhData = reduceList(enhList.copy(), predict.copy())\n",
    "# print(newEnhList)\n",
    "newenhData.shape"
   ]
  },
  {
   "cell_type": "code",
   "execution_count": 43,
   "metadata": {},
   "outputs": [],
   "source": [
    "dropList = list(range(1, newenhData.shape[0], 2))\n",
    "newenhData.iloc[dropList,:].to_csv('suggested Enhancive.csv', index=False)"
   ]
  },
  {
   "cell_type": "code",
   "execution_count": 44,
   "metadata": {},
   "outputs": [
    {
     "data": {
      "text/html": [
       "<div>\n",
       "<style scoped>\n",
       "    .dataframe tbody tr th:only-of-type {\n",
       "        vertical-align: middle;\n",
       "    }\n",
       "\n",
       "    .dataframe tbody tr th {\n",
       "        vertical-align: top;\n",
       "    }\n",
       "\n",
       "    .dataframe thead th {\n",
       "        text-align: right;\n",
       "    }\n",
       "</style>\n",
       "<table border=\"1\" class=\"dataframe\">\n",
       "  <thead>\n",
       "    <tr style=\"text-align: right;\">\n",
       "      <th></th>\n",
       "      <th>pMines1</th>\n",
       "      <th>p0</th>\n",
       "      <th>p1</th>\n",
       "      <th>i</th>\n",
       "      <th>j</th>\n",
       "      <th>deg</th>\n",
       "      <th>enh</th>\n",
       "    </tr>\n",
       "  </thead>\n",
       "  <tbody>\n",
       "    <tr>\n",
       "      <th>159189</th>\n",
       "      <td>0.002832</td>\n",
       "      <td>0.000005</td>\n",
       "      <td>0.997585</td>\n",
       "      <td>DB00935</td>\n",
       "      <td>DB00519</td>\n",
       "      <td>0.000007</td>\n",
       "      <td>0.99476</td>\n",
       "    </tr>\n",
       "  </tbody>\n",
       "</table>\n",
       "</div>"
      ],
      "text/plain": [
       "         pMines1        p0        p1        i        j       deg      enh\n",
       "159189  0.002832  0.000005  0.997585  DB00935  DB00519  0.000007  0.99476"
      ]
     },
     "execution_count": 44,
     "metadata": {},
     "output_type": "execute_result"
    }
   ],
   "source": [
    "predict.iloc[[159189]]"
   ]
  },
  {
   "cell_type": "code",
   "execution_count": 220,
   "metadata": {},
   "outputs": [
    {
     "data": {
      "text/plain": [
       "2238.0"
      ]
     },
     "execution_count": 220,
     "metadata": {},
     "output_type": "execute_result"
    }
   ],
   "source": [
    "4476/2"
   ]
  },
  {
   "cell_type": "code",
   "execution_count": null,
   "metadata": {},
   "outputs": [],
   "source": []
  }
 ],
 "metadata": {
  "kernelspec": {
   "display_name": "Python 3 (ipykernel)",
   "language": "python",
   "name": "python3"
  },
  "language_info": {
   "codemirror_mode": {
    "name": "ipython",
    "version": 3
   },
   "file_extension": ".py",
   "mimetype": "text/x-python",
   "name": "python",
   "nbconvert_exporter": "python",
   "pygments_lexer": "ipython3",
   "version": "3.8.10"
  }
 },
 "nbformat": 4,
 "nbformat_minor": 4
}
