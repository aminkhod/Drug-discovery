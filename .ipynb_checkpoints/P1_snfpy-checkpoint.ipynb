{
 "cells": [
  {
   "cell_type": "code",
   "execution_count": 2,
   "metadata": {},
   "outputs": [],
   "source": [
    "from snf import datasets\n",
    "import numpy as np\n",
    "import pandas as pd\n",
    "import snf\n",
    "from snf import compute\n",
    "import sklearn"
   ]
  },
  {
   "cell_type": "code",
   "execution_count": 3,
   "metadata": {},
   "outputs": [
    {
     "data": {
      "text/plain": [
       "dict_keys(['data', 'labels'])"
      ]
     },
     "execution_count": 3,
     "metadata": {},
     "output_type": "execute_result"
    }
   ],
   "source": [
    "# digits = datasets.load_digits()\n",
    "# digits.keys()"
   ]
  },
  {
   "cell_type": "code",
   "execution_count": 4,
   "metadata": {},
   "outputs": [
    {
     "name": "stdout",
     "output_type": "stream",
     "text": [
      "(600, 76)\n",
      "(600, 240)\n",
      "(600, 216)\n",
      "(600, 47)\n"
     ]
    }
   ],
   "source": [
    "# for arr in digits.data:\n",
    "#     print(arr.shape)"
   ]
  },
  {
   "cell_type": "code",
   "execution_count": 5,
   "metadata": {},
   "outputs": [],
   "source": [
    "# groups, samples = np.unique(digits.labels, return_counts=True)"
   ]
  },
  {
   "cell_type": "code",
   "execution_count": 6,
   "metadata": {},
   "outputs": [
    {
     "name": "stdout",
     "output_type": "stream",
     "text": [
      "Group 0: 200 samples\n",
      "Group 1: 200 samples\n",
      "Group 2: 200 samples\n"
     ]
    }
   ],
   "source": [
    "# for grp, count in zip(groups, samples):\n",
    "#     print('Group {:.0f}: {} samples'.format(grp, count))"
   ]
  },
  {
   "cell_type": "code",
   "execution_count": 4,
   "metadata": {},
   "outputs": [
    {
     "name": "stdout",
     "output_type": "stream",
     "text": [
      "       0         4         8         12        16        20        24    \\\n",
      "0  1.000000  0.233333  0.127451  0.141667  0.223140  0.428571  0.557692   \n",
      "1  0.233333  1.000000  0.071429  0.100775  0.141791  0.182432  0.167832   \n",
      "2  0.127451  0.071429  1.000000  0.500000  0.121622  0.141304  0.154762   \n",
      "3  0.141667  0.100775  0.500000  1.000000  0.141304  0.209524  0.293478   \n",
      "4  0.223140  0.141791  0.121622  0.141304  1.000000  0.200000  0.300000   \n",
      "\n",
      "       28        32        36    ...      2792      2796      2800      2804  \\\n",
      "0  0.167883  0.406250  0.266667  ...  0.417476  0.451219  0.356250  0.306122   \n",
      "1  0.107383  0.147541  0.112150  ...  0.126866  0.221106  0.283237  0.231481   \n",
      "2  0.266667  0.166667  0.113636  ...  0.173913  0.094937  0.101449  0.067797   \n",
      "3  0.444444  0.243243  0.075758  ...  0.211765  0.211180  0.208333  0.049383   \n",
      "4  0.207547  0.303797  0.322581  ...  0.151515  0.197674  0.225166  0.185185   \n",
      "\n",
      "       2808      2812      2816      2820      2824      2828  \n",
      "0  0.165138  0.314286  0.408000  0.083333  0.168067  0.353383  \n",
      "1  0.081967  0.125984  0.183007  0.058252  0.082707  0.241611  \n",
      "2  0.512195  0.042857  0.121212  0.258065  0.213115  0.197917  \n",
      "3  0.500000  0.032609  0.231481  0.270833  0.200000  0.304762  \n",
      "4  0.144578  0.247059  0.274336  0.200000  0.150538  0.213115  \n",
      "\n",
      "[5 rows x 708 columns]\n",
      "   0     1     2     3     4     5     6     7     8     9     ...  4182  \\\n",
      "0     0     0     0     0     0     0     0     0     0     0  ...     0   \n",
      "1     0     0     0     0     0     0     0     0     0     0  ...     0   \n",
      "2     0     1     0     0     0     0     0     0     0     0  ...     0   \n",
      "3     0     1     0     1     0     0     0     0     0     0  ...     0   \n",
      "4     1     0     0     1     0     0     0     0     1     1  ...     0   \n",
      "\n",
      "   4183  4184  4185  4186  4187  4188  4189  4190  4191  \n",
      "0     0     0     0     0     0     0     0     0     0  \n",
      "1     0     0     0     0     0     0     0     0     0  \n",
      "2     0     0     0     0     0     0     0     0     0  \n",
      "3     0     0     0     0     0     0     0     0     0  \n",
      "4     0     0     0     0     0     0     0     0     0  \n",
      "\n",
      "[5 rows x 4192 columns]\n",
      "(708, 1512)\n"
     ]
    }
   ],
   "source": [
    "chemstracture = pd.read_csv('data/Drug disease/drug sim/Similarity_Matrix_Drugs chem stracture.txt',sep=' ', header=None)\n",
    "# Phenotype = Phenotype.drop([1627],axis=1)\n",
    "chemstracture = chemstracture.dropna(axis=1)\n",
    "print(chemstracture.head())\n",
    "\n",
    "\n",
    "sideeffect = pd.read_csv('data/Drug disease/drug sim/mat_drug_side effect.txt',sep=' ', header=None)\n",
    "print(sideeffect.head())\n",
    "sideeffect = sideeffect.replace(np.nan,0)\n",
    "\n",
    "protein = pd.read_csv('data/Drug disease/drug sim/mat_drug_protein.txt',sep=' ', header=None)\n",
    "print(protein.shape)\n"
   ]
  },
  {
   "cell_type": "code",
   "execution_count": 5,
   "metadata": {},
   "outputs": [],
   "source": [
    "# Phenotype = pd.read_csv('data/Drug disease/disease sim/mat_disease Phenotype.txt',sep='\\t', header=None)\n",
    "# Phenotype = Phenotype.drop([1627],axis=1)\n",
    "# print(Phenotype.head())\n",
    "# protein = pd.read_csv('data/Drug disease/disease sim/mat_disease_protein.txt',sep='\\t', header=None)\n",
    "# print(protein.head())"
   ]
  },
  {
   "cell_type": "code",
   "execution_count": 6,
   "metadata": {},
   "outputs": [
    {
     "data": {
      "text/plain": [
       "[array([[1.        , 0.92137518, 0.75500741, ..., 0.75161357, 0.89894462,\n",
       "         0.93931138],\n",
       "        [0.92137518, 1.        , 0.70463938, ..., 0.70317021, 0.83721075,\n",
       "         0.9213436 ],\n",
       "        [0.75500741, 0.70463938, 1.        , ..., 0.85879193, 0.89489112,\n",
       "         0.82001329],\n",
       "        ...,\n",
       "        [0.75161357, 0.70317021, 0.85879193, ..., 1.        , 0.84653042,\n",
       "         0.77960212],\n",
       "        [0.89894462, 0.83721075, 0.89489112, ..., 0.84653042, 1.        ,\n",
       "         0.9035045 ],\n",
       "        [0.93931138, 0.9213436 , 0.82001329, ..., 0.77960212, 0.9035045 ,\n",
       "         1.        ]]),\n",
       " array([[1., 0., 0., ..., 0., 0., 0.],\n",
       "        [0., 0., 0., ..., 0., 0., 0.],\n",
       "        [0., 0., 1., ..., 0., 0., 0.],\n",
       "        ...,\n",
       "        [0., 0., 0., ..., 0., 0., 0.],\n",
       "        [0., 0., 0., ..., 0., 0., 0.],\n",
       "        [0., 0., 0., ..., 0., 0., 1.]]),\n",
       " array([[1., 0., 0., ..., 0., 0., 0.],\n",
       "        [0., 0., 0., ..., 0., 0., 0.],\n",
       "        [0., 0., 1., ..., 0., 0., 0.],\n",
       "        ...,\n",
       "        [0., 0., 0., ..., 0., 0., 0.],\n",
       "        [0., 0., 0., ..., 0., 0., 0.],\n",
       "        [0., 0., 0., ..., 0., 0., 1.]])]"
      ]
     },
     "execution_count": 6,
     "metadata": {},
     "output_type": "execute_result"
    }
   ],
   "source": [
    "\n",
    "# print(offsidesF.isnull().sum().sum())\n",
    "protein = np.array(protein.values, dtype=np.float64)\n",
    "chemstracture = np.array(chemstracture.values, dtype=np.float64)\n",
    "sideeffect = np.array(sideeffect.values, dtype=np.float64)\n",
    "\n",
    "proteinSim = sklearn.metrics.pairwise.cosine_similarity(protein, Y=None, dense_output=True)\n",
    "# chemstractureSim = sklearn.metrics.pairwise.cosine_similarity(chemstracture, Y=None, dense_output=True)\n",
    "chemstractureSim = chemstracture.copy()\n",
    "sideeffectSim = sklearn.metrics.pairwise.cosine_similarity(protein, Y=None, dense_output=True)\n",
    "data = [chemstractureSim, proteinSim, sideeffectSim]\n",
    "data"
   ]
  },
  {
   "cell_type": "code",
   "execution_count": 7,
   "metadata": {},
   "outputs": [],
   "source": [
    "# affinity_networks = compute.make_affinity(data, metric='cosine', K=9150, mu=0.5,normalize=True)\n",
    "# # simcosine = pd.DataFrame(affinity_networks)\n",
    "# # simcosine.to_csv(\"cosineSim.csv\",index=False)"
   ]
  },
  {
   "cell_type": "code",
   "execution_count": 8,
   "metadata": {},
   "outputs": [],
   "source": [
    "# len(affinity_networks[1])"
   ]
  },
  {
   "cell_type": "code",
   "execution_count": 9,
   "metadata": {},
   "outputs": [],
   "source": [
    "for grp, count in zip(groups, samples):\n",
    "#     print('Group {:.0f}: {} samples'.format(grp, count))# chem =  np.array(pd.read_csv('chem_Jacarrd_sim.csv', header=-1))\n",
    "# enzyme =  np.array(pd.read_csv('enzyme_Jacarrd_sim.csv', header=-1))\n",
    "# # chem = array(chem,enzyme)\n",
    "# affinity_network = [chem,enzyme]"
   ]
  },
  {
   "cell_type": "code",
   "execution_count": 10,
   "metadata": {},
   "outputs": [
    {
     "name": "stderr",
     "output_type": "stream",
     "text": [
      "/home/amin/.local/lib/python3.8/site-packages/snf/compute.py:401: RuntimeWarning: invalid value encountered in true_divide\n",
      "  mat = mat / np.nansum(mat, axis=1, keepdims=True)\n"
     ]
    }
   ],
   "source": [
    "fused_network = snf.snf(data, K=20)"
   ]
  },
  {
   "cell_type": "code",
   "execution_count": 11,
   "metadata": {},
   "outputs": [
    {
     "data": {
      "text/plain": [
       "(708, 708)"
      ]
     },
     "execution_count": 11,
     "metadata": {},
     "output_type": "execute_result"
    }
   ],
   "source": [
    "fused_network.shape"
   ]
  },
  {
   "cell_type": "code",
   "execution_count": 12,
   "metadata": {},
   "outputs": [
    {
     "data": {
      "text/plain": [
       "array([[6.80784551e-01, 4.22887259e-04, 1.46532303e-03, ...,\n",
       "        3.53902873e-04, 3.92028636e-04, 1.53527157e-03],\n",
       "       [4.22887259e-04, 7.92566226e-01, 3.35408827e-04, ...,\n",
       "        3.63634276e-04, 3.81223556e-04, 4.33499956e-04],\n",
       "       [1.46532303e-03, 3.35408827e-04, 6.12446405e-01, ...,\n",
       "        1.71330057e-03, 6.80083532e-03, 3.59153822e-03],\n",
       "       ...,\n",
       "       [3.53902873e-04, 3.63634276e-04, 1.71330057e-03, ...,\n",
       "        7.52984947e-01, 1.99698440e-03, 1.12674124e-03],\n",
       "       [3.92028636e-04, 3.81223556e-04, 6.80083532e-03, ...,\n",
       "        1.99698440e-03, 6.50544376e-01, 1.03564516e-03],\n",
       "       [1.53527157e-03, 4.33499956e-04, 3.59153822e-03, ...,\n",
       "        1.12674124e-03, 1.03564516e-03, 5.88170326e-01]])"
      ]
     },
     "execution_count": 12,
     "metadata": {},
     "output_type": "execute_result"
    }
   ],
   "source": [
    "fused_network"
   ]
  },
  {
   "cell_type": "code",
   "execution_count": 13,
   "metadata": {},
   "outputs": [],
   "source": [
    "# digits.data"
   ]
  },
  {
   "cell_type": "code",
   "execution_count": 14,
   "metadata": {},
   "outputs": [],
   "source": [
    "fused_network = pd.DataFrame(fused_network)\n",
    "fused_network.to_csv('CosineSNF(chemstractureSim_proteinSim_sideeffectSim).csv',index = False,header=False)"
   ]
  },
  {
   "cell_type": "code",
   "execution_count": null,
   "metadata": {},
   "outputs": [],
   "source": []
  }
 ],
 "metadata": {
  "kernelspec": {
   "display_name": "Python 3 (ipykernel)",
   "language": "python",
   "name": "python3"
  },
  "language_info": {
   "codemirror_mode": {
    "name": "ipython",
    "version": 3
   },
   "file_extension": ".py",
   "mimetype": "text/x-python",
   "name": "python",
   "nbconvert_exporter": "python",
   "pygments_lexer": "ipython3",
   "version": "3.8.10"
  }
 },
 "nbformat": 4,
 "nbformat_minor": 2
}
