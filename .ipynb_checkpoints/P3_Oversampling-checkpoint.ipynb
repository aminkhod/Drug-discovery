{
 "cells": [
  {
   "cell_type": "code",
   "execution_count": 1,
   "id": "bbb66179",
   "metadata": {},
   "outputs": [],
   "source": [
    "import pandas as pd\n",
    "import numpy as np\n",
    "from sklearn.utils import shuffle"
   ]
  },
  {
   "cell_type": "code",
   "execution_count": 2,
   "id": "e0f5ab7a",
   "metadata": {},
   "outputs": [],
   "source": [
    "df = pd.read_csv('../saved F(Drug-Disease).csv', header=None)"
   ]
  },
  {
   "cell_type": "code",
   "execution_count": 3,
   "id": "4325427b",
   "metadata": {},
   "outputs": [
    {
     "data": {
      "text/plain": [
       "0    183676\n",
       "1      1933\n",
       "Name: 2, dtype: int64"
      ]
     },
     "execution_count": 3,
     "metadata": {},
     "output_type": "execute_result"
    }
   ],
   "source": [
    "df.iloc[:,2].value_counts()"
   ]
  },
  {
   "cell_type": "code",
   "execution_count": 4,
   "id": "f4f14f65",
   "metadata": {},
   "outputs": [],
   "source": [
    "classOne = shuffle(df[df[2]==1])\n",
    "classZero = shuffle(df[df[2]==0])\n",
    "del df\n",
    "testClassOne = classOne.iloc[:int(len(classOne)/10), :]\n",
    "testClassZero = classZero.iloc[:int(len(classZero)/10), :]\n",
    "testData = shuffle(pd.concat([testClassOne, testClassZero] , ignore_index=True))\n",
    "del testClassZero\n",
    "testData.to_csv('../Drug_disease_testData.csv', index=False)\n",
    "del testData\n"
   ]
  },
  {
   "cell_type": "code",
   "execution_count": 5,
   "id": "074ec973",
   "metadata": {},
   "outputs": [],
   "source": [
    "trainClassOne = classOne.iloc[int(len(classOne)/10):, :]\n",
    "trainClassZero = classZero.iloc[int(len(classZero)/10):, :]\n",
    "del classOne\n",
    "del classZero\n",
    "trainData = shuffle(pd.concat([trainClassOne, trainClassZero] , ignore_index=True))\n",
    "del trainClassZero\n"
   ]
  },
  {
   "cell_type": "code",
   "execution_count": 7,
   "id": "89f7e8c0",
   "metadata": {},
   "outputs": [
    {
     "name": "stdout",
     "output_type": "stream",
     "text": [
      "(167049, 909)\n"
     ]
    }
   ],
   "source": [
    "trainData.to_csv('../Drug_disease_trainData.csv', index=False)\n",
    "print(trainData.shape)\n",
    "del trainData"
   ]
  },
  {
   "cell_type": "code",
   "execution_count": 8,
   "id": "13facdf3",
   "metadata": {},
   "outputs": [
    {
     "name": "stdout",
     "output_type": "stream",
     "text": [
      "(167049, 909)\n"
     ]
    }
   ],
   "source": [
    "# Dividing the data into X and Y\n",
    "df = pd.read_csv('../Drug_disease_trainData.csv')\n",
    "print(df.shape)\n",
    "X_train = df.drop(['2'], axis=1)\n",
    "y_train = df['2']\n",
    "del df"
   ]
  },
  {
   "cell_type": "code",
   "execution_count": 9,
   "id": "51dcf371",
   "metadata": {},
   "outputs": [
    {
     "data": {
      "text/plain": [
       "0         0\n",
       "1         0\n",
       "2         0\n",
       "3         0\n",
       "4         0\n",
       "         ..\n",
       "167044    0\n",
       "167045    0\n",
       "167046    0\n",
       "167047    0\n",
       "167048    0\n",
       "Name: 2, Length: 167049, dtype: int64"
      ]
     },
     "execution_count": 9,
     "metadata": {},
     "output_type": "execute_result"
    }
   ],
   "source": [
    "y_train"
   ]
  },
  {
   "cell_type": "code",
   "execution_count": 10,
   "id": "fc9af2fc",
   "metadata": {},
   "outputs": [
    {
     "data": {
      "text/plain": [
       "0    165309\n",
       "1      1740\n",
       "Name: 2, dtype: int64"
      ]
     },
     "execution_count": 10,
     "metadata": {},
     "output_type": "execute_result"
    }
   ],
   "source": [
    "y_train.value_counts()"
   ]
  },
  {
   "cell_type": "code",
   "execution_count": 13,
   "id": "28c0227a",
   "metadata": {},
   "outputs": [
    {
     "name": "stdout",
     "output_type": "stream",
     "text": [
      "(330618, 906)\n"
     ]
    }
   ],
   "source": [
    "# OverSampling\n",
    "from imblearn.over_sampling import RandomOverSampler \n",
    "\n",
    "oversample = RandomOverSampler(sampling_strategy='minority')\n",
    "X_oversample, y_oversample = oversample.fit_resample(X_train.values[:,2:], y_train)\n",
    "print(X_oversample.shape)"
   ]
  },
  {
   "cell_type": "code",
   "execution_count": 14,
   "id": "e7ef0641",
   "metadata": {},
   "outputs": [
    {
     "data": {
      "text/plain": [
       "0    165309\n",
       "1    165309\n",
       "Name: 2, dtype: int64"
      ]
     },
     "execution_count": 14,
     "metadata": {},
     "output_type": "execute_result"
    }
   ],
   "source": [
    "y_oversample.value_counts()"
   ]
  },
  {
   "cell_type": "code",
   "execution_count": 16,
   "id": "a92bddda",
   "metadata": {},
   "outputs": [],
   "source": [
    "X_oversample = pd.DataFrame(X_oversample)\n",
    "y_oversample = pd.DataFrame(y_oversample)"
   ]
  },
  {
   "cell_type": "code",
   "execution_count": 17,
   "id": "497e5c1a",
   "metadata": {},
   "outputs": [
    {
     "data": {
      "text/plain": [
       "(330618, 907)"
      ]
     },
     "execution_count": 17,
     "metadata": {},
     "output_type": "execute_result"
    }
   ],
   "source": [
    "df = pd.concat([X_oversample, y_oversample], axis=1)\n",
    "df.shape"
   ]
  },
  {
   "cell_type": "code",
   "execution_count": 18,
   "id": "3f4c1c65",
   "metadata": {},
   "outputs": [],
   "source": [
    "df.to_csv('../F_Drug-Disease_oversampling.csv', index=False)\n",
    "del df"
   ]
  },
  {
   "cell_type": "code",
   "execution_count": 19,
   "id": "5547d31c",
   "metadata": {},
   "outputs": [
    {
     "name": "stdout",
     "output_type": "stream",
     "text": [
      "{'k_neighbors': 5, 'n_jobs': -1, 'random_state': None, 'sampling_strategy': 'auto'}\n"
     ]
    },
    {
     "data": {
      "text/plain": [
       "(330618, 906)"
      ]
     },
     "execution_count": 19,
     "metadata": {},
     "output_type": "execute_result"
    }
   ],
   "source": [
    "#smote\n",
    "from imblearn.over_sampling import SMOTE\n",
    "from imblearn.pipeline import make_pipeline\n",
    "\n",
    "smote_sampler = SMOTE(n_jobs=-1)\n",
    "# smote_pipeline = make_pipeline(RandomOverSampler(), SMOTE(n_jobs=-1))\n",
    "print(smote_sampler.get_params())\n",
    "X_smote , y_smote = smote_sampler.fit_resample(X_train.values[:,2:], y_train)\n",
    "X_smote.shape"
   ]
  },
  {
   "cell_type": "code",
   "execution_count": 20,
   "id": "cb11830b",
   "metadata": {},
   "outputs": [
    {
     "data": {
      "text/plain": [
       "0    165309\n",
       "1    165309\n",
       "Name: 2, dtype: int64"
      ]
     },
     "execution_count": 20,
     "metadata": {},
     "output_type": "execute_result"
    }
   ],
   "source": [
    "y_smote.value_counts()"
   ]
  },
  {
   "cell_type": "code",
   "execution_count": 21,
   "id": "6d6862f0",
   "metadata": {},
   "outputs": [],
   "source": [
    "X_smote = pd.DataFrame(X_smote)\n",
    "y_smote = pd.DataFrame(y_smote)"
   ]
  },
  {
   "cell_type": "code",
   "execution_count": 22,
   "id": "b5c77e6f",
   "metadata": {},
   "outputs": [
    {
     "name": "stdout",
     "output_type": "stream",
     "text": [
      "(330618, 907)\n"
     ]
    }
   ],
   "source": [
    "dfsmote = pd.concat([X_smote, y_smote], axis=1)\n",
    "print(dfsmote.shape)\n",
    "del X_smote, y_smote"
   ]
  },
  {
   "cell_type": "code",
   "execution_count": 23,
   "id": "22c34fac",
   "metadata": {},
   "outputs": [],
   "source": [
    "dfsmote.to_csv('../F_Drug-Disease_SMOTE.csv', index=False)\n",
    "del dfsmote"
   ]
  },
  {
   "cell_type": "code",
   "execution_count": 25,
   "id": "7f5b3a42",
   "metadata": {},
   "outputs": [
    {
     "data": {
      "text/plain": [
       "2\n",
       "1    165804\n",
       "0    165309\n",
       "dtype: int64"
      ]
     },
     "execution_count": 25,
     "metadata": {},
     "output_type": "execute_result"
    }
   ],
   "source": [
    "# ADASYN\n",
    "from imblearn.over_sampling import ADASYN\n",
    "X_adasyn, y_adasyn = ADASYN().fit_resample(X_train.values[:,2:], y_train)\n",
    "\n",
    "X_adasyn= pd.DataFrame(X_adasyn)\n",
    "y_adasyn= pd.DataFrame(y_adasyn)\n",
    "y_adasyn.value_counts()"
   ]
  },
  {
   "cell_type": "code",
   "execution_count": 26,
   "id": "843b0862",
   "metadata": {},
   "outputs": [
    {
     "data": {
      "text/plain": [
       "(331113, 906)"
      ]
     },
     "execution_count": 26,
     "metadata": {},
     "output_type": "execute_result"
    }
   ],
   "source": [
    "X_adasyn.shape"
   ]
  },
  {
   "cell_type": "code",
   "execution_count": 27,
   "id": "29e74575",
   "metadata": {},
   "outputs": [
    {
     "name": "stdout",
     "output_type": "stream",
     "text": [
      "(331113, 907)\n"
     ]
    }
   ],
   "source": [
    "dfadasyn=pd.concat([X_adasyn, y_adasyn], axis=1)\n",
    "print(dfadasyn.shape)\n",
    "dfadasyn.to_csv('../F_Drug-Disease_Adasyn.csv', index=False)"
   ]
  },
  {
   "cell_type": "code",
   "execution_count": null,
   "id": "c435d6e2",
   "metadata": {},
   "outputs": [],
   "source": []
  }
 ],
 "metadata": {
  "kernelspec": {
   "display_name": "Python 3 (ipykernel)",
   "language": "python",
   "name": "python3"
  },
  "language_info": {
   "codemirror_mode": {
    "name": "ipython",
    "version": 3
   },
   "file_extension": ".py",
   "mimetype": "text/x-python",
   "name": "python",
   "nbconvert_exporter": "python",
   "pygments_lexer": "ipython3",
   "version": "3.8.10"
  }
 },
 "nbformat": 4,
 "nbformat_minor": 5
}
