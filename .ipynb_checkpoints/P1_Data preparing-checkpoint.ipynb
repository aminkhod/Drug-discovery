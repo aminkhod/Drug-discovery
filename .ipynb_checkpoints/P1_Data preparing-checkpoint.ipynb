{
 "cells": [
  {
   "cell_type": "code",
   "execution_count": 2,
   "metadata": {},
   "outputs": [],
   "source": [
    "import numpy as np\n",
    "import pandas as pd"
   ]
  },
  {
   "cell_type": "code",
   "execution_count": null,
   "metadata": {},
   "outputs": [],
   "source": [
    "# excel_file='Rivise data/DDI_triple_2.csv'\n",
    "# drug=pd.read_csv(excel_file, header=None)\n",
    "# df='data/drug_name_568.txt'\n",
    "# DF=pd.read_csv(df, header=None)\n",
    "d='CosineSNF(PhenotypeSim_ProteinSim).csv'\n",
    "Drugsim=pd.read_csv(d, header=None)\n",
    "\n",
    "diseasesim = pd.read_csv('CosineSNF(chemstractureSim_proteinSim_sideeffectSim).csv',header=None)"
   ]
  },
  {
   "cell_type": "code",
   "execution_count": 3,
   "metadata": {},
   "outputs": [],
   "source": [
    "# ### Deleting missing Drugs\n",
    "# druglist=[]\n",
    "# mismatch=[]\n",
    "\n",
    "# for j in range(len(D)):\n",
    "#     druglist.insert(j,D.loc[j][0])\n",
    "# for i in range(len(DF.loc[0])):\n",
    "#     if not DF.loc[i][1] in (druglist):\n",
    "#             print(i,DF.loc[i][1])\n",
    "#             mismatch.insert(i,DF.loc[i][1])\n",
    "#             DF=DF.drop([i])\n",
    "#             drug=drug.drop([i],axis=0)\n",
    "#             drug=drug.drop([i],axis=1)"
   ]
  },
  {
   "cell_type": "code",
   "execution_count": 4,
   "metadata": {},
   "outputs": [],
   "source": [
    "# DF.to_csv(\"saved DF.csv\",index=False)\n",
    "DF = pd.read_csv(\"saved DF.csv\", header=0)\n",
    "# drug.to_csv('saved drug.csv',index=False)\n",
    "drug = pd.read_csv('saved drug.csv', header=0)"
   ]
  },
  {
   "cell_type": "code",
   "execution_count": 5,
   "metadata": {},
   "outputs": [],
   "source": [
    "finalmatrix=[]\n",
    "for i in range(len(DF.iloc[:,0])):\n",
    "    for j in range(len(DF.iloc[:,0])):\n",
    "        result=[DF.loc[i][0],DF.loc[j][0],drug.loc[i][j]]\n",
    "#         print(result)\n",
    "        finalmatrix.append(result)\n",
    "del drug"
   ]
  },
  {
   "cell_type": "code",
   "execution_count": 6,
   "metadata": {},
   "outputs": [],
   "source": [
    "# finalmatrix"
   ]
  },
  {
   "cell_type": "code",
   "execution_count": 7,
   "metadata": {},
   "outputs": [],
   "source": [
    "F = pd.DataFrame(finalmatrix)\n",
    "F.to_csv(\"saved F_pairs.csv\",index=False)\n",
    "del finalmatrix"
   ]
  },
  {
   "cell_type": "code",
   "execution_count": 8,
   "metadata": {},
   "outputs": [
    {
     "name": "stdout",
     "output_type": "stream",
     "text": [
      "322624 3\n",
      "0    DB00115\n",
      "1    DB00115\n",
      "2          0\n",
      "Name: 0, dtype: object\n"
     ]
    }
   ],
   "source": [
    "r, c = F.shape\n",
    "print(r,c)\n",
    "print(F.iloc[0,:])"
   ]
  },
  {
   "cell_type": "code",
   "execution_count": 9,
   "metadata": {},
   "outputs": [
    {
     "data": {
      "text/plain": [
       "(322056, 3)"
      ]
     },
     "execution_count": 9,
     "metadata": {},
     "output_type": "execute_result"
    }
   ],
   "source": [
    "j = 0\n",
    "for i in range(0, r, len(DF.iloc[:,0])):\n",
    "    try:\n",
    "        F = F.drop([i + j])\n",
    "#         print(i)\n",
    "    except:\n",
    "        1\n",
    "#         print(str(i)+ \" can't be droped\")\n",
    "    j += 1\n",
    "F.shape"
   ]
  },
  {
   "cell_type": "code",
   "execution_count": 10,
   "metadata": {},
   "outputs": [
    {
     "name": "stdout",
     "output_type": "stream",
     "text": [
      "322056 3\n"
     ]
    },
    {
     "data": {
      "text/plain": [
       "0    DB00115\n",
       "1    DB00130\n",
       "2          0\n",
       "Name: 1, dtype: object"
      ]
     },
     "execution_count": 10,
     "metadata": {},
     "output_type": "execute_result"
    }
   ],
   "source": [
    "r, c = F.shape\n",
    "print(r,c)\n",
    "# list(range(0, r, len(DF.iloc[:,0])))\n",
    "F.iloc[0,:]"
   ]
  },
  {
   "cell_type": "code",
   "execution_count": 11,
   "metadata": {},
   "outputs": [],
   "source": [
    "# D.set_index(0)"
   ]
  },
  {
   "cell_type": "code",
   "execution_count": 12,
   "metadata": {
    "scrolled": true
   },
   "outputs": [],
   "source": [
    "# F[0].map(D.set_index(0)[1])"
   ]
  },
  {
   "cell_type": "code",
   "execution_count": 13,
   "metadata": {},
   "outputs": [],
   "source": [
    "for k in range(1, len(D.iloc[0,:])):\n",
    "    F[k + 2]=F[0].map(D.set_index(0)[k])\n",
    "    k += 1\n",
    "\n",
    "for k in range(1, len(D.iloc[0,:])):\n",
    "    F[k + len(D.iloc[0,:]) + 3]=F[1].map(D.set_index(0)[k])\n",
    "    k += 1\n",
    "del D\n",
    "del DF"
   ]
  },
  {
   "cell_type": "code",
   "execution_count": 14,
   "metadata": {},
   "outputs": [
    {
     "data": {
      "text/plain": [
       "(322056, 1139)"
      ]
     },
     "execution_count": 14,
     "metadata": {},
     "output_type": "execute_result"
    }
   ],
   "source": [
    "F.shape"
   ]
  },
  {
   "cell_type": "code",
   "execution_count": 15,
   "metadata": {},
   "outputs": [],
   "source": [
    "F.to_csv(\"../../saved F(triple_cosineSNF)_rivised.csv\",index=False)\n"
   ]
  },
  {
   "cell_type": "code",
   "execution_count": 16,
   "metadata": {},
   "outputs": [],
   "source": [
    "del F"
   ]
  },
  {
   "cell_type": "markdown",
   "metadata": {},
   "source": [
    "## seperating 1 and -1 from whole data"
   ]
  },
  {
   "cell_type": "code",
   "execution_count": null,
   "metadata": {},
   "outputs": [],
   "source": [
    "import pandas as pd"
   ]
  },
  {
   "cell_type": "code",
   "execution_count": 18,
   "metadata": {},
   "outputs": [],
   "source": [
    "F = pd.read_csv(\"../../saved F(triple_cosineSNF)_rivised.csv\")\n"
   ]
  },
  {
   "cell_type": "code",
   "execution_count": 19,
   "metadata": {},
   "outputs": [
    {
     "name": "stdout",
     "output_type": "stream",
     "text": [
      "(322056, 1139)\n"
     ]
    },
    {
     "data": {
      "text/html": [
       "<div>\n",
       "<style scoped>\n",
       "    .dataframe tbody tr th:only-of-type {\n",
       "        vertical-align: middle;\n",
       "    }\n",
       "\n",
       "    .dataframe tbody tr th {\n",
       "        vertical-align: top;\n",
       "    }\n",
       "\n",
       "    .dataframe thead th {\n",
       "        text-align: right;\n",
       "    }\n",
       "</style>\n",
       "<table border=\"1\" class=\"dataframe\">\n",
       "  <thead>\n",
       "    <tr style=\"text-align: right;\">\n",
       "      <th></th>\n",
       "      <th>0</th>\n",
       "      <th>1</th>\n",
       "      <th>2</th>\n",
       "      <th>3</th>\n",
       "      <th>4</th>\n",
       "      <th>5</th>\n",
       "      <th>6</th>\n",
       "      <th>7</th>\n",
       "      <th>8</th>\n",
       "      <th>9</th>\n",
       "      <th>...</th>\n",
       "      <th>1131</th>\n",
       "      <th>1132</th>\n",
       "      <th>1133</th>\n",
       "      <th>1134</th>\n",
       "      <th>1135</th>\n",
       "      <th>1136</th>\n",
       "      <th>1137</th>\n",
       "      <th>1138</th>\n",
       "      <th>1139</th>\n",
       "      <th>1140</th>\n",
       "    </tr>\n",
       "  </thead>\n",
       "  <tbody>\n",
       "    <tr>\n",
       "      <th>0</th>\n",
       "      <td>DB00115</td>\n",
       "      <td>DB00130</td>\n",
       "      <td>0</td>\n",
       "      <td>0.539895</td>\n",
       "      <td>0.001721</td>\n",
       "      <td>0.001658</td>\n",
       "      <td>0.001866</td>\n",
       "      <td>0.001864</td>\n",
       "      <td>0.001663</td>\n",
       "      <td>0.001717</td>\n",
       "      <td>...</td>\n",
       "      <td>0.001595</td>\n",
       "      <td>0.001615</td>\n",
       "      <td>0.001657</td>\n",
       "      <td>0.001689</td>\n",
       "      <td>0.001606</td>\n",
       "      <td>0.001651</td>\n",
       "      <td>0.001613</td>\n",
       "      <td>0.001657</td>\n",
       "      <td>0.001611</td>\n",
       "      <td>0.001602</td>\n",
       "    </tr>\n",
       "    <tr>\n",
       "      <th>1</th>\n",
       "      <td>DB00115</td>\n",
       "      <td>DB00136</td>\n",
       "      <td>0</td>\n",
       "      <td>0.539895</td>\n",
       "      <td>0.001721</td>\n",
       "      <td>0.001658</td>\n",
       "      <td>0.001866</td>\n",
       "      <td>0.001864</td>\n",
       "      <td>0.001663</td>\n",
       "      <td>0.001717</td>\n",
       "      <td>...</td>\n",
       "      <td>0.001616</td>\n",
       "      <td>0.001607</td>\n",
       "      <td>0.001619</td>\n",
       "      <td>0.002201</td>\n",
       "      <td>0.001610</td>\n",
       "      <td>0.002125</td>\n",
       "      <td>0.002078</td>\n",
       "      <td>0.001598</td>\n",
       "      <td>0.001643</td>\n",
       "      <td>0.001603</td>\n",
       "    </tr>\n",
       "    <tr>\n",
       "      <th>2</th>\n",
       "      <td>DB00115</td>\n",
       "      <td>DB00153</td>\n",
       "      <td>0</td>\n",
       "      <td>0.539895</td>\n",
       "      <td>0.001721</td>\n",
       "      <td>0.001658</td>\n",
       "      <td>0.001866</td>\n",
       "      <td>0.001864</td>\n",
       "      <td>0.001663</td>\n",
       "      <td>0.001717</td>\n",
       "      <td>...</td>\n",
       "      <td>0.001598</td>\n",
       "      <td>0.001646</td>\n",
       "      <td>0.001726</td>\n",
       "      <td>0.002786</td>\n",
       "      <td>0.001594</td>\n",
       "      <td>0.002029</td>\n",
       "      <td>0.002060</td>\n",
       "      <td>0.001631</td>\n",
       "      <td>0.001598</td>\n",
       "      <td>0.001635</td>\n",
       "    </tr>\n",
       "    <tr>\n",
       "      <th>3</th>\n",
       "      <td>DB00115</td>\n",
       "      <td>DB00158</td>\n",
       "      <td>0</td>\n",
       "      <td>0.539895</td>\n",
       "      <td>0.001721</td>\n",
       "      <td>0.001658</td>\n",
       "      <td>0.001866</td>\n",
       "      <td>0.001864</td>\n",
       "      <td>0.001663</td>\n",
       "      <td>0.001717</td>\n",
       "      <td>...</td>\n",
       "      <td>0.001692</td>\n",
       "      <td>0.001592</td>\n",
       "      <td>0.001666</td>\n",
       "      <td>0.001667</td>\n",
       "      <td>0.001591</td>\n",
       "      <td>0.001575</td>\n",
       "      <td>0.001588</td>\n",
       "      <td>0.001675</td>\n",
       "      <td>0.001594</td>\n",
       "      <td>0.001637</td>\n",
       "    </tr>\n",
       "    <tr>\n",
       "      <th>4</th>\n",
       "      <td>DB00115</td>\n",
       "      <td>DB00162</td>\n",
       "      <td>0</td>\n",
       "      <td>0.539895</td>\n",
       "      <td>0.001721</td>\n",
       "      <td>0.001658</td>\n",
       "      <td>0.001866</td>\n",
       "      <td>0.001864</td>\n",
       "      <td>0.001663</td>\n",
       "      <td>0.001717</td>\n",
       "      <td>...</td>\n",
       "      <td>0.001620</td>\n",
       "      <td>0.001622</td>\n",
       "      <td>0.001777</td>\n",
       "      <td>0.002357</td>\n",
       "      <td>0.001600</td>\n",
       "      <td>0.001918</td>\n",
       "      <td>0.001962</td>\n",
       "      <td>0.001606</td>\n",
       "      <td>0.001590</td>\n",
       "      <td>0.001616</td>\n",
       "    </tr>\n",
       "  </tbody>\n",
       "</table>\n",
       "<p>5 rows × 1139 columns</p>\n",
       "</div>"
      ],
      "text/plain": [
       "         0        1  2         3         4         5         6         7  \\\n",
       "0  DB00115  DB00130  0  0.539895  0.001721  0.001658  0.001866  0.001864   \n",
       "1  DB00115  DB00136  0  0.539895  0.001721  0.001658  0.001866  0.001864   \n",
       "2  DB00115  DB00153  0  0.539895  0.001721  0.001658  0.001866  0.001864   \n",
       "3  DB00115  DB00158  0  0.539895  0.001721  0.001658  0.001866  0.001864   \n",
       "4  DB00115  DB00162  0  0.539895  0.001721  0.001658  0.001866  0.001864   \n",
       "\n",
       "          8         9  ...      1131      1132      1133      1134      1135  \\\n",
       "0  0.001663  0.001717  ...  0.001595  0.001615  0.001657  0.001689  0.001606   \n",
       "1  0.001663  0.001717  ...  0.001616  0.001607  0.001619  0.002201  0.001610   \n",
       "2  0.001663  0.001717  ...  0.001598  0.001646  0.001726  0.002786  0.001594   \n",
       "3  0.001663  0.001717  ...  0.001692  0.001592  0.001666  0.001667  0.001591   \n",
       "4  0.001663  0.001717  ...  0.001620  0.001622  0.001777  0.002357  0.001600   \n",
       "\n",
       "       1136      1137      1138      1139      1140  \n",
       "0  0.001651  0.001613  0.001657  0.001611  0.001602  \n",
       "1  0.002125  0.002078  0.001598  0.001643  0.001603  \n",
       "2  0.002029  0.002060  0.001631  0.001598  0.001635  \n",
       "3  0.001575  0.001588  0.001675  0.001594  0.001637  \n",
       "4  0.001918  0.001962  0.001606  0.001590  0.001616  \n",
       "\n",
       "[5 rows x 1139 columns]"
      ]
     },
     "execution_count": 19,
     "metadata": {},
     "output_type": "execute_result"
    }
   ],
   "source": [
    "print(F.shape)\n",
    "F.head()"
   ]
  },
  {
   "cell_type": "code",
   "execution_count": 20,
   "metadata": {},
   "outputs": [],
   "source": [
    "tripleData = F[F.iloc[:,2]!=0]\n"
   ]
  },
  {
   "cell_type": "code",
   "execution_count": 21,
   "metadata": {},
   "outputs": [],
   "source": [
    "tripleData.to_csv('../../triple_cosineSNF(-1and1)_rivised.csv',index=False)\n",
    "del tripleData"
   ]
  },
  {
   "cell_type": "code",
   "execution_count": 22,
   "metadata": {},
   "outputs": [],
   "source": [
    "tripleData = F[F.iloc[:,2]==0]\n",
    "del F"
   ]
  },
  {
   "cell_type": "code",
   "execution_count": 23,
   "metadata": {},
   "outputs": [
    {
     "data": {
      "text/plain": [
       "(43110, 1139)"
      ]
     },
     "execution_count": 23,
     "metadata": {},
     "output_type": "execute_result"
    }
   ],
   "source": [
    "tripleData.shape"
   ]
  },
  {
   "cell_type": "code",
   "execution_count": 24,
   "metadata": {},
   "outputs": [],
   "source": [
    "tripleData.to_csv('../../triple_cosineSNF(zeros)_rivised.csv',index=False)\n",
    "del tripleData\n"
   ]
  },
  {
   "cell_type": "code",
   "execution_count": null,
   "metadata": {},
   "outputs": [],
   "source": []
  }
 ],
 "metadata": {
  "kernelspec": {
   "display_name": "Python 3",
   "language": "python",
   "name": "python3"
  },
  "language_info": {
   "codemirror_mode": {
    "name": "ipython",
    "version": 3
   },
   "file_extension": ".py",
   "mimetype": "text/x-python",
   "name": "python",
   "nbconvert_exporter": "python",
   "pygments_lexer": "ipython3",
   "version": "3.6.9"
  }
 },
 "nbformat": 4,
 "nbformat_minor": 2
}
