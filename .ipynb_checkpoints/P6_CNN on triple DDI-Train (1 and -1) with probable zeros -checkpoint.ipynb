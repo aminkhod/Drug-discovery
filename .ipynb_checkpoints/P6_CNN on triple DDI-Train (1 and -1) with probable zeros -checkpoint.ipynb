{
 "cells": [
  {
   "cell_type": "code",
   "execution_count": 1,
   "metadata": {},
   "outputs": [
    {
     "name": "stderr",
     "output_type": "stream",
     "text": [
      "2022-03-08 20:15:28.503382: W tensorflow/stream_executor/platform/default/dso_loader.cc:64] Could not load dynamic library 'libcudart.so.11.0'; dlerror: libcudart.so.11.0: cannot open shared object file: No such file or directory\n",
      "2022-03-08 20:15:28.503402: I tensorflow/stream_executor/cuda/cudart_stub.cc:29] Ignore above cudart dlerror if you do not have a GPU set up on your machine.\n"
     ]
    },
    {
     "ename": "ImportError",
     "evalue": "cannot import name 'to_categorical' from 'keras.utils' (/home/aminuninnova/.local/lib/python3.8/site-packages/keras/utils/__init__.py)",
     "output_type": "error",
     "traceback": [
      "\u001b[0;31m---------------------------------------------------------------------------\u001b[0m",
      "\u001b[0;31mImportError\u001b[0m                               Traceback (most recent call last)",
      "Input \u001b[0;32mIn [1]\u001b[0m, in \u001b[0;36m<module>\u001b[0;34m\u001b[0m\n\u001b[1;32m     11\u001b[0m \u001b[38;5;28;01mfrom\u001b[39;00m \u001b[38;5;21;01msklearn\u001b[39;00m\u001b[38;5;21;01m.\u001b[39;00m\u001b[38;5;21;01mmetrics\u001b[39;00m \u001b[38;5;28;01mimport\u001b[39;00m confusion_matrix,classification_report,precision_score, auc, precision_recall_curve, roc_curve\n\u001b[1;32m     13\u001b[0m \u001b[38;5;28;01mimport\u001b[39;00m \u001b[38;5;21;01mkeras\u001b[39;00m\n\u001b[0;32m---> 14\u001b[0m \u001b[38;5;28;01mfrom\u001b[39;00m \u001b[38;5;21;01mkeras\u001b[39;00m\u001b[38;5;21;01m.\u001b[39;00m\u001b[38;5;21;01mutils\u001b[39;00m \u001b[38;5;28;01mimport\u001b[39;00m to_categorical\n\u001b[1;32m     15\u001b[0m \u001b[38;5;28;01mfrom\u001b[39;00m \u001b[38;5;21;01mkeras\u001b[39;00m\u001b[38;5;21;01m.\u001b[39;00m\u001b[38;5;21;01mmodels\u001b[39;00m \u001b[38;5;28;01mimport\u001b[39;00m Sequential\n\u001b[1;32m     16\u001b[0m \u001b[38;5;28;01mfrom\u001b[39;00m \u001b[38;5;21;01mkeras\u001b[39;00m\u001b[38;5;21;01m.\u001b[39;00m\u001b[38;5;21;01mlayers\u001b[39;00m \u001b[38;5;28;01mimport\u001b[39;00m Dense, Conv2D, Flatten, Softmax, Dropout\n",
      "\u001b[0;31mImportError\u001b[0m: cannot import name 'to_categorical' from 'keras.utils' (/home/aminuninnova/.local/lib/python3.8/site-packages/keras/utils/__init__.py)"
     ]
    }
   ],
   "source": [
    "import random\n",
    "import pandas as pd \n",
    "import numpy as np\n",
    "\n",
    "import seaborn as sns\n",
    "import matplotlib.pyplot as plt\n",
    "\n",
    "import confusion_matrix_pretty_print\n",
    "from confusion_matrix_pretty_print import plot_confusion_matrix_from_data\n",
    "\n",
    "from sklearn.metrics import confusion_matrix,classification_report,precision_score, auc, precision_recall_curve, roc_curve\n",
    "\n",
    "import keras\n",
    "from keras.utils import to_categorical\n",
    "from keras.models import Sequential\n",
    "from keras.layers import Dense, Conv2D, Flatten, Softmax, Dropout\n",
    "from keras import optimizers\n",
    "from keras import metrics as kmetr\n",
    "from keras.utils import plot_model\n"
   ]
  },
  {
   "cell_type": "code",
   "execution_count": 19,
   "metadata": {},
   "outputs": [],
   "source": [
    "zeros = pd.read_csv('probZeroDrug20000_.2_.2_revised.csv')"
   ]
  },
  {
   "cell_type": "code",
   "execution_count": 20,
   "metadata": {},
   "outputs": [],
   "source": [
    "dataTrain = pd.read_csv('tripleTrain_revised.csv')\n",
    "dataTest = pd.read_csv('tripleTest_revised.csv')\n"
   ]
  },
  {
   "cell_type": "code",
   "execution_count": 21,
   "metadata": {},
   "outputs": [],
   "source": [
    "r,c = zeros.shape"
   ]
  },
  {
   "cell_type": "code",
   "execution_count": 22,
   "metadata": {},
   "outputs": [],
   "source": [
    "dataTrain = dataTrain.append(zeros.iloc[:int(0.9*r),:], ignore_index = True) "
   ]
  },
  {
   "cell_type": "code",
   "execution_count": 23,
   "metadata": {},
   "outputs": [],
   "source": [
    "dataTest = dataTest.append(zeros.iloc[int(0.9*r):,:], ignore_index = True) "
   ]
  },
  {
   "cell_type": "code",
   "execution_count": 24,
   "metadata": {},
   "outputs": [],
   "source": [
    "del zeros\n",
    "# del probableZero"
   ]
  },
  {
   "cell_type": "code",
   "execution_count": 25,
   "metadata": {},
   "outputs": [],
   "source": [
    "# Shuffle datasets\n",
    "dataTrain = dataTrain.sample(frac=1).reset_index(drop=True)\n",
    "dataTest = dataTest.sample(frac=1).reset_index(drop=True)"
   ]
  },
  {
   "cell_type": "code",
   "execution_count": 26,
   "metadata": {},
   "outputs": [
    {
     "data": {
      "text/html": [
       "<div>\n",
       "<style scoped>\n",
       "    .dataframe tbody tr th:only-of-type {\n",
       "        vertical-align: middle;\n",
       "    }\n",
       "\n",
       "    .dataframe tbody tr th {\n",
       "        vertical-align: top;\n",
       "    }\n",
       "\n",
       "    .dataframe thead th {\n",
       "        text-align: right;\n",
       "    }\n",
       "</style>\n",
       "<table border=\"1\" class=\"dataframe\">\n",
       "  <thead>\n",
       "    <tr style=\"text-align: right;\">\n",
       "      <th></th>\n",
       "      <th>0</th>\n",
       "      <th>1</th>\n",
       "      <th>2</th>\n",
       "      <th>3</th>\n",
       "      <th>4</th>\n",
       "      <th>5</th>\n",
       "      <th>6</th>\n",
       "      <th>7</th>\n",
       "      <th>8</th>\n",
       "      <th>9</th>\n",
       "      <th>...</th>\n",
       "      <th>1131</th>\n",
       "      <th>1132</th>\n",
       "      <th>1133</th>\n",
       "      <th>1134</th>\n",
       "      <th>1135</th>\n",
       "      <th>1136</th>\n",
       "      <th>1137</th>\n",
       "      <th>1138</th>\n",
       "      <th>1139</th>\n",
       "      <th>1140</th>\n",
       "    </tr>\n",
       "  </thead>\n",
       "  <tbody>\n",
       "    <tr>\n",
       "      <th>0</th>\n",
       "      <td>DB00210</td>\n",
       "      <td>DB00749</td>\n",
       "      <td>1</td>\n",
       "      <td>0.001639</td>\n",
       "      <td>0.001632</td>\n",
       "      <td>0.001629</td>\n",
       "      <td>0.001701</td>\n",
       "      <td>0.001589</td>\n",
       "      <td>0.001753</td>\n",
       "      <td>0.002352</td>\n",
       "      <td>...</td>\n",
       "      <td>0.001604</td>\n",
       "      <td>0.001600</td>\n",
       "      <td>0.001817</td>\n",
       "      <td>0.001800</td>\n",
       "      <td>0.001601</td>\n",
       "      <td>0.001579</td>\n",
       "      <td>0.001607</td>\n",
       "      <td>0.001696</td>\n",
       "      <td>0.001591</td>\n",
       "      <td>0.001656</td>\n",
       "    </tr>\n",
       "    <tr>\n",
       "      <th>1</th>\n",
       "      <td>DB06288</td>\n",
       "      <td>DB00633</td>\n",
       "      <td>1</td>\n",
       "      <td>0.001609</td>\n",
       "      <td>0.001590</td>\n",
       "      <td>0.001603</td>\n",
       "      <td>0.001580</td>\n",
       "      <td>0.001605</td>\n",
       "      <td>0.001587</td>\n",
       "      <td>0.001596</td>\n",
       "      <td>...</td>\n",
       "      <td>0.002060</td>\n",
       "      <td>0.001626</td>\n",
       "      <td>0.001569</td>\n",
       "      <td>0.001571</td>\n",
       "      <td>0.001687</td>\n",
       "      <td>0.001624</td>\n",
       "      <td>0.001643</td>\n",
       "      <td>0.001598</td>\n",
       "      <td>0.001805</td>\n",
       "      <td>0.002139</td>\n",
       "    </tr>\n",
       "    <tr>\n",
       "      <th>2</th>\n",
       "      <td>DB01206</td>\n",
       "      <td>DB00580</td>\n",
       "      <td>0</td>\n",
       "      <td>0.001635</td>\n",
       "      <td>0.001921</td>\n",
       "      <td>0.001610</td>\n",
       "      <td>0.001572</td>\n",
       "      <td>0.001633</td>\n",
       "      <td>0.001575</td>\n",
       "      <td>0.001576</td>\n",
       "      <td>...</td>\n",
       "      <td>0.001594</td>\n",
       "      <td>0.001626</td>\n",
       "      <td>0.001754</td>\n",
       "      <td>0.001801</td>\n",
       "      <td>0.001737</td>\n",
       "      <td>0.001598</td>\n",
       "      <td>0.001606</td>\n",
       "      <td>0.001736</td>\n",
       "      <td>0.001713</td>\n",
       "      <td>0.001600</td>\n",
       "    </tr>\n",
       "    <tr>\n",
       "      <th>3</th>\n",
       "      <td>DB00813</td>\n",
       "      <td>DB00450</td>\n",
       "      <td>1</td>\n",
       "      <td>0.001673</td>\n",
       "      <td>0.001689</td>\n",
       "      <td>0.001670</td>\n",
       "      <td>0.001561</td>\n",
       "      <td>0.001618</td>\n",
       "      <td>0.001643</td>\n",
       "      <td>0.001602</td>\n",
       "      <td>...</td>\n",
       "      <td>0.001578</td>\n",
       "      <td>0.001596</td>\n",
       "      <td>0.001740</td>\n",
       "      <td>0.001686</td>\n",
       "      <td>0.001737</td>\n",
       "      <td>0.001574</td>\n",
       "      <td>0.001577</td>\n",
       "      <td>0.002208</td>\n",
       "      <td>0.001601</td>\n",
       "      <td>0.001578</td>\n",
       "    </tr>\n",
       "    <tr>\n",
       "      <th>4</th>\n",
       "      <td>DB01186</td>\n",
       "      <td>DB01181</td>\n",
       "      <td>0</td>\n",
       "      <td>0.001591</td>\n",
       "      <td>0.001592</td>\n",
       "      <td>0.001599</td>\n",
       "      <td>0.001603</td>\n",
       "      <td>0.001589</td>\n",
       "      <td>0.001613</td>\n",
       "      <td>0.001611</td>\n",
       "      <td>...</td>\n",
       "      <td>0.001608</td>\n",
       "      <td>0.001596</td>\n",
       "      <td>0.001567</td>\n",
       "      <td>0.001584</td>\n",
       "      <td>0.001617</td>\n",
       "      <td>0.001662</td>\n",
       "      <td>0.001607</td>\n",
       "      <td>0.001638</td>\n",
       "      <td>0.001639</td>\n",
       "      <td>0.001613</td>\n",
       "    </tr>\n",
       "  </tbody>\n",
       "</table>\n",
       "<p>5 rows × 1139 columns</p>\n",
       "</div>"
      ],
      "text/plain": [
       "         0        1  2         3         4         5         6         7  \\\n",
       "0  DB00210  DB00749  1  0.001639  0.001632  0.001629  0.001701  0.001589   \n",
       "1  DB06288  DB00633  1  0.001609  0.001590  0.001603  0.001580  0.001605   \n",
       "2  DB01206  DB00580  0  0.001635  0.001921  0.001610  0.001572  0.001633   \n",
       "3  DB00813  DB00450  1  0.001673  0.001689  0.001670  0.001561  0.001618   \n",
       "4  DB01186  DB01181  0  0.001591  0.001592  0.001599  0.001603  0.001589   \n",
       "\n",
       "          8         9  ...      1131      1132      1133      1134      1135  \\\n",
       "0  0.001753  0.002352  ...  0.001604  0.001600  0.001817  0.001800  0.001601   \n",
       "1  0.001587  0.001596  ...  0.002060  0.001626  0.001569  0.001571  0.001687   \n",
       "2  0.001575  0.001576  ...  0.001594  0.001626  0.001754  0.001801  0.001737   \n",
       "3  0.001643  0.001602  ...  0.001578  0.001596  0.001740  0.001686  0.001737   \n",
       "4  0.001613  0.001611  ...  0.001608  0.001596  0.001567  0.001584  0.001617   \n",
       "\n",
       "       1136      1137      1138      1139      1140  \n",
       "0  0.001579  0.001607  0.001696  0.001591  0.001656  \n",
       "1  0.001624  0.001643  0.001598  0.001805  0.002139  \n",
       "2  0.001598  0.001606  0.001736  0.001713  0.001600  \n",
       "3  0.001574  0.001577  0.002208  0.001601  0.001578  \n",
       "4  0.001662  0.001607  0.001638  0.001639  0.001613  \n",
       "\n",
       "[5 rows x 1139 columns]"
      ]
     },
     "execution_count": 26,
     "metadata": {},
     "output_type": "execute_result"
    }
   ],
   "source": [
    "dataTrain.head()"
   ]
  },
  {
   "cell_type": "code",
   "execution_count": 27,
   "metadata": {},
   "outputs": [],
   "source": [
    "X_train = dataTrain.values[:,3:]\n",
    "y_train = dataTrain.values[:,2].astype(int)\n",
    "del dataTrain\n",
    "trainNum = len(X_train)\n",
    "X_test = dataTest.values[:,3:]\n",
    "y_test = dataTest.values[:,2].astype(int)\n",
    "# del dataTest\n",
    "testNum = len(X_test)\n",
    "\n",
    "#reshape data to fit model\n",
    "X_train = X_train.reshape(trainNum,16,71,1)\n",
    "X_test = X_test.reshape(testNum,16,71,1)\n",
    "\n",
    "y_train = y_train + 1\n",
    "y_test  = y_test + 1\n",
    "# y_train = y_train / 2\n",
    "# y_test  = y_test / 2\n",
    "# print(y_train[0], y_test[0])\n",
    "\n",
    "#one-hot encode target column\n",
    "y_train = to_categorical(y_train)\n",
    "y_test = to_categorical(y_test)\n",
    "# y_test[0]\n"
   ]
  },
  {
   "cell_type": "code",
   "execution_count": 28,
   "metadata": {},
   "outputs": [
    {
     "name": "stdout",
     "output_type": "stream",
     "text": [
      "[0. 0. 1.] [0. 1. 0.]\n"
     ]
    }
   ],
   "source": [
    "print(y_train[1], y_test[0])"
   ]
  },
  {
   "cell_type": "code",
   "execution_count": 67,
   "metadata": {},
   "outputs": [
    {
     "name": "stdout",
     "output_type": "stream",
     "text": [
      "Model: \"sequential_4\"\n",
      "_________________________________________________________________\n",
      "Layer (type)                 Output Shape              Param #   \n",
      "=================================================================\n",
      "conv2d_10 (Conv2D)           (None, 13, 68, 128)       2176      \n",
      "_________________________________________________________________\n",
      "conv2d_11 (Conv2D)           (None, 10, 65, 32)        65568     \n",
      "_________________________________________________________________\n",
      "conv2d_12 (Conv2D)           (None, 7, 62, 8)          4104      \n",
      "_________________________________________________________________\n",
      "flatten_4 (Flatten)          (None, 3472)              0         \n",
      "_________________________________________________________________\n",
      "dense_10 (Dense)             (None, 64)                222272    \n",
      "_________________________________________________________________\n",
      "dropout_4 (Dropout)          (None, 64)                0         \n",
      "_________________________________________________________________\n",
      "dense_11 (Dense)             (None, 16)                1040      \n",
      "_________________________________________________________________\n",
      "dense_12 (Dense)             (None, 3)                 51        \n",
      "=================================================================\n",
      "Total params: 295,211\n",
      "Trainable params: 295,211\n",
      "Non-trainable params: 0\n",
      "_________________________________________________________________\n"
     ]
    }
   ],
   "source": [
    "#create model\n",
    "model = Sequential()\n",
    "#add model layers\n",
    "# kernel_initializer='uniform',\n",
    "# kernel_initializer='uniform',\n",
    "# kernel_initializer='uniform',\n",
    "# kernel_initializer='uniform',\n",
    "model.add(Conv2D(128, kernel_size=4, activation='relu', input_shape=(16,71,1)))\n",
    "# model.add(Conv2D(64, kernel_size=2, activation='relu'))\n",
    "\n",
    "model.add(Conv2D(32, kernel_size=4, activation='relu'))\n",
    "# model.add(Conv2D(16, kernel_size=2, activation='relu'))\n",
    "model.add(Conv2D(8, kernel_size=4, activation='relu'))\n",
    "model.add(Flatten())\n",
    "model.add(Dense( 64, activation='relu'))\n",
    "model.add(Dropout(0.2))\n",
    "model.add(Dense( 16, activation='relu'))\n",
    "model.add(Dense( 3, activation='sigmoid'))\n",
    "# model.add(Softmax(128))\n",
    "model.summary()\n",
    "\n",
    "#compile model using accuracy to measure model performance\n",
    "\n",
    "\n",
    "adam = optimizers.Adam(lr=0.0001, beta_1=0.9, beta_2=0.999)\n",
    "# model.compile(loss='hinge', optimizer=adam, metrics=[kmetr.categorical_accuracy])\n",
    "model.compile(optimizer='adam', loss='categorical_crossentropy', metrics=['accuracy']) ## Minist\n",
    "\n",
    "### Load the model's saved weights.\n",
    "# model.load_weights('model with zeros_3Epoch_revised.h5')"
   ]
  },
  {
   "cell_type": "code",
   "execution_count": 68,
   "metadata": {},
   "outputs": [],
   "source": [
    "# #### plotting model\n",
    "# plot_model(model,show_shapes = True, to_file='modelLastDense_3.png')"
   ]
  },
  {
   "cell_type": "code",
   "execution_count": 215,
   "metadata": {},
   "outputs": [
    {
     "name": "stdout",
     "output_type": "stream",
     "text": [
      "Train on 56800 samples, validate on 6310 samples\n",
      "Epoch 1/1\n",
      "56800/56800 [==============================] - 403s 7ms/step - loss: 0.0839 - acc: 0.9681 - val_loss: 0.2006 - val_acc: 0.9452\n"
     ]
    },
    {
     "data": {
      "text/plain": [
       "<keras.callbacks.History at 0x7fd7735b9dd8>"
      ]
     },
     "execution_count": 215,
     "metadata": {},
     "output_type": "execute_result"
    }
   ],
   "source": [
    "# #### train the model\n",
    "model.fit(X_train, y_train, validation_data=(X_test, y_test), epochs=1)\n",
    "# model.fit(X_train, y_train, epochs=10)\n"
   ]
  },
  {
   "cell_type": "code",
   "execution_count": 216,
   "metadata": {},
   "outputs": [],
   "source": [
    "### Saveing the Model\n",
    "model.save_weights('model with zeros_10Epoch_revised.h5')\n"
   ]
  },
  {
   "cell_type": "code",
   "execution_count": 217,
   "metadata": {},
   "outputs": [],
   "source": [
    "predit = model.predict(X_test)\n",
    "#actual results for first 4 images in test set\n",
    "# print(predit[:4],X_test[:4,2])"
   ]
  },
  {
   "cell_type": "code",
   "execution_count": 218,
   "metadata": {},
   "outputs": [
    {
     "name": "stdout",
     "output_type": "stream",
     "text": [
      "[[1.7059624e-02 2.4314922e-01 3.8662344e-02]\n",
      " [4.7683716e-07 2.1457672e-06 9.9326825e-01]\n",
      " [2.5692582e-04 9.9491286e-01 4.2617321e-06]\n",
      " [3.1020880e-01 9.6577406e-04 3.8400888e-03]]\n"
     ]
    }
   ],
   "source": [
    "print(predit[:4])"
   ]
  },
  {
   "cell_type": "code",
   "execution_count": 219,
   "metadata": {},
   "outputs": [
    {
     "name": "stdout",
     "output_type": "stream",
     "text": [
      "0.8241226651923205 0.9692903041883687  -1s AUPR and AUC\n",
      "\n",
      "Epoch 03: 72 Aupr\n",
      "Epoch 04: 76 Aupr\n",
      "Epoch 05: 78 Aupr\n",
      "Epoch 06: 79 Aupr\n",
      "Epoch 07: 80 Aupr\n",
      "Epoch 08: 82 Aupr\n",
      "Epoch 09: 81 Aupr\n",
      "Epoch 10: 82 Aupr\n",
      "Epoch 11: 79 Aupr\n",
      "Epoch 12: 79 Aupr\n",
      "Epoch 13: 80 Aupr\n",
      "Epoch 13: 81 Aupr\n",
      "\n"
     ]
    }
   ],
   "source": [
    "# #from sklearn.metrics import precision_recall_curve, roc_curve\n",
    "\n",
    "prec, rec, thr = precision_recall_curve(y_test[:,0], predit[:,0])\n",
    "aupr_val = auc(rec, prec)\n",
    "fpr, tpr, thr = roc_curve(y_test[:,0], predit[:,0])\n",
    "auc_val = auc(fpr, tpr)\n",
    "print(aupr_val,auc_val, \" -1s AUPR and AUC\")\n",
    "print('''\n",
    "Epoch 03: 72 Aupr\n",
    "Epoch 04: 76 Aupr\n",
    "Epoch 05: 78 Aupr\n",
    "Epoch 06: 79 Aupr\n",
    "Epoch 07: 80 Aupr\n",
    "Epoch 08: 82 Aupr\n",
    "Epoch 09: 81 Aupr\n",
    "Epoch 10: 82 Aupr\n",
    "Epoch 11: 79 Aupr\n",
    "Epoch 12: 79 Aupr\n",
    "Epoch 13: 80 Aupr\n",
    "Epoch 13: 81 Aupr\n",
    "''')"
   ]
  },
  {
   "cell_type": "code",
   "execution_count": 220,
   "metadata": {},
   "outputs": [
    {
     "name": "stdout",
     "output_type": "stream",
     "text": [
      "0.9750785553120068 0.9777484088430572  +1s AUPR and AUC\n",
      "\n",
      "Epoch 03: 95 Aupr\n",
      "Epoch 04: 96 Aupr\n",
      "Epoch 05: 96 Aupr\n",
      "Epoch 06: 96 Aupr\n",
      "Epoch 07: 96 Aupr\n",
      "Epoch 08: 97 Aupr\n",
      "Epoch 09: 97 Aupr\n",
      "Epoch 10: 96 Aupr\n",
      "Epoch 11: 95 Aupr\n",
      "Epoch 12: 95 Aupr\n",
      "Epoch 13: 95 Aupr\n",
      "\n"
     ]
    }
   ],
   "source": [
    "# #from sklearn.metrics import precision_recall_curve, roc_curve\n",
    "\n",
    "prec, rec, thr = precision_recall_curve(y_test[:,2], predit[:,2])\n",
    "aupr_val = auc(rec, prec)\n",
    "fpr, tpr, thr = roc_curve(y_test[:,2], predit[:,2])\n",
    "auc_val = auc(fpr, tpr)\n",
    "print(aupr_val,auc_val, \" +1s AUPR and AUC\")\n",
    "print('''\n",
    "Epoch 03: 95 Aupr\n",
    "Epoch 04: 96 Aupr\n",
    "Epoch 05: 96 Aupr\n",
    "Epoch 06: 96 Aupr\n",
    "Epoch 07: 96 Aupr\n",
    "Epoch 08: 97 Aupr\n",
    "Epoch 09: 97 Aupr\n",
    "Epoch 10: 97 Aupr\n",
    "Epoch 11: 95 Aupr\n",
    "Epoch 12: 95 Aupr\n",
    "Epoch 13: 95 Aupr\n",
    "''')"
   ]
  },
  {
   "cell_type": "code",
   "execution_count": 221,
   "metadata": {},
   "outputs": [
    {
     "name": "stdout",
     "output_type": "stream",
     "text": [
      "0.9683162413028781 0.9888763341067285  0s AUPR and AUC\n",
      "\n",
      "Epoch 03: 95 Aupr\n",
      "Epoch 03: 96 Aupr\n",
      "Epoch 05: 96 Aupr\n",
      "Epoch 06: 96 Aupr\n",
      "Epoch 07: 96 Aupr\n",
      "Epoch 08: 96 Aupr\n",
      "Epoch 09: 97 Aupr\n",
      "Epoch 10: nan Aupr\n",
      "Epoch 11: 96 Aupr\n",
      "Epoch 12: 96 Aupr\n",
      "Epoch 13: 96 Aupr\n",
      "\n"
     ]
    }
   ],
   "source": [
    "# #from sklearn.metrics import precision_recall_curve, roc_curve\n",
    "\n",
    "prec, rec, thr = precision_recall_curve(y_test[:,1], predit[:,1])\n",
    "aupr_val = auc(rec, prec)\n",
    "fpr, tpr, thr = roc_curve(y_test[:,1], predit[:,1])\n",
    "auc_val = auc(fpr, tpr)\n",
    "print(aupr_val,auc_val, \" 0s AUPR and AUC\")\n",
    "print('''\n",
    "Epoch 03: 95 Aupr\n",
    "Epoch 03: 96 Aupr\n",
    "Epoch 05: 96 Aupr\n",
    "Epoch 06: 96 Aupr\n",
    "Epoch 07: 96 Aupr\n",
    "Epoch 08: 96 Aupr\n",
    "Epoch 09: 97 Aupr\n",
    "Epoch 10: 96 Aupr\n",
    "Epoch 11: 96 Aupr\n",
    "Epoch 12: 96 Aupr\n",
    "Epoch 13: 96 Aupr\n",
    "''')"
   ]
  },
  {
   "cell_type": "code",
   "execution_count": 222,
   "metadata": {},
   "outputs": [],
   "source": [
    "# print(model.history.history['val_acc'])"
   ]
  },
  {
   "cell_type": "code",
   "execution_count": 223,
   "metadata": {
    "scrolled": false
   },
   "outputs": [],
   "source": [
    "\n",
    "# # Plot training & validation accuracy values\n",
    "# plt.plot(list(range(1,7)),model.history.history['acc'])\n",
    "# plt.plot(list(range(1,7)),model.history.history['val_acc'])\n",
    "# plt.title('Model accuracy')\n",
    "# plt.ylabel('Accuracy')\n",
    "# plt.xlabel('Epoch')\n",
    "# plt.legend(['Train', 'Test'], loc='upper left')\n",
    "# plt.show()\n",
    "\n",
    "# # Plot training & validation loss values\n",
    "# plt.plot(list(range(1,7)),model.history.history['loss'])\n",
    "# plt.plot(list(range(1,7)),model.history.history['val_loss'])\n",
    "# plt.title('Model loss')\n",
    "# plt.ylabel('Loss')\n",
    "# plt.xlabel('Epoch')\n",
    "# plt.legend(['Train', 'Test'], loc='upper left')\n",
    "# plt.show()"
   ]
  },
  {
   "cell_type": "code",
   "execution_count": 224,
   "metadata": {},
   "outputs": [],
   "source": [
    "# # predit\n",
    "# predit[:,0].shape "
   ]
  },
  {
   "cell_type": "code",
   "execution_count": 225,
   "metadata": {
    "scrolled": false
   },
   "outputs": [],
   "source": [
    "predicts = []\n",
    "for a,b,c in predit:\n",
    "    if a >b and a>c:\n",
    "        predicts.append(0)\n",
    "    elif c>a and c>b:\n",
    "        predicts.append(2)\n",
    "    else:\n",
    "        predicts.append(1)"
   ]
  },
  {
   "cell_type": "code",
   "execution_count": 226,
   "metadata": {},
   "outputs": [
    {
     "name": "stdout",
     "output_type": "stream",
     "text": [
      "degrassive 155 enhancive 750 zeros 3960\n",
      "\n",
      "Epoch 03: degrassive 195 enhancive 732 zeros 3609\n",
      "Epoch 04: degrassive 209 enhancive 747 zeros 3649\n",
      "Epoch 05: degrassive 218 enhancive 720 zeros 3663\n",
      "Epoch 06: degrassive 244 enhancive 797 zeros 3722\n",
      "Epoch 07: degrassive 221 enhancive 848 zeros 3721\n",
      "Epoch 08: degrassive 206 enhancive 729 zeros 3821\n",
      "Epoch 09: degrassive 155 enhancive 961 zeros 3838\n",
      "Epoch 10: degrassive 72 enhancive 5 zeros 3571\n",
      "Epoch 11: degrassive 375 enhancive 1254 zeros 3476\n",
      "Epoch 12: degrassive 395 enhancive 1093 zeros 3571\n",
      "Epoch 13: degrassive 273 enhancive 873 zeros 3590\n",
      "\n"
     ]
    }
   ],
   "source": [
    "predicts1 = []\n",
    "e = d = z = 0\n",
    "\n",
    "for a,b,c in predit:\n",
    "    if a >=0.95:\n",
    "        predicts1.append(0)\n",
    "        d += 1\n",
    "    elif b>=0.95:\n",
    "        predicts1.append(2)\n",
    "        e += 1\n",
    "    elif a<=0.2 and b<=0.2:\n",
    "        predicts1.append(1)\n",
    "        z += 1\n",
    "    elif c>a and c>b:\n",
    "        predicts1.append(1)\n",
    "        z += 1\n",
    "print('degrassive', d, 'enhancive', e, 'zeros', z)\n",
    "print('''\n",
    "Epoch 03: degrassive 195 enhancive 732 zeros 3609\n",
    "Epoch 04: degrassive 209 enhancive 747 zeros 3649\n",
    "Epoch 05: degrassive 218 enhancive 720 zeros 3663\n",
    "Epoch 06: degrassive 244 enhancive 797 zeros 3722\n",
    "Epoch 07: degrassive 221 enhancive 848 zeros 3721\n",
    "Epoch 08: degrassive 206 enhancive 729 zeros 3821\n",
    "Epoch 09: degrassive 155 enhancive 961 zeros 3838\n",
    "Epoch 10: degrassive 155 enhancive 750 zeros 3960\n",
    "Epoch 11: degrassive 375 enhancive 1254 zeros 3476\n",
    "Epoch 12: degrassive 395 enhancive 1093 zeros 3571\n",
    "Epoch 13: degrassive 273 enhancive 873 zeros 3590\n",
    "''')"
   ]
  },
  {
   "cell_type": "code",
   "execution_count": 227,
   "metadata": {},
   "outputs": [],
   "source": [
    "# max(list((dataTest.values[:,2]+1)/2))"
   ]
  },
  {
   "cell_type": "code",
   "execution_count": 228,
   "metadata": {
    "scrolled": false
   },
   "outputs": [
    {
     "name": "stdout",
     "output_type": "stream",
     "text": [
      "[[ 723   17   67]\n",
      " [  79 1944   32]\n",
      " [ 112   39 3297]]\n",
      "              precision    recall  f1-score   support\n",
      "\n",
      "           0       0.90      0.79      0.84       914\n",
      "           1       0.95      0.97      0.96      2000\n",
      "           2       0.96      0.97      0.96      3396\n",
      "\n",
      "    accuracy                           0.95      6310\n",
      "   macro avg       0.93      0.91      0.92      6310\n",
      "weighted avg       0.94      0.95      0.94      6310\n",
      "\n"
     ]
    },
    {
     "name": "stderr",
     "output_type": "stream",
     "text": [
      "/home/amin/confusion_matrix_pretty_print.py:165: MatplotlibDeprecationWarning: \n",
      "The tick1On function was deprecated in Matplotlib 3.1 and will be removed in 3.3. Use Tick.tick1line.set_visible instead.\n",
      "  t.tick1On = False\n",
      "/home/amin/confusion_matrix_pretty_print.py:166: MatplotlibDeprecationWarning: \n",
      "The tick2On function was deprecated in Matplotlib 3.1 and will be removed in 3.3. Use Tick.tick2line.set_visible instead.\n",
      "  t.tick2On = False\n",
      "/home/amin/confusion_matrix_pretty_print.py:168: MatplotlibDeprecationWarning: \n",
      "The tick1On function was deprecated in Matplotlib 3.1 and will be removed in 3.3. Use Tick.tick1line.set_visible instead.\n",
      "  t.tick1On = False\n",
      "/home/amin/confusion_matrix_pretty_print.py:169: MatplotlibDeprecationWarning: \n",
      "The tick2On function was deprecated in Matplotlib 3.1 and will be removed in 3.3. Use Tick.tick2line.set_visible instead.\n",
      "  t.tick2On = False\n"
     ]
    },
    {
     "data": {
      "image/png": "[encoded data removed]",
      "text/plain": [
       "<Figure size 648x648 with 1 Axes>"
      ]
     },
     "metadata": {
      "needs_background": "light"
     },
     "output_type": "display_data"
    },
    {
     "name": "stdout",
     "output_type": "stream",
     "text": [
      "\n",
      "Epoch 03: \n",
      "              precision    recall  f1-score   support\n",
      "\n",
      "           0       0.79      0.67      0.72       914\n",
      "           1       0.93      0.94      0.93      2000\n",
      "           2       0.92      0.95      0.93      3396\n",
      "Epoch 04:\n",
      "              precision    recall  f1-score   support\n",
      "\n",
      "           0       0.84      0.71      0.77       914\n",
      "           1       0.93      0.95      0.94      2000\n",
      "           2       0.93      0.96      0.95      3396\n",
      "Epoch 05:\n",
      "              precision    recall  f1-score   support\n",
      "\n",
      "           0       0.85      0.75      0.80       914\n",
      "           1       0.94      0.97      0.95      2000\n",
      "           2       0.95      0.96      0.95      3396\n",
      "Epoch 06:\n",
      "              precision    recall  f1-score   support\n",
      "\n",
      "           0       0.85      0.77      0.81       914\n",
      "           1       0.94      0.96      0.95      2000\n",
      "           2       0.95      0.96      0.95      3396\n",
      "Epoch 07:\n",
      "              precision    recall  f1-score   support\n",
      "\n",
      "           0       0.87      0.78      0.82       914\n",
      "           1       0.94      0.97      0.95      2000\n",
      "           2       0.96      0.96      0.96      3396\n",
      "Epoch 08: \n",
      "              precision    recall  f1-score   support\n",
      "\n",
      "           0       0.88      0.81      0.84       914\n",
      "           1       0.95      0.97      0.96      2000\n",
      "           2       0.95      0.96      0.96      3396\n",
      "Epoch 09:\n",
      "              precision    recall  f1-score   support\n",
      "\n",
      "           0       0.92      0.76      0.83       914\n",
      "           1       0.93      0.98      0.95      2000\n",
      "           2       0.96      0.97      0.96      3396\n",
      "\n"
     ]
    }
   ],
   "source": [
    "\n",
    "cm = confusion_matrix(list(predicts), list((dataTest.values[:,2]+1)))\n",
    "print(cm)\n",
    "\n",
    "CR = classification_report(list((dataTest.values[:,2]+1)),list(predicts))\n",
    "print(CR)\n",
    "# print((92+90+140+67+42+81)/(6950))\n",
    "# i=0\n",
    "# for j in list(data.values[9500:,2]+1):\n",
    "#     if j==1:\n",
    "#         i +=1\n",
    "# print(i)\n",
    "\n",
    "# plt.show()\n",
    "plot_confusion_matrix_from_data(list((dataTest.values[:,2]+1)), list(predicts))\n",
    "plt.show()\n",
    "print(\"\"\"\n",
    "Epoch 03: \n",
    "              precision    recall  f1-score   support\n",
    "\n",
    "           0       0.79      0.67      0.72       914\n",
    "           1       0.93      0.94      0.93      2000\n",
    "           2       0.92      0.95      0.93      3396\n",
    "Epoch 04:\n",
    "              precision    recall  f1-score   support\n",
    "\n",
    "           0       0.84      0.71      0.77       914\n",
    "           1       0.93      0.95      0.94      2000\n",
    "           2       0.93      0.96      0.95      3396\n",
    "Epoch 05:\n",
    "              precision    recall  f1-score   support\n",
    "\n",
    "           0       0.85      0.75      0.80       914\n",
    "           1       0.94      0.97      0.95      2000\n",
    "           2       0.95      0.96      0.95      3396\n",
    "Epoch 06:\n",
    "              precision    recall  f1-score   support\n",
    "\n",
    "           0       0.85      0.77      0.81       914\n",
    "           1       0.94      0.96      0.95      2000\n",
    "           2       0.95      0.96      0.95      3396\n",
    "Epoch 07:\n",
    "              precision    recall  f1-score   support\n",
    "\n",
    "           0       0.87      0.78      0.82       914\n",
    "           1       0.94      0.97      0.95      2000\n",
    "           2       0.96      0.96      0.96      3396\n",
    "Epoch 08: \n",
    "              precision    recall  f1-score   support\n",
    "\n",
    "           0       0.88      0.81      0.84       914\n",
    "           1       0.95      0.97      0.96      2000\n",
    "           2       0.95      0.96      0.96      3396\n",
    "Epoch 09:\n",
    "              precision    recall  f1-score   support\n",
    "\n",
    "           0       0.92      0.76      0.83       914\n",
    "           1       0.93      0.98      0.95      2000\n",
    "           2       0.96      0.97      0.96      3396\n",
    "Epoch 10:\n",
    "              precision    recall  f1-score   support\n",
    "\n",
    "           0       0.90      0.79      0.84       914\n",
    "           1       0.95      0.97      0.96      2000\n",
    "           2       0.96      0.97      0.96      3396\n",
    "\"\"\")"
   ]
  },
  {
   "cell_type": "code",
   "execution_count": 229,
   "metadata": {},
   "outputs": [],
   "source": [
    "# print(pd.DataFrame(predit))"
   ]
  },
  {
   "cell_type": "code",
   "execution_count": 230,
   "metadata": {},
   "outputs": [
    {
     "data": {
      "image/png": "[encoded data removed]",
      "text/plain": [
       "<Figure size 432x288 with 1 Axes>"
      ]
     },
     "metadata": {
      "needs_background": "light"
     },
     "output_type": "display_data"
    }
   ],
   "source": [
    "pd.DataFrame(predit).plot.density()\n",
    "plt.show()"
   ]
  },
  {
   "cell_type": "code",
   "execution_count": 231,
   "metadata": {},
   "outputs": [
    {
     "data": {
      "image/png": "[encoded data removed]",
      "text/plain": [
       "<Figure size 432x288 with 1 Axes>"
      ]
     },
     "metadata": {
      "needs_background": "light"
     },
     "output_type": "display_data"
    }
   ],
   "source": [
    "pd.DataFrame(predit).iloc[:,0].plot.density()\n",
    "plt.show()"
   ]
  },
  {
   "cell_type": "code",
   "execution_count": 232,
   "metadata": {},
   "outputs": [
    {
     "data": {
      "image/png": "[encoded data removed]",
      "text/plain": [
       "<Figure size 432x288 with 1 Axes>"
      ]
     },
     "metadata": {
      "needs_background": "light"
     },
     "output_type": "display_data"
    }
   ],
   "source": [
    "pd.DataFrame(predit).iloc[:,1].plot.density()\n",
    "plt.show()"
   ]
  },
  {
   "cell_type": "code",
   "execution_count": 233,
   "metadata": {},
   "outputs": [
    {
     "data": {
      "image/png": "[encoded data removed]",
      "text/plain": [
       "<Figure size 432x288 with 1 Axes>"
      ]
     },
     "metadata": {
      "needs_background": "light"
     },
     "output_type": "display_data"
    }
   ],
   "source": [
    "pd.DataFrame(predit).iloc[:,2].plot.density()\n",
    "plt.show()"
   ]
  },
  {
   "cell_type": "code",
   "execution_count": 234,
   "metadata": {},
   "outputs": [
    {
     "data": {
      "image/png": "[encoded data removed]",
      "text/plain": [
       "<Figure size 1152x576 with 1 Axes>"
      ]
     },
     "metadata": {
      "needs_background": "light"
     },
     "output_type": "display_data"
    }
   ],
   "source": [
    "\n",
    "fig, ax = plt.subplots()\n",
    "fig.set_size_inches(16,8)\n",
    "\n",
    "# matplotlib histogram\n",
    "# plt.hist(pd.DataFrame(predit).iloc[:,1], color = 'blue', edgecolor = 'black',\n",
    "#          bins = int(200))\n",
    "\n",
    "# seaborn histogram\n",
    "\n",
    "sns.distplot(pd.DataFrame(predit).iloc[:,0], hist=True, kde=False, \n",
    "             bins=int(100), color = 'red',\n",
    "             hist_kws={'edgecolor':'black'})\n",
    "# sns.distplot(pd.DataFrame(predit).iloc[:,0], hist=True, kde=True, \n",
    "#              bins=int(200), color = 'darkblue', \n",
    "#              hist_kws={'edgecolor':'black'},\n",
    "#              kde_kws={'linewidth': 4})\n",
    "# Add labels\n",
    "plt.title('frequency Histogram of Drugs')\n",
    "plt.xlabel('Degressive drugs Probability')\n",
    "plt.ylabel('frequency distribution')\n",
    "plt.show()"
   ]
  },
  {
   "cell_type": "code",
   "execution_count": 235,
   "metadata": {},
   "outputs": [
    {
     "data": {
      "image/png": "[encoded data removed]",
      "text/plain": [
       "<Figure size 1152x576 with 1 Axes>"
      ]
     },
     "metadata": {
      "needs_background": "light"
     },
     "output_type": "display_data"
    }
   ],
   "source": [
    "fig, ax = plt.subplots()\n",
    "fig.set_size_inches(16, 8)\n",
    "\n",
    "# matplotlib histogram\n",
    "# plt.hist(pd.DataFrame(predit).iloc[:,1], color = 'blue', edgecolor = 'black',\n",
    "#          bins = int(200))\n",
    "\n",
    "# seaborn histogram\n",
    "sns.distplot(pd.DataFrame(predit).iloc[:,1], hist=True, kde=False, \n",
    "             bins=int(100), color = 'blue',\n",
    "             hist_kws={'edgecolor':'black'})\n",
    "\n",
    "# sns.distplot(pd.DataFrame(predit).iloc[:,0], hist=True, kde=True, \n",
    "#              bins=int(200), color = 'darkblue', \n",
    "#              hist_kws={'edgecolor':'black'},\n",
    "#              kde_kws={'linewidth': 4})\n",
    "# Add labels\n",
    "plt.title('frequency Histogram of Drugs')\n",
    "plt.xlabel('Enhancive drugs Probability')\n",
    "plt.ylabel('frequency distribution')\n",
    "plt.show()"
   ]
  },
  {
   "cell_type": "code",
   "execution_count": 236,
   "metadata": {},
   "outputs": [
    {
     "data": {
      "image/png": "[encoded data removed]",
      "text/plain": [
       "<Figure size 1152x576 with 1 Axes>"
      ]
     },
     "metadata": {
      "needs_background": "light"
     },
     "output_type": "display_data"
    }
   ],
   "source": [
    "\n",
    "fig, ax = plt.subplots()\n",
    "fig.set_size_inches(16,8)\n",
    "\n",
    "# matplotlib histogram\n",
    "# plt.hist(pd.DataFrame(predit).iloc[:,1], color = 'blue', edgecolor = 'black',\n",
    "#          bins = int(200))\n",
    "\n",
    "# seaborn histogram\n",
    "\n",
    "sns.distplot(pd.DataFrame(predit).iloc[:,2], hist=True, kde=False, \n",
    "             bins=int(100), color = 'red',\n",
    "             hist_kws={'edgecolor':'black'})\n",
    "# sns.distplot(pd.DataFrame(predit).iloc[:,0], hist=True, kde=True, \n",
    "#              bins=int(200), color = 'darkblue', \n",
    "#              hist_kws={'edgecolor':'black'},\n",
    "#              kde_kws={'linewidth': 4})\n",
    "# Add labels\n",
    "plt.title('frequency Histogram of Drugs')\n",
    "plt.xlabel('Zero drugs Probability')\n",
    "plt.ylabel('frequency distribution')\n",
    "plt.show()"
   ]
  },
  {
   "cell_type": "code",
   "execution_count": 237,
   "metadata": {},
   "outputs": [
    {
     "data": {
      "image/png": "[encoded data removed]",
      "text/plain": [
       "<Figure size 1152x576 with 1 Axes>"
      ]
     },
     "metadata": {
      "needs_background": "light"
     },
     "output_type": "display_data"
    }
   ],
   "source": [
    "\n",
    "fig, ax = plt.subplots()\n",
    "fig.set_size_inches(16,8)\n",
    "\n",
    "# matplotlib histogram\n",
    "# plt.hist(pd.DataFrame(predit).iloc[:,1], color = 'blue', edgecolor = 'black',\n",
    "#          bins = int(200))\n",
    "\n",
    "# seaborn histogram\n",
    "sns.distplot(pd.DataFrame(predit).iloc[:,1], hist=True, kde=False, \n",
    "             bins=int(100), color = 'blue',\n",
    "             hist_kws={'edgecolor':'black'})\n",
    "\n",
    "sns.distplot(pd.DataFrame(predit).iloc[:,0], hist=True, kde=False, \n",
    "             bins=int(100), color = 'red',\n",
    "             hist_kws={'edgecolor':'black'})\n",
    "\n",
    "sns.distplot(pd.DataFrame(predit).iloc[:,2], hist=True, kde=False, \n",
    "             bins=int(100), color = 'red',\n",
    "             hist_kws={'edgecolor':'black'})\n",
    "# sns.distplot(pd.DataFrame(predit).iloc[:,0], hist=True, kde=True, \n",
    "#              bins=int(200), color = 'darkblue', \n",
    "#              hist_kws={'edgecolor':'black'},\n",
    "#              kde_kws={'linewidth': 4})\n",
    "# Add labels\n",
    "plt.title('frequency Histogram of Drugs')\n",
    "plt.xlabel('both of Degressive and Enhancive drugs Probability')\n",
    "plt.ylabel('frequency distribution')\n",
    "plt.show()"
   ]
  },
  {
   "cell_type": "code",
   "execution_count": null,
   "metadata": {},
   "outputs": [],
   "source": []
  }
 ],
 "metadata": {
  "kernelspec": {
   "display_name": "Python 3 (ipykernel)",
   "language": "python",
   "name": "python3"
  },
  "language_info": {
   "codemirror_mode": {
    "name": "ipython",
    "version": 3
   },
   "file_extension": ".py",
   "mimetype": "text/x-python",
   "name": "python",
   "nbconvert_exporter": "python",
   "pygments_lexer": "ipython3",
   "version": "3.8.10"
  }
 },
 "nbformat": 4,
 "nbformat_minor": 2
}
