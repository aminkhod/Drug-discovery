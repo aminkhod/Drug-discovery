{
 "cells": [
  {
   "cell_type": "code",
   "execution_count": 1,
   "metadata": {},
   "outputs": [],
   "source": [
    "import numpy as np\n",
    "import pandas as pd"
   ]
  },
  {
   "cell_type": "code",
   "execution_count": 5,
   "metadata": {},
   "outputs": [
    {
     "data": {
      "text/plain": [
       "1072"
      ]
     },
     "execution_count": 5,
     "metadata": {},
     "output_type": "execute_result"
    }
   ],
   "source": [
    "# excel_file='Rivise data/DDI_triple_2.csv'\n",
    "# drug=pd.read_csv(excel_file, header=None)\n",
    "# df='data/drug_name_568.txt'\n",
    "# DF=pd.read_csv(df, header=None)\n",
    "d='data/drug-disease-datasets/C-DrugSim.txt'\n",
    "Drugsim=pd.read_csv(d, header=None, sep = '\\t')\n",
    "# print(Drugsim.head())\n",
    "\n",
    "Diseasesim = pd.read_csv('data/drug-disease-datasets/C-DiseaseSim.txt',header=None, sep = '\\t')\n",
    "# print(diseasesim.head())\n",
    "\n",
    "# Drugs_disease_interaction = pd.read_csv('C-drug-disease interactions.txt',sep = '\\t', header=None)\n",
    "# # print(Drugs_disease_interaction.head())\n",
    "663+409"
   ]
  },
  {
   "cell_type": "code",
   "execution_count": 6,
   "metadata": {},
   "outputs": [],
   "source": [
    "# ### Deleting missing Drugs\n",
    "# druglist=[]\n",
    "# mismatch=[]\n",
    "\n",
    "# for j in range(len(D)):\n",
    "#     druglist.insert(j,D.loc[j][0])\n",
    "# for i in range(len(DF.loc[0])):\n",
    "#     if not DF.loc[i][1] in (druglist):\n",
    "#             print(i,DF.loc[i][1])\n",
    "#             mismatch.insert(i,DF.loc[i][1])\n",
    "#             DF=DF.drop([i])\n",
    "#             drug=drug.drop([i],axis=0)\n",
    "#             drug=drug.drop([i],axis=1)"
   ]
  },
  {
   "cell_type": "code",
   "execution_count": 7,
   "metadata": {},
   "outputs": [],
   "source": [
    "# Drugs_disease_interaction.iloc[1:,0].to_csv(\"saved Diseasename.csv\",index=False)\n",
    "Diseasename = pd.read_csv(\"saved Diseasename.csv\", header=0)\n",
    "\n",
    "# Drugs_disease_interaction.iloc[0,1:].to_csv(\"saved Drugname.csv\",index=False)\n",
    "Drugname = pd.read_csv(\"saved Drugname.csv\", header=0)\n",
    "\n",
    "# Drugs_disease_interaction.iloc[1:,1:].to_csv('saved drug.csv',index=False)\n",
    "drug = pd.read_csv('saved drug.csv', header=0)\n",
    "\n",
    "Drugsim.insert(0, \"-1\", Drugname, True)\n",
    "Diseasesim.insert(0, \"-1\", Diseasename, True)\n",
    "\n",
    "\n",
    "\n",
    "# print(Drugname.shape)\n",
    "# print(Diseasename.shape)\n",
    "# print(drug.head())"
   ]
  },
  {
   "cell_type": "code",
   "execution_count": 8,
   "metadata": {},
   "outputs": [
    {
     "data": {
      "text/plain": [
       "(409, 663)"
      ]
     },
     "execution_count": 8,
     "metadata": {},
     "output_type": "execute_result"
    }
   ],
   "source": [
    "drug.shape"
   ]
  },
  {
   "cell_type": "code",
   "execution_count": 9,
   "metadata": {},
   "outputs": [],
   "source": [
    "finalmatrix=[]\n",
    "for i in range(len(Diseasename.iloc[:,0])):\n",
    "    for j in range(len(Drugname.iloc[:,0])):\n",
    "        result=[Diseasename.loc[i][0], Drugname.loc[j][0],drug.loc[i][j]]\n",
    "#         print(result)\n",
    "        finalmatrix.append(result)\n"
   ]
  },
  {
   "cell_type": "code",
   "execution_count": 10,
   "metadata": {},
   "outputs": [
    {
     "data": {
      "text/plain": [
       "271167"
      ]
     },
     "execution_count": 10,
     "metadata": {},
     "output_type": "execute_result"
    }
   ],
   "source": [
    "len(finalmatrix)"
   ]
  },
  {
   "cell_type": "code",
   "execution_count": 11,
   "metadata": {},
   "outputs": [],
   "source": [
    "del drug"
   ]
  },
  {
   "cell_type": "code",
   "execution_count": 12,
   "metadata": {},
   "outputs": [],
   "source": [
    "F = pd.DataFrame(finalmatrix)\n",
    "F.to_csv(\"saved F_pairs.csv\",index=False)\n",
    "del finalmatrix"
   ]
  },
  {
   "cell_type": "code",
   "execution_count": 13,
   "metadata": {},
   "outputs": [
    {
     "data": {
      "text/html": [
       "<div>\n",
       "<style scoped>\n",
       "    .dataframe tbody tr th:only-of-type {\n",
       "        vertical-align: middle;\n",
       "    }\n",
       "\n",
       "    .dataframe tbody tr th {\n",
       "        vertical-align: top;\n",
       "    }\n",
       "\n",
       "    .dataframe thead th {\n",
       "        text-align: right;\n",
       "    }\n",
       "</style>\n",
       "<table border=\"1\" class=\"dataframe\">\n",
       "  <thead>\n",
       "    <tr style=\"text-align: right;\">\n",
       "      <th></th>\n",
       "      <th>0</th>\n",
       "      <th>1</th>\n",
       "      <th>2</th>\n",
       "    </tr>\n",
       "  </thead>\n",
       "  <tbody>\n",
       "    <tr>\n",
       "      <th>0</th>\n",
       "      <td>D102100</td>\n",
       "      <td>DB00014</td>\n",
       "      <td>0</td>\n",
       "    </tr>\n",
       "    <tr>\n",
       "      <th>1</th>\n",
       "      <td>D102100</td>\n",
       "      <td>DB00035</td>\n",
       "      <td>0</td>\n",
       "    </tr>\n",
       "    <tr>\n",
       "      <th>2</th>\n",
       "      <td>D102100</td>\n",
       "      <td>DB00091</td>\n",
       "      <td>0</td>\n",
       "    </tr>\n",
       "    <tr>\n",
       "      <th>3</th>\n",
       "      <td>D102100</td>\n",
       "      <td>DB00104</td>\n",
       "      <td>0</td>\n",
       "    </tr>\n",
       "    <tr>\n",
       "      <th>4</th>\n",
       "      <td>D102100</td>\n",
       "      <td>DB00115</td>\n",
       "      <td>0</td>\n",
       "    </tr>\n",
       "    <tr>\n",
       "      <th>...</th>\n",
       "      <td>...</td>\n",
       "      <td>...</td>\n",
       "      <td>...</td>\n",
       "    </tr>\n",
       "    <tr>\n",
       "      <th>271162</th>\n",
       "      <td>D608907</td>\n",
       "      <td>DB08835</td>\n",
       "      <td>0</td>\n",
       "    </tr>\n",
       "    <tr>\n",
       "      <th>271163</th>\n",
       "      <td>D608907</td>\n",
       "      <td>DB08896</td>\n",
       "      <td>0</td>\n",
       "    </tr>\n",
       "    <tr>\n",
       "      <th>271164</th>\n",
       "      <td>D608907</td>\n",
       "      <td>DB08901</td>\n",
       "      <td>0</td>\n",
       "    </tr>\n",
       "    <tr>\n",
       "      <th>271165</th>\n",
       "      <td>D608907</td>\n",
       "      <td>DB08906</td>\n",
       "      <td>0</td>\n",
       "    </tr>\n",
       "    <tr>\n",
       "      <th>271166</th>\n",
       "      <td>D608907</td>\n",
       "      <td>DB08907</td>\n",
       "      <td>0</td>\n",
       "    </tr>\n",
       "  </tbody>\n",
       "</table>\n",
       "<p>271167 rows × 3 columns</p>\n",
       "</div>"
      ],
      "text/plain": [
       "              0        1  2\n",
       "0       D102100  DB00014  0\n",
       "1       D102100  DB00035  0\n",
       "2       D102100  DB00091  0\n",
       "3       D102100  DB00104  0\n",
       "4       D102100  DB00115  0\n",
       "...         ...      ... ..\n",
       "271162  D608907  DB08835  0\n",
       "271163  D608907  DB08896  0\n",
       "271164  D608907  DB08901  0\n",
       "271165  D608907  DB08906  0\n",
       "271166  D608907  DB08907  0\n",
       "\n",
       "[271167 rows x 3 columns]"
      ]
     },
     "execution_count": 13,
     "metadata": {},
     "output_type": "execute_result"
    }
   ],
   "source": [
    "F = pd.read_csv(\"saved F_pairs.csv\")\n",
    "F"
   ]
  },
  {
   "cell_type": "code",
   "execution_count": 14,
   "metadata": {},
   "outputs": [],
   "source": [
    "# r, c = F.shape\n",
    "# print(r,c)\n",
    "# print(F.iloc[0,:])"
   ]
  },
  {
   "cell_type": "code",
   "execution_count": 15,
   "metadata": {},
   "outputs": [],
   "source": [
    "# j = 0\n",
    "# for i in range(0, r, len(DF.iloc[:,0])):\n",
    "#     try:\n",
    "#         F = F.drop([i + j])\n",
    "# #         print(i)\n",
    "#     except:\n",
    "#         1\n",
    "# #         print(str(i)+ \" can't be droped\")\n",
    "#     j += 1\n",
    "# F.shape"
   ]
  },
  {
   "cell_type": "code",
   "execution_count": 16,
   "metadata": {},
   "outputs": [
    {
     "name": "stdout",
     "output_type": "stream",
     "text": [
      "271167 3\n"
     ]
    },
    {
     "data": {
      "text/plain": [
       "0    D102100\n",
       "1    DB00014\n",
       "2          0\n",
       "Name: 0, dtype: object"
      ]
     },
     "execution_count": 16,
     "metadata": {},
     "output_type": "execute_result"
    }
   ],
   "source": [
    "r, c = F.shape\n",
    "print(r,c)\n",
    "# list(range(0, r, len(DF.iloc[:,0])))\n",
    "F.iloc[0,:]"
   ]
  },
  {
   "cell_type": "code",
   "execution_count": 17,
   "metadata": {},
   "outputs": [
    {
     "name": "stdout",
     "output_type": "stream",
     "text": [
      "(663, 664)\n"
     ]
    },
    {
     "data": {
      "text/plain": [
       "(409, 410)"
      ]
     },
     "execution_count": 17,
     "metadata": {},
     "output_type": "execute_result"
    }
   ],
   "source": [
    "print(Drugsim.shape)\n",
    "Diseasesim.shape"
   ]
  },
  {
   "cell_type": "code",
   "execution_count": 18,
   "metadata": {
    "scrolled": true
   },
   "outputs": [
    {
     "data": {
      "text/plain": [
       "271167"
      ]
     },
     "execution_count": 18,
     "metadata": {},
     "output_type": "execute_result"
    }
   ],
   "source": [
    "409 *663"
   ]
  },
  {
   "cell_type": "code",
   "execution_count": 19,
   "metadata": {},
   "outputs": [],
   "source": [
    "# F =F.iloc[:,:3]\n",
    "# F"
   ]
  },
  {
   "cell_type": "code",
   "execution_count": 20,
   "metadata": {},
   "outputs": [],
   "source": [
    "# print(len(Drugsim.iloc[0,:]),len(Diseasesim.iloc[0,:]))"
   ]
  },
  {
   "cell_type": "code",
   "execution_count": 21,
   "metadata": {},
   "outputs": [
    {
     "name": "stdout",
     "output_type": "stream",
     "text": [
      "(271167, 666)\n"
     ]
    }
   ],
   "source": [
    "for k in range(len(Drugsim.iloc[0,:])-1):\n",
    "    F[k + 3] = F['1'].map(Drugsim.set_index('-1')[k])\n",
    "    k += 1\n",
    "print(F.shape)\n",
    "# F"
   ]
  },
  {
   "cell_type": "code",
   "execution_count": 22,
   "metadata": {},
   "outputs": [],
   "source": [
    "for k in range(len(Diseasesim.iloc[0,:])-1):\n",
    "    F[k + len(Drugsim.iloc[0,:]) + 3] = F['0'].map(Diseasesim.set_index('-1')[k])\n",
    "    k += 1"
   ]
  },
  {
   "cell_type": "code",
   "execution_count": 23,
   "metadata": {},
   "outputs": [
    {
     "name": "stdout",
     "output_type": "stream",
     "text": [
      "(271167, 1075)\n"
     ]
    },
    {
     "data": {
      "text/html": [
       "<div>\n",
       "<style scoped>\n",
       "    .dataframe tbody tr th:only-of-type {\n",
       "        vertical-align: middle;\n",
       "    }\n",
       "\n",
       "    .dataframe tbody tr th {\n",
       "        vertical-align: top;\n",
       "    }\n",
       "\n",
       "    .dataframe thead th {\n",
       "        text-align: right;\n",
       "    }\n",
       "</style>\n",
       "<table border=\"1\" class=\"dataframe\">\n",
       "  <thead>\n",
       "    <tr style=\"text-align: right;\">\n",
       "      <th></th>\n",
       "      <th>0</th>\n",
       "      <th>1</th>\n",
       "      <th>2</th>\n",
       "      <th>3</th>\n",
       "      <th>4</th>\n",
       "      <th>5</th>\n",
       "      <th>6</th>\n",
       "      <th>7</th>\n",
       "      <th>8</th>\n",
       "      <th>9</th>\n",
       "      <th>...</th>\n",
       "      <th>1066</th>\n",
       "      <th>1067</th>\n",
       "      <th>1068</th>\n",
       "      <th>1069</th>\n",
       "      <th>1070</th>\n",
       "      <th>1071</th>\n",
       "      <th>1072</th>\n",
       "      <th>1073</th>\n",
       "      <th>1074</th>\n",
       "      <th>1075</th>\n",
       "    </tr>\n",
       "  </thead>\n",
       "  <tbody>\n",
       "    <tr>\n",
       "      <th>0</th>\n",
       "      <td>D102100</td>\n",
       "      <td>DB00014</td>\n",
       "      <td>0</td>\n",
       "      <td>1.00000</td>\n",
       "      <td>0.44574</td>\n",
       "      <td>0.25000</td>\n",
       "      <td>0.52140</td>\n",
       "      <td>0.27515</td>\n",
       "      <td>0.05046</td>\n",
       "      <td>0.17621</td>\n",
       "      <td>...</td>\n",
       "      <td>0.030720</td>\n",
       "      <td>0.143010</td>\n",
       "      <td>0.0</td>\n",
       "      <td>0.0</td>\n",
       "      <td>0.0</td>\n",
       "      <td>0.00000</td>\n",
       "      <td>0.00000</td>\n",
       "      <td>0.094405</td>\n",
       "      <td>0.12665</td>\n",
       "      <td>0.0</td>\n",
       "    </tr>\n",
       "    <tr>\n",
       "      <th>1</th>\n",
       "      <td>D102100</td>\n",
       "      <td>DB00035</td>\n",
       "      <td>0</td>\n",
       "      <td>0.44574</td>\n",
       "      <td>1.00000</td>\n",
       "      <td>0.28249</td>\n",
       "      <td>0.63184</td>\n",
       "      <td>0.20779</td>\n",
       "      <td>0.05732</td>\n",
       "      <td>0.28302</td>\n",
       "      <td>...</td>\n",
       "      <td>0.030720</td>\n",
       "      <td>0.143010</td>\n",
       "      <td>0.0</td>\n",
       "      <td>0.0</td>\n",
       "      <td>0.0</td>\n",
       "      <td>0.00000</td>\n",
       "      <td>0.00000</td>\n",
       "      <td>0.094405</td>\n",
       "      <td>0.12665</td>\n",
       "      <td>0.0</td>\n",
       "    </tr>\n",
       "    <tr>\n",
       "      <th>2</th>\n",
       "      <td>D102100</td>\n",
       "      <td>DB00091</td>\n",
       "      <td>0</td>\n",
       "      <td>0.25000</td>\n",
       "      <td>0.28249</td>\n",
       "      <td>1.00000</td>\n",
       "      <td>0.33880</td>\n",
       "      <td>0.14734</td>\n",
       "      <td>0.15278</td>\n",
       "      <td>0.30108</td>\n",
       "      <td>...</td>\n",
       "      <td>0.030720</td>\n",
       "      <td>0.143010</td>\n",
       "      <td>0.0</td>\n",
       "      <td>0.0</td>\n",
       "      <td>0.0</td>\n",
       "      <td>0.00000</td>\n",
       "      <td>0.00000</td>\n",
       "      <td>0.094405</td>\n",
       "      <td>0.12665</td>\n",
       "      <td>0.0</td>\n",
       "    </tr>\n",
       "    <tr>\n",
       "      <th>3</th>\n",
       "      <td>D102100</td>\n",
       "      <td>DB00104</td>\n",
       "      <td>0</td>\n",
       "      <td>0.52140</td>\n",
       "      <td>0.63184</td>\n",
       "      <td>0.33880</td>\n",
       "      <td>1.00000</td>\n",
       "      <td>0.24138</td>\n",
       "      <td>0.06358</td>\n",
       "      <td>0.18717</td>\n",
       "      <td>...</td>\n",
       "      <td>0.030720</td>\n",
       "      <td>0.143010</td>\n",
       "      <td>0.0</td>\n",
       "      <td>0.0</td>\n",
       "      <td>0.0</td>\n",
       "      <td>0.00000</td>\n",
       "      <td>0.00000</td>\n",
       "      <td>0.094405</td>\n",
       "      <td>0.12665</td>\n",
       "      <td>0.0</td>\n",
       "    </tr>\n",
       "    <tr>\n",
       "      <th>4</th>\n",
       "      <td>D102100</td>\n",
       "      <td>DB00115</td>\n",
       "      <td>0</td>\n",
       "      <td>0.27515</td>\n",
       "      <td>0.20779</td>\n",
       "      <td>0.14734</td>\n",
       "      <td>0.24138</td>\n",
       "      <td>1.00000</td>\n",
       "      <td>0.02730</td>\n",
       "      <td>0.09976</td>\n",
       "      <td>...</td>\n",
       "      <td>0.030720</td>\n",
       "      <td>0.143010</td>\n",
       "      <td>0.0</td>\n",
       "      <td>0.0</td>\n",
       "      <td>0.0</td>\n",
       "      <td>0.00000</td>\n",
       "      <td>0.00000</td>\n",
       "      <td>0.094405</td>\n",
       "      <td>0.12665</td>\n",
       "      <td>0.0</td>\n",
       "    </tr>\n",
       "    <tr>\n",
       "      <th>...</th>\n",
       "      <td>...</td>\n",
       "      <td>...</td>\n",
       "      <td>...</td>\n",
       "      <td>...</td>\n",
       "      <td>...</td>\n",
       "      <td>...</td>\n",
       "      <td>...</td>\n",
       "      <td>...</td>\n",
       "      <td>...</td>\n",
       "      <td>...</td>\n",
       "      <td>...</td>\n",
       "      <td>...</td>\n",
       "      <td>...</td>\n",
       "      <td>...</td>\n",
       "      <td>...</td>\n",
       "      <td>...</td>\n",
       "      <td>...</td>\n",
       "      <td>...</td>\n",
       "      <td>...</td>\n",
       "      <td>...</td>\n",
       "      <td>...</td>\n",
       "    </tr>\n",
       "    <tr>\n",
       "      <th>271162</th>\n",
       "      <td>D608907</td>\n",
       "      <td>DB08835</td>\n",
       "      <td>0</td>\n",
       "      <td>0.26407</td>\n",
       "      <td>0.37126</td>\n",
       "      <td>0.41748</td>\n",
       "      <td>0.30000</td>\n",
       "      <td>0.15777</td>\n",
       "      <td>0.14865</td>\n",
       "      <td>0.38202</td>\n",
       "      <td>...</td>\n",
       "      <td>0.028113</td>\n",
       "      <td>0.039185</td>\n",
       "      <td>0.0</td>\n",
       "      <td>0.0</td>\n",
       "      <td>0.0</td>\n",
       "      <td>0.23197</td>\n",
       "      <td>0.21154</td>\n",
       "      <td>0.158720</td>\n",
       "      <td>0.00000</td>\n",
       "      <td>1.0</td>\n",
       "    </tr>\n",
       "    <tr>\n",
       "      <th>271163</th>\n",
       "      <td>D608907</td>\n",
       "      <td>DB08896</td>\n",
       "      <td>0</td>\n",
       "      <td>0.20000</td>\n",
       "      <td>0.17814</td>\n",
       "      <td>0.10053</td>\n",
       "      <td>0.17939</td>\n",
       "      <td>0.15914</td>\n",
       "      <td>0.06522</td>\n",
       "      <td>0.10778</td>\n",
       "      <td>...</td>\n",
       "      <td>0.028113</td>\n",
       "      <td>0.039185</td>\n",
       "      <td>0.0</td>\n",
       "      <td>0.0</td>\n",
       "      <td>0.0</td>\n",
       "      <td>0.23197</td>\n",
       "      <td>0.21154</td>\n",
       "      <td>0.158720</td>\n",
       "      <td>0.00000</td>\n",
       "      <td>1.0</td>\n",
       "    </tr>\n",
       "    <tr>\n",
       "      <th>271164</th>\n",
       "      <td>D608907</td>\n",
       "      <td>DB08901</td>\n",
       "      <td>0</td>\n",
       "      <td>0.21779</td>\n",
       "      <td>0.15172</td>\n",
       "      <td>0.11062</td>\n",
       "      <td>0.20137</td>\n",
       "      <td>0.20497</td>\n",
       "      <td>0.04396</td>\n",
       "      <td>0.07042</td>\n",
       "      <td>...</td>\n",
       "      <td>0.028113</td>\n",
       "      <td>0.039185</td>\n",
       "      <td>0.0</td>\n",
       "      <td>0.0</td>\n",
       "      <td>0.0</td>\n",
       "      <td>0.23197</td>\n",
       "      <td>0.21154</td>\n",
       "      <td>0.158720</td>\n",
       "      <td>0.00000</td>\n",
       "      <td>1.0</td>\n",
       "    </tr>\n",
       "    <tr>\n",
       "      <th>271165</th>\n",
       "      <td>D608907</td>\n",
       "      <td>DB08906</td>\n",
       "      <td>0</td>\n",
       "      <td>0.18076</td>\n",
       "      <td>0.17931</td>\n",
       "      <td>0.16143</td>\n",
       "      <td>0.21212</td>\n",
       "      <td>0.19433</td>\n",
       "      <td>0.03125</td>\n",
       "      <td>0.12919</td>\n",
       "      <td>...</td>\n",
       "      <td>0.028113</td>\n",
       "      <td>0.039185</td>\n",
       "      <td>0.0</td>\n",
       "      <td>0.0</td>\n",
       "      <td>0.0</td>\n",
       "      <td>0.23197</td>\n",
       "      <td>0.21154</td>\n",
       "      <td>0.158720</td>\n",
       "      <td>0.00000</td>\n",
       "      <td>1.0</td>\n",
       "    </tr>\n",
       "    <tr>\n",
       "      <th>271166</th>\n",
       "      <td>D608907</td>\n",
       "      <td>DB08907</td>\n",
       "      <td>0</td>\n",
       "      <td>0.21341</td>\n",
       "      <td>0.20504</td>\n",
       "      <td>0.10526</td>\n",
       "      <td>0.22569</td>\n",
       "      <td>0.20455</td>\n",
       "      <td>0.03804</td>\n",
       "      <td>0.12255</td>\n",
       "      <td>...</td>\n",
       "      <td>0.028113</td>\n",
       "      <td>0.039185</td>\n",
       "      <td>0.0</td>\n",
       "      <td>0.0</td>\n",
       "      <td>0.0</td>\n",
       "      <td>0.23197</td>\n",
       "      <td>0.21154</td>\n",
       "      <td>0.158720</td>\n",
       "      <td>0.00000</td>\n",
       "      <td>1.0</td>\n",
       "    </tr>\n",
       "  </tbody>\n",
       "</table>\n",
       "<p>271167 rows × 1075 columns</p>\n",
       "</div>"
      ],
      "text/plain": [
       "              0        1  2        3        4        5        6        7  \\\n",
       "0       D102100  DB00014  0  1.00000  0.44574  0.25000  0.52140  0.27515   \n",
       "1       D102100  DB00035  0  0.44574  1.00000  0.28249  0.63184  0.20779   \n",
       "2       D102100  DB00091  0  0.25000  0.28249  1.00000  0.33880  0.14734   \n",
       "3       D102100  DB00104  0  0.52140  0.63184  0.33880  1.00000  0.24138   \n",
       "4       D102100  DB00115  0  0.27515  0.20779  0.14734  0.24138  1.00000   \n",
       "...         ...      ... ..      ...      ...      ...      ...      ...   \n",
       "271162  D608907  DB08835  0  0.26407  0.37126  0.41748  0.30000  0.15777   \n",
       "271163  D608907  DB08896  0  0.20000  0.17814  0.10053  0.17939  0.15914   \n",
       "271164  D608907  DB08901  0  0.21779  0.15172  0.11062  0.20137  0.20497   \n",
       "271165  D608907  DB08906  0  0.18076  0.17931  0.16143  0.21212  0.19433   \n",
       "271166  D608907  DB08907  0  0.21341  0.20504  0.10526  0.22569  0.20455   \n",
       "\n",
       "              8        9  ...      1066      1067  1068  1069  1070     1071  \\\n",
       "0       0.05046  0.17621  ...  0.030720  0.143010   0.0   0.0   0.0  0.00000   \n",
       "1       0.05732  0.28302  ...  0.030720  0.143010   0.0   0.0   0.0  0.00000   \n",
       "2       0.15278  0.30108  ...  0.030720  0.143010   0.0   0.0   0.0  0.00000   \n",
       "3       0.06358  0.18717  ...  0.030720  0.143010   0.0   0.0   0.0  0.00000   \n",
       "4       0.02730  0.09976  ...  0.030720  0.143010   0.0   0.0   0.0  0.00000   \n",
       "...         ...      ...  ...       ...       ...   ...   ...   ...      ...   \n",
       "271162  0.14865  0.38202  ...  0.028113  0.039185   0.0   0.0   0.0  0.23197   \n",
       "271163  0.06522  0.10778  ...  0.028113  0.039185   0.0   0.0   0.0  0.23197   \n",
       "271164  0.04396  0.07042  ...  0.028113  0.039185   0.0   0.0   0.0  0.23197   \n",
       "271165  0.03125  0.12919  ...  0.028113  0.039185   0.0   0.0   0.0  0.23197   \n",
       "271166  0.03804  0.12255  ...  0.028113  0.039185   0.0   0.0   0.0  0.23197   \n",
       "\n",
       "           1072      1073     1074  1075  \n",
       "0       0.00000  0.094405  0.12665   0.0  \n",
       "1       0.00000  0.094405  0.12665   0.0  \n",
       "2       0.00000  0.094405  0.12665   0.0  \n",
       "3       0.00000  0.094405  0.12665   0.0  \n",
       "4       0.00000  0.094405  0.12665   0.0  \n",
       "...         ...       ...      ...   ...  \n",
       "271162  0.21154  0.158720  0.00000   1.0  \n",
       "271163  0.21154  0.158720  0.00000   1.0  \n",
       "271164  0.21154  0.158720  0.00000   1.0  \n",
       "271165  0.21154  0.158720  0.00000   1.0  \n",
       "271166  0.21154  0.158720  0.00000   1.0  \n",
       "\n",
       "[271167 rows x 1075 columns]"
      ]
     },
     "execution_count": 23,
     "metadata": {},
     "output_type": "execute_result"
    }
   ],
   "source": [
    "print(F.shape)\n",
    "F"
   ]
  },
  {
   "cell_type": "code",
   "execution_count": 24,
   "metadata": {},
   "outputs": [],
   "source": [
    "del Diseasename\n",
    "del Drugsim\n",
    "del Drugname\n",
    "del Diseasesim"
   ]
  },
  {
   "cell_type": "code",
   "execution_count": 25,
   "metadata": {},
   "outputs": [
    {
     "data": {
      "text/plain": [
       "(271167, 1075)"
      ]
     },
     "execution_count": 25,
     "metadata": {},
     "output_type": "execute_result"
    }
   ],
   "source": [
    "F.shape"
   ]
  },
  {
   "cell_type": "code",
   "execution_count": 26,
   "metadata": {},
   "outputs": [],
   "source": [
    "F.to_csv(\"../saved F(Drug-Disease).csv\",index=False)\n"
   ]
  },
  {
   "cell_type": "code",
   "execution_count": 27,
   "metadata": {},
   "outputs": [],
   "source": [
    "del F"
   ]
  },
  {
   "cell_type": "code",
   "execution_count": 28,
   "metadata": {},
   "outputs": [
    {
     "data": {
      "text/plain": [
       "67.0"
      ]
     },
     "execution_count": 28,
     "metadata": {},
     "output_type": "execute_result"
    }
   ],
   "source": [
    "1072/16"
   ]
  },
  {
   "cell_type": "code",
   "execution_count": null,
   "metadata": {},
   "outputs": [],
   "source": []
  }
 ],
 "metadata": {
  "kernelspec": {
   "display_name": "Python 3",
   "language": "python",
   "name": "python3"
  },
  "language_info": {
   "codemirror_mode": {
    "name": "ipython",
    "version": 3
   },
   "file_extension": ".py",
   "mimetype": "text/x-python",
   "name": "python",
   "nbconvert_exporter": "python",
   "pygments_lexer": "ipython3",
   "version": "3.6.9"
  }
 },
 "nbformat": 4,
 "nbformat_minor": 2
}
