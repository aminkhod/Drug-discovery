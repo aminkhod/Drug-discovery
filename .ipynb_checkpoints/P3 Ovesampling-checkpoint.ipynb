{
 "cells": [
  {
   "cell_type": "code",
   "execution_count": 2,
   "id": "896b908c",
   "metadata": {},
   "outputs": [],
   "source": [
    "import pandas as pd\n",
    "import numpy as np"
   ]
  },
  {
   "cell_type": "code",
   "execution_count": 4,
   "id": "9ebe99d8",
   "metadata": {},
   "outputs": [],
   "source": [
    "df = pd.read_csv('../saved F(Drug-Disease).csv')"
   ]
  },
  {
   "cell_type": "code",
   "execution_count": null,
   "id": "18ffd952",
   "metadata": {},
   "outputs": [],
   "source": [
    "# OverSampling\n",
    "from imblearn.over_sampling import RandomOverSampler\n",
    "\n",
    "\n",
    "# Dividing the data into X and Y\n",
    "X=df.drop('2',axis=1)\n",
    "y=df['2']\n",
    "\n",
    "oversample = RandomOverSampler(sampling_strategy='minority')\n",
    "X_oversample, y_oversample = oversample.fit_resample(X, y)"
   ]
  },
  {
   "cell_type": "code",
   "execution_count": null,
   "id": "9b13a788",
   "metadata": {},
   "outputs": [],
   "source": [
    "y_over.value_counts()"
   ]
  },
  {
   "cell_type": "code",
   "execution_count": null,
   "id": "db19afda",
   "metadata": {},
   "outputs": [],
   "source": [
    "df=pd.concat([X_over, y_over], axis=1)\n",
    "df.shape"
   ]
  },
  {
   "cell_type": "code",
   "execution_count": null,
   "id": "38512315",
   "metadata": {},
   "outputs": [],
   "source": [
    "df.to_csv('../Actual Data_BalanceData_oversampling.csv', index=False)\n",
    "del df"
   ]
  },
  {
   "cell_type": "code",
   "execution_count": null,
   "id": "c3b4fdf6",
   "metadata": {},
   "outputs": [],
   "source": [
    "#smote\n",
    "from imblearn.over_sampling import SMOTE\n",
    "smote_sampler = SMOTE(random_state=42)\n",
    "X_smote , y_smote = smote_sampler.fit_resample(X,y)\n",
    "X_smote.shape"
   ]
  },
  {
   "cell_type": "code",
   "execution_count": null,
   "id": "a5c2ec05",
   "metadata": {},
   "outputs": [],
   "source": [
    "y.value_counts()"
   ]
  },
  {
   "cell_type": "code",
   "execution_count": null,
   "id": "ba76dd5d",
   "metadata": {},
   "outputs": [],
   "source": [
    "X_smote= pd.DataFrame(X_smote)\n",
    "y_smote= pd.DataFrame(y_smote)\n",
    "y_smote.value_counts()"
   ]
  },
  {
   "cell_type": "code",
   "execution_count": null,
   "id": "3b8bc9a5",
   "metadata": {},
   "outputs": [],
   "source": [
    "dfsmote=pd.concat([X_smote, y_smote], axis=1)\n",
    "dfsmote.to_excel('../Actual Data_BalanceData_SMOTE.xlsx', index=False)\n",
    "del dfsmote"
   ]
  },
  {
   "cell_type": "code",
   "execution_count": null,
   "id": "8b09ddff",
   "metadata": {},
   "outputs": [],
   "source": [
    "# ADASYN\n",
    "from imblearn.over_sampling import ADASYN\n",
    "X_adasyn, y_adasyn = ADASYN().fit_resample(X, y)\n",
    "del X\n",
    "X_adasyn= pd.DataFrame(X_adasyn)\n",
    "y_adasyn= pd.DataFrame(y_adasyn)\n",
    "y_adasyn.value_counts()"
   ]
  },
  {
   "cell_type": "code",
   "execution_count": null,
   "id": "3685f177",
   "metadata": {},
   "outputs": [],
   "source": [
    "X_adasyn.shape"
   ]
  },
  {
   "cell_type": "code",
   "execution_count": null,
   "id": "285e75d9",
   "metadata": {},
   "outputs": [],
   "source": [
    "dfadasyn=pd.concat([X_adasyn, y_adasyn], axis=1)\n",
    "dfadasyn.to_excel('../Actual Data_BalanceData_Adasyn.xlsx', index=False)"
   ]
  },
  {
   "cell_type": "code",
   "execution_count": null,
   "id": "e3b34ed4",
   "metadata": {},
   "outputs": [],
   "source": []
  }
 ],
 "metadata": {
  "kernelspec": {
   "display_name": "Python 3 (ipykernel)",
   "language": "python",
   "name": "python3"
  },
  "language_info": {
   "codemirror_mode": {
    "name": "ipython",
    "version": 3
   },
   "file_extension": ".py",
   "mimetype": "text/x-python",
   "name": "python",
   "nbconvert_exporter": "python",
   "pygments_lexer": "ipython3",
   "version": "3.8.10"
  }
 },
 "nbformat": 4,
 "nbformat_minor": 5
}
