{
 "cells": [
  {
   "cell_type": "code",
   "execution_count": 1,
   "id": "bbb66179",
   "metadata": {},
   "outputs": [],
   "source": [
    "import pandas as pd\n",
    "import numpy as np\n",
    "from sklearn.utils import shuffle\n",
    "from collections import Counter"
   ]
  },
  {
   "cell_type": "code",
   "execution_count": 2,
   "id": "e0f5ab7a",
   "metadata": {},
   "outputs": [],
   "source": [
    "df = pd.read_csv('../saved F(Drug-Disease).csv', header=None)"
   ]
  },
  {
   "cell_type": "code",
   "execution_count": 3,
   "id": "4325427b",
   "metadata": {},
   "outputs": [
    {
     "data": {
      "text/plain": [
       "0    183676\n",
       "1      1933\n",
       "Name: 2, dtype: int64"
      ]
     },
     "execution_count": 3,
     "metadata": {},
     "output_type": "execute_result"
    }
   ],
   "source": [
    "df.iloc[:,2].value_counts()"
   ]
  },
  {
   "cell_type": "code",
   "execution_count": 4,
   "id": "f4f14f65",
   "metadata": {},
   "outputs": [],
   "source": [
    "classOne = shuffle(df[df[2]==1])\n",
    "classZero = shuffle(df[df[2]==0])\n",
    "del df\n",
    "testClassOne = classOne.iloc[:int(len(classOne)/10), :]\n",
    "testClassZero = classZero.iloc[:int(len(classZero)/10), :]\n",
    "testData = shuffle(pd.concat([testClassOne, testClassZero] , ignore_index=True))\n",
    "del testClassZero\n",
    "testData.to_csv('../Drug_disease_testData.csv', index=False)\n",
    "del testData\n"
   ]
  },
  {
   "cell_type": "code",
   "execution_count": 5,
   "id": "074ec973",
   "metadata": {},
   "outputs": [],
   "source": [
    "trainClassOne = classOne.iloc[int(len(classOne)/10):, :]\n",
    "trainClassZero = classZero.iloc[int(len(classZero)/10):, :]\n",
    "del classOne\n",
    "del classZero\n",
    "trainData = shuffle(pd.concat([trainClassOne, trainClassZero] , ignore_index=True))\n",
    "del trainClassZero\n"
   ]
  },
  {
   "cell_type": "code",
   "execution_count": 6,
   "id": "89f7e8c0",
   "metadata": {},
   "outputs": [
    {
     "name": "stdout",
     "output_type": "stream",
     "text": [
      "(167049, 909)\n"
     ]
    }
   ],
   "source": [
    "trainData.to_csv('../Drug_disease_trainData.csv', index=False)\n",
    "print(trainData.shape)\n",
    "del trainData"
   ]
  },
  {
   "cell_type": "code",
   "execution_count": 7,
   "id": "13facdf3",
   "metadata": {},
   "outputs": [
    {
     "name": "stdout",
     "output_type": "stream",
     "text": [
      "(167049, 909)\n"
     ]
    }
   ],
   "source": [
    "# Dividing the data into X and Y\n",
    "df = pd.read_csv('../Drug_disease_trainData.csv')\n",
    "print(df.shape)\n",
    "X_train = df.drop(['2'], axis=1)\n",
    "y_train = df['2']\n",
    "del df"
   ]
  },
  {
   "cell_type": "code",
   "execution_count": 8,
   "id": "51dcf371",
   "metadata": {},
   "outputs": [],
   "source": [
    "# y_train"
   ]
  },
  {
   "cell_type": "code",
   "execution_count": 9,
   "id": "fc9af2fc",
   "metadata": {},
   "outputs": [
    {
     "data": {
      "text/plain": [
       "0    165309\n",
       "1      1740\n",
       "Name: 2, dtype: int64"
      ]
     },
     "execution_count": 9,
     "metadata": {},
     "output_type": "execute_result"
    }
   ],
   "source": [
    "y_train.value_counts()"
   ]
  },
  {
   "cell_type": "code",
   "execution_count": 10,
   "id": "28c0227a",
   "metadata": {},
   "outputs": [
    {
     "name": "stderr",
     "output_type": "stream",
     "text": [
      "/home/aminuninnova/.local/lib/python3.8/site-packages/sklearn/externals/six.py:28: FutureWarning: The module is deprecated in version 0.21 and will be removed in version 0.23 since we've dropped support for Python 2.7. Please rely on the official version of six (https://pypi.org/project/six/).\n",
      "  warnings.warn(\"The module is deprecated in version 0.21 and will be removed \"\n",
      "/home/aminuninnova/.local/lib/python3.8/site-packages/sklearn/utils/deprecation.py:144: FutureWarning: The sklearn.neighbors.base module is  deprecated in version 0.22 and will be removed in version 0.24. The corresponding classes / functions should instead be imported from sklearn.neighbors. Anything that cannot be imported from sklearn.neighbors is now part of the private API.\n",
      "  warnings.warn(message, FutureWarning)\n",
      "/home/aminuninnova/.local/lib/python3.8/site-packages/sklearn/utils/deprecation.py:87: FutureWarning: Function safe_indexing is deprecated; safe_indexing is deprecated in version 0.22 and will be removed in version 0.24.\n",
      "  warnings.warn(msg, category=FutureWarning)\n"
     ]
    },
    {
     "name": "stdout",
     "output_type": "stream",
     "text": [
      "(330618, 906)\n"
     ]
    }
   ],
   "source": [
    "# OverSampling\n",
    "from imblearn.over_sampling import RandomOverSampler \n",
    "\n",
    "oversample = RandomOverSampler(sampling_strategy='minority')\n",
    "X_oversample, y_oversample = oversample.fit_resample(X_train.values[:,2:], y_train)\n",
    "print(X_oversample.shape)"
   ]
  },
  {
   "cell_type": "code",
   "execution_count": 11,
   "id": "e7ef0641",
   "metadata": {},
   "outputs": [
    {
     "data": {
      "text/plain": [
       "Counter({0: 165309, 1: 165309})"
      ]
     },
     "execution_count": 11,
     "metadata": {},
     "output_type": "execute_result"
    }
   ],
   "source": [
    "Counter(y_oversample)"
   ]
  },
  {
   "cell_type": "code",
   "execution_count": 12,
   "id": "a92bddda",
   "metadata": {},
   "outputs": [],
   "source": [
    "# X_oversample = pd.DataFrame(X_oversample)\n",
    "# y_oversample = pd.DataFrame(y_oversample)\n"
   ]
  },
  {
   "cell_type": "code",
   "execution_count": 12,
   "id": "497e5c1a",
   "metadata": {},
   "outputs": [
    {
     "data": {
      "text/plain": [
       "(330618, 907)"
      ]
     },
     "execution_count": 12,
     "metadata": {},
     "output_type": "execute_result"
    }
   ],
   "source": [
    "df = pd.DataFrame(X_oversample)\n",
    "df['y'] = y_oversample\n",
    "df.shape"
   ]
  },
  {
   "cell_type": "code",
   "execution_count": 13,
   "id": "4a0fdd00",
   "metadata": {},
   "outputs": [
    {
     "data": {
      "text/html": [
       "<div>\n",
       "<style scoped>\n",
       "    .dataframe tbody tr th:only-of-type {\n",
       "        vertical-align: middle;\n",
       "    }\n",
       "\n",
       "    .dataframe tbody tr th {\n",
       "        vertical-align: top;\n",
       "    }\n",
       "\n",
       "    .dataframe thead th {\n",
       "        text-align: right;\n",
       "    }\n",
       "</style>\n",
       "<table border=\"1\" class=\"dataframe\">\n",
       "  <thead>\n",
       "    <tr style=\"text-align: right;\">\n",
       "      <th></th>\n",
       "      <th>0</th>\n",
       "      <th>1</th>\n",
       "      <th>2</th>\n",
       "      <th>3</th>\n",
       "      <th>4</th>\n",
       "      <th>5</th>\n",
       "      <th>6</th>\n",
       "      <th>7</th>\n",
       "      <th>8</th>\n",
       "      <th>9</th>\n",
       "      <th>...</th>\n",
       "      <th>897</th>\n",
       "      <th>898</th>\n",
       "      <th>899</th>\n",
       "      <th>900</th>\n",
       "      <th>901</th>\n",
       "      <th>902</th>\n",
       "      <th>903</th>\n",
       "      <th>904</th>\n",
       "      <th>905</th>\n",
       "      <th>y</th>\n",
       "    </tr>\n",
       "  </thead>\n",
       "  <tbody>\n",
       "    <tr>\n",
       "      <th>0</th>\n",
       "      <td>0.21224</td>\n",
       "      <td>0.22535</td>\n",
       "      <td>0.20879</td>\n",
       "      <td>0.21429</td>\n",
       "      <td>0.22045</td>\n",
       "      <td>0.21995</td>\n",
       "      <td>0.21481</td>\n",
       "      <td>0.22678</td>\n",
       "      <td>0.17188</td>\n",
       "      <td>0.19529</td>\n",
       "      <td>...</td>\n",
       "      <td>0.016679</td>\n",
       "      <td>0.0</td>\n",
       "      <td>0.21434</td>\n",
       "      <td>0.042681</td>\n",
       "      <td>0.21672</td>\n",
       "      <td>0.2226</td>\n",
       "      <td>0.061238</td>\n",
       "      <td>0.11721</td>\n",
       "      <td>0.10689</td>\n",
       "      <td>0</td>\n",
       "    </tr>\n",
       "    <tr>\n",
       "      <th>1</th>\n",
       "      <td>0.18447</td>\n",
       "      <td>0.19556</td>\n",
       "      <td>0.17976</td>\n",
       "      <td>0.19279</td>\n",
       "      <td>0.19957</td>\n",
       "      <td>0.19913</td>\n",
       "      <td>0.1505</td>\n",
       "      <td>0.18458</td>\n",
       "      <td>0.15339</td>\n",
       "      <td>0.16733</td>\n",
       "      <td>...</td>\n",
       "      <td>0.031154</td>\n",
       "      <td>0.0</td>\n",
       "      <td>0.0</td>\n",
       "      <td>0.039694</td>\n",
       "      <td>0.0</td>\n",
       "      <td>0.0</td>\n",
       "      <td>0.11437</td>\n",
       "      <td>0.073066</td>\n",
       "      <td>0.0</td>\n",
       "      <td>0</td>\n",
       "    </tr>\n",
       "    <tr>\n",
       "      <th>2</th>\n",
       "      <td>0.1966</td>\n",
       "      <td>0.18856</td>\n",
       "      <td>0.20725</td>\n",
       "      <td>0.19338</td>\n",
       "      <td>0.19008</td>\n",
       "      <td>0.18969</td>\n",
       "      <td>0.19935</td>\n",
       "      <td>0.1996</td>\n",
       "      <td>0.15</td>\n",
       "      <td>0.21727</td>\n",
       "      <td>...</td>\n",
       "      <td>0.083906</td>\n",
       "      <td>0.09446</td>\n",
       "      <td>0.23391</td>\n",
       "      <td>0.15905</td>\n",
       "      <td>0.3135</td>\n",
       "      <td>0.13854</td>\n",
       "      <td>0.039971</td>\n",
       "      <td>0.095524</td>\n",
       "      <td>0.065253</td>\n",
       "      <td>0</td>\n",
       "    </tr>\n",
       "    <tr>\n",
       "      <th>3</th>\n",
       "      <td>0.14088</td>\n",
       "      <td>0.16898</td>\n",
       "      <td>0.12224</td>\n",
       "      <td>0.12577</td>\n",
       "      <td>0.16223</td>\n",
       "      <td>0.1618</td>\n",
       "      <td>0.1122</td>\n",
       "      <td>0.14988</td>\n",
       "      <td>0.095618</td>\n",
       "      <td>0.065642</td>\n",
       "      <td>...</td>\n",
       "      <td>0.12326</td>\n",
       "      <td>0.06296</td>\n",
       "      <td>0.19013</td>\n",
       "      <td>0.16656</td>\n",
       "      <td>0.18835</td>\n",
       "      <td>0.18332</td>\n",
       "      <td>0.10112</td>\n",
       "      <td>0.083167</td>\n",
       "      <td>0.15773</td>\n",
       "      <td>0</td>\n",
       "    </tr>\n",
       "    <tr>\n",
       "      <th>4</th>\n",
       "      <td>0.26667</td>\n",
       "      <td>0.26453</td>\n",
       "      <td>0.26898</td>\n",
       "      <td>0.26678</td>\n",
       "      <td>0.25926</td>\n",
       "      <td>0.25875</td>\n",
       "      <td>0.19399</td>\n",
       "      <td>0.26071</td>\n",
       "      <td>0.16908</td>\n",
       "      <td>0.25744</td>\n",
       "      <td>...</td>\n",
       "      <td>0.099855</td>\n",
       "      <td>0.0</td>\n",
       "      <td>0.061293</td>\n",
       "      <td>0.0</td>\n",
       "      <td>0.0</td>\n",
       "      <td>0.0</td>\n",
       "      <td>0.0</td>\n",
       "      <td>0.0</td>\n",
       "      <td>0.0</td>\n",
       "      <td>0</td>\n",
       "    </tr>\n",
       "  </tbody>\n",
       "</table>\n",
       "<p>5 rows × 907 columns</p>\n",
       "</div>"
      ],
      "text/plain": [
       "         0        1        2        3        4        5        6        7  \\\n",
       "0  0.21224  0.22535  0.20879  0.21429  0.22045  0.21995  0.21481  0.22678   \n",
       "1  0.18447  0.19556  0.17976  0.19279  0.19957  0.19913   0.1505  0.18458   \n",
       "2   0.1966  0.18856  0.20725  0.19338  0.19008  0.18969  0.19935   0.1996   \n",
       "3  0.14088  0.16898  0.12224  0.12577  0.16223   0.1618   0.1122  0.14988   \n",
       "4  0.26667  0.26453  0.26898  0.26678  0.25926  0.25875  0.19399  0.26071   \n",
       "\n",
       "          8         9  ...       897      898       899       900      901  \\\n",
       "0   0.17188   0.19529  ...  0.016679      0.0   0.21434  0.042681  0.21672   \n",
       "1   0.15339   0.16733  ...  0.031154      0.0       0.0  0.039694      0.0   \n",
       "2      0.15   0.21727  ...  0.083906  0.09446   0.23391   0.15905   0.3135   \n",
       "3  0.095618  0.065642  ...   0.12326  0.06296   0.19013   0.16656  0.18835   \n",
       "4   0.16908   0.25744  ...  0.099855      0.0  0.061293       0.0      0.0   \n",
       "\n",
       "       902       903       904       905  y  \n",
       "0   0.2226  0.061238   0.11721   0.10689  0  \n",
       "1      0.0   0.11437  0.073066       0.0  0  \n",
       "2  0.13854  0.039971  0.095524  0.065253  0  \n",
       "3  0.18332   0.10112  0.083167   0.15773  0  \n",
       "4      0.0       0.0       0.0       0.0  0  \n",
       "\n",
       "[5 rows x 907 columns]"
      ]
     },
     "execution_count": 13,
     "metadata": {},
     "output_type": "execute_result"
    }
   ],
   "source": [
    "df.head()"
   ]
  },
  {
   "cell_type": "code",
   "execution_count": 14,
   "id": "3f4c1c65",
   "metadata": {},
   "outputs": [],
   "source": [
    "df.to_csv('../F_Drug-Disease_oversampling.csv', index=False)\n",
    "del df"
   ]
  },
  {
   "cell_type": "code",
   "execution_count": 15,
   "id": "5547d31c",
   "metadata": {},
   "outputs": [
    {
     "name": "stdout",
     "output_type": "stream",
     "text": [
      "{'k_neighbors': 5, 'kind': 'deprecated', 'm_neighbors': 'deprecated', 'n_jobs': -1, 'out_step': 'deprecated', 'random_state': None, 'ratio': None, 'sampling_strategy': 'auto', 'svm_estimator': 'deprecated'}\n"
     ]
    },
    {
     "name": "stderr",
     "output_type": "stream",
     "text": [
      "/home/aminuninnova/.local/lib/python3.8/site-packages/sklearn/utils/deprecation.py:87: FutureWarning: Function safe_indexing is deprecated; safe_indexing is deprecated in version 0.22 and will be removed in version 0.24.\n",
      "  warnings.warn(msg, category=FutureWarning)\n"
     ]
    },
    {
     "data": {
      "text/plain": [
       "(330618, 906)"
      ]
     },
     "execution_count": 15,
     "metadata": {},
     "output_type": "execute_result"
    }
   ],
   "source": [
    "#smote\n",
    "from imblearn.over_sampling import SMOTE\n",
    "from imblearn.pipeline import make_pipeline\n",
    "\n",
    "smote_sampler = SMOTE(n_jobs=-1)\n",
    "# smote_pipeline = make_pipeline(RandomOverSampler(), SMOTE(n_jobs=-1))\n",
    "print(smote_sampler.get_params())\n",
    "X_smote , y_smote = smote_sampler.fit_resample(X_train.values[:,2:], y_train)\n",
    "X_smote.shape"
   ]
  },
  {
   "cell_type": "code",
   "execution_count": 16,
   "id": "cb11830b",
   "metadata": {},
   "outputs": [
    {
     "data": {
      "text/plain": [
       "Counter({0: 165309, 1: 165309})"
      ]
     },
     "execution_count": 16,
     "metadata": {},
     "output_type": "execute_result"
    }
   ],
   "source": [
    "Counter(y_smote)"
   ]
  },
  {
   "cell_type": "code",
   "execution_count": 18,
   "id": "6d6862f0",
   "metadata": {},
   "outputs": [],
   "source": [
    "# X_smote = pd.DataFrame(X_smote)\n",
    "# y_smote = pd.DataFrame(y_smote)"
   ]
  },
  {
   "cell_type": "code",
   "execution_count": 18,
   "id": "ccc05536",
   "metadata": {},
   "outputs": [
    {
     "data": {
      "text/html": [
       "<div>\n",
       "<style scoped>\n",
       "    .dataframe tbody tr th:only-of-type {\n",
       "        vertical-align: middle;\n",
       "    }\n",
       "\n",
       "    .dataframe tbody tr th {\n",
       "        vertical-align: top;\n",
       "    }\n",
       "\n",
       "    .dataframe thead th {\n",
       "        text-align: right;\n",
       "    }\n",
       "</style>\n",
       "<table border=\"1\" class=\"dataframe\">\n",
       "  <thead>\n",
       "    <tr style=\"text-align: right;\">\n",
       "      <th></th>\n",
       "      <th>0</th>\n",
       "      <th>1</th>\n",
       "      <th>2</th>\n",
       "      <th>3</th>\n",
       "      <th>4</th>\n",
       "      <th>5</th>\n",
       "      <th>6</th>\n",
       "      <th>7</th>\n",
       "      <th>8</th>\n",
       "      <th>9</th>\n",
       "      <th>...</th>\n",
       "      <th>897</th>\n",
       "      <th>898</th>\n",
       "      <th>899</th>\n",
       "      <th>900</th>\n",
       "      <th>901</th>\n",
       "      <th>902</th>\n",
       "      <th>903</th>\n",
       "      <th>904</th>\n",
       "      <th>905</th>\n",
       "      <th>y</th>\n",
       "    </tr>\n",
       "  </thead>\n",
       "  <tbody>\n",
       "    <tr>\n",
       "      <th>0</th>\n",
       "      <td>0.21224</td>\n",
       "      <td>0.22535</td>\n",
       "      <td>0.20879</td>\n",
       "      <td>0.21429</td>\n",
       "      <td>0.22045</td>\n",
       "      <td>0.21995</td>\n",
       "      <td>0.21481</td>\n",
       "      <td>0.22678</td>\n",
       "      <td>0.171880</td>\n",
       "      <td>0.195290</td>\n",
       "      <td>...</td>\n",
       "      <td>0.016679</td>\n",
       "      <td>0.00000</td>\n",
       "      <td>0.214340</td>\n",
       "      <td>0.042681</td>\n",
       "      <td>0.21672</td>\n",
       "      <td>0.22260</td>\n",
       "      <td>0.061238</td>\n",
       "      <td>0.117210</td>\n",
       "      <td>0.106890</td>\n",
       "      <td>0</td>\n",
       "    </tr>\n",
       "    <tr>\n",
       "      <th>1</th>\n",
       "      <td>0.18447</td>\n",
       "      <td>0.19556</td>\n",
       "      <td>0.17976</td>\n",
       "      <td>0.19279</td>\n",
       "      <td>0.19957</td>\n",
       "      <td>0.19913</td>\n",
       "      <td>0.15050</td>\n",
       "      <td>0.18458</td>\n",
       "      <td>0.153390</td>\n",
       "      <td>0.167330</td>\n",
       "      <td>...</td>\n",
       "      <td>0.031154</td>\n",
       "      <td>0.00000</td>\n",
       "      <td>0.000000</td>\n",
       "      <td>0.039694</td>\n",
       "      <td>0.00000</td>\n",
       "      <td>0.00000</td>\n",
       "      <td>0.114370</td>\n",
       "      <td>0.073066</td>\n",
       "      <td>0.000000</td>\n",
       "      <td>0</td>\n",
       "    </tr>\n",
       "    <tr>\n",
       "      <th>2</th>\n",
       "      <td>0.19660</td>\n",
       "      <td>0.18856</td>\n",
       "      <td>0.20725</td>\n",
       "      <td>0.19338</td>\n",
       "      <td>0.19008</td>\n",
       "      <td>0.18969</td>\n",
       "      <td>0.19935</td>\n",
       "      <td>0.19960</td>\n",
       "      <td>0.150000</td>\n",
       "      <td>0.217270</td>\n",
       "      <td>...</td>\n",
       "      <td>0.083906</td>\n",
       "      <td>0.09446</td>\n",
       "      <td>0.233910</td>\n",
       "      <td>0.159050</td>\n",
       "      <td>0.31350</td>\n",
       "      <td>0.13854</td>\n",
       "      <td>0.039971</td>\n",
       "      <td>0.095524</td>\n",
       "      <td>0.065253</td>\n",
       "      <td>0</td>\n",
       "    </tr>\n",
       "    <tr>\n",
       "      <th>3</th>\n",
       "      <td>0.14088</td>\n",
       "      <td>0.16898</td>\n",
       "      <td>0.12224</td>\n",
       "      <td>0.12577</td>\n",
       "      <td>0.16223</td>\n",
       "      <td>0.16180</td>\n",
       "      <td>0.11220</td>\n",
       "      <td>0.14988</td>\n",
       "      <td>0.095618</td>\n",
       "      <td>0.065642</td>\n",
       "      <td>...</td>\n",
       "      <td>0.123260</td>\n",
       "      <td>0.06296</td>\n",
       "      <td>0.190130</td>\n",
       "      <td>0.166560</td>\n",
       "      <td>0.18835</td>\n",
       "      <td>0.18332</td>\n",
       "      <td>0.101120</td>\n",
       "      <td>0.083167</td>\n",
       "      <td>0.157730</td>\n",
       "      <td>0</td>\n",
       "    </tr>\n",
       "    <tr>\n",
       "      <th>4</th>\n",
       "      <td>0.26667</td>\n",
       "      <td>0.26453</td>\n",
       "      <td>0.26898</td>\n",
       "      <td>0.26678</td>\n",
       "      <td>0.25926</td>\n",
       "      <td>0.25875</td>\n",
       "      <td>0.19399</td>\n",
       "      <td>0.26071</td>\n",
       "      <td>0.169080</td>\n",
       "      <td>0.257440</td>\n",
       "      <td>...</td>\n",
       "      <td>0.099855</td>\n",
       "      <td>0.00000</td>\n",
       "      <td>0.061293</td>\n",
       "      <td>0.000000</td>\n",
       "      <td>0.00000</td>\n",
       "      <td>0.00000</td>\n",
       "      <td>0.000000</td>\n",
       "      <td>0.000000</td>\n",
       "      <td>0.000000</td>\n",
       "      <td>0</td>\n",
       "    </tr>\n",
       "  </tbody>\n",
       "</table>\n",
       "<p>5 rows × 907 columns</p>\n",
       "</div>"
      ],
      "text/plain": [
       "         0        1        2        3        4        5        6        7  \\\n",
       "0  0.21224  0.22535  0.20879  0.21429  0.22045  0.21995  0.21481  0.22678   \n",
       "1  0.18447  0.19556  0.17976  0.19279  0.19957  0.19913  0.15050  0.18458   \n",
       "2  0.19660  0.18856  0.20725  0.19338  0.19008  0.18969  0.19935  0.19960   \n",
       "3  0.14088  0.16898  0.12224  0.12577  0.16223  0.16180  0.11220  0.14988   \n",
       "4  0.26667  0.26453  0.26898  0.26678  0.25926  0.25875  0.19399  0.26071   \n",
       "\n",
       "          8         9  ...       897      898       899       900      901  \\\n",
       "0  0.171880  0.195290  ...  0.016679  0.00000  0.214340  0.042681  0.21672   \n",
       "1  0.153390  0.167330  ...  0.031154  0.00000  0.000000  0.039694  0.00000   \n",
       "2  0.150000  0.217270  ...  0.083906  0.09446  0.233910  0.159050  0.31350   \n",
       "3  0.095618  0.065642  ...  0.123260  0.06296  0.190130  0.166560  0.18835   \n",
       "4  0.169080  0.257440  ...  0.099855  0.00000  0.061293  0.000000  0.00000   \n",
       "\n",
       "       902       903       904       905  y  \n",
       "0  0.22260  0.061238  0.117210  0.106890  0  \n",
       "1  0.00000  0.114370  0.073066  0.000000  0  \n",
       "2  0.13854  0.039971  0.095524  0.065253  0  \n",
       "3  0.18332  0.101120  0.083167  0.157730  0  \n",
       "4  0.00000  0.000000  0.000000  0.000000  0  \n",
       "\n",
       "[5 rows x 907 columns]"
      ]
     },
     "execution_count": 18,
     "metadata": {},
     "output_type": "execute_result"
    }
   ],
   "source": [
    "dfsmote = pd.DataFrame(X_smote)\n",
    "dfsmote['y'] = y_smote\n",
    "dfsmote.head()"
   ]
  },
  {
   "cell_type": "code",
   "execution_count": 19,
   "id": "b5c77e6f",
   "metadata": {},
   "outputs": [
    {
     "name": "stdout",
     "output_type": "stream",
     "text": [
      "(330618, 907)\n"
     ]
    }
   ],
   "source": [
    "print(dfsmote.shape)\n",
    "del X_smote, y_smote"
   ]
  },
  {
   "cell_type": "code",
   "execution_count": 20,
   "id": "22c34fac",
   "metadata": {},
   "outputs": [],
   "source": [
    "dfsmote.to_csv('../F_Drug-Disease_SMOTE.csv', index=False)\n",
    "del dfsmote"
   ]
  },
  {
   "cell_type": "code",
   "execution_count": 21,
   "id": "7f5b3a42",
   "metadata": {},
   "outputs": [
    {
     "name": "stderr",
     "output_type": "stream",
     "text": [
      "/home/aminuninnova/.local/lib/python3.8/site-packages/sklearn/utils/deprecation.py:87: FutureWarning: Function safe_indexing is deprecated; safe_indexing is deprecated in version 0.22 and will be removed in version 0.24.\n",
      "  warnings.warn(msg, category=FutureWarning)\n"
     ]
    },
    {
     "data": {
      "text/plain": [
       "Counter({0: 165309, 1: 165060})"
      ]
     },
     "execution_count": 21,
     "metadata": {},
     "output_type": "execute_result"
    }
   ],
   "source": [
    "# ADASYN\n",
    "from imblearn.over_sampling import ADASYN\n",
    "X_adasyn, y_adasyn = ADASYN().fit_resample(X_train.values[:,2:], y_train)\n",
    "\n",
    "# X_adasyn = pd.DataFrame(X_adasyn)\n",
    "# y_adasyn = pd.DataFrame(y_adasyn)\n",
    "Counter(y_adasyn)"
   ]
  },
  {
   "cell_type": "code",
   "execution_count": 22,
   "id": "843b0862",
   "metadata": {},
   "outputs": [
    {
     "data": {
      "text/plain": [
       "(330369, 906)"
      ]
     },
     "execution_count": 22,
     "metadata": {},
     "output_type": "execute_result"
    }
   ],
   "source": [
    "X_adasyn.shape"
   ]
  },
  {
   "cell_type": "code",
   "execution_count": 23,
   "id": "1aa545bd",
   "metadata": {},
   "outputs": [
    {
     "data": {
      "text/html": [
       "<div>\n",
       "<style scoped>\n",
       "    .dataframe tbody tr th:only-of-type {\n",
       "        vertical-align: middle;\n",
       "    }\n",
       "\n",
       "    .dataframe tbody tr th {\n",
       "        vertical-align: top;\n",
       "    }\n",
       "\n",
       "    .dataframe thead th {\n",
       "        text-align: right;\n",
       "    }\n",
       "</style>\n",
       "<table border=\"1\" class=\"dataframe\">\n",
       "  <thead>\n",
       "    <tr style=\"text-align: right;\">\n",
       "      <th></th>\n",
       "      <th>0</th>\n",
       "      <th>1</th>\n",
       "      <th>2</th>\n",
       "      <th>3</th>\n",
       "      <th>4</th>\n",
       "      <th>5</th>\n",
       "      <th>6</th>\n",
       "      <th>7</th>\n",
       "      <th>8</th>\n",
       "      <th>9</th>\n",
       "      <th>...</th>\n",
       "      <th>897</th>\n",
       "      <th>898</th>\n",
       "      <th>899</th>\n",
       "      <th>900</th>\n",
       "      <th>901</th>\n",
       "      <th>902</th>\n",
       "      <th>903</th>\n",
       "      <th>904</th>\n",
       "      <th>905</th>\n",
       "      <th>y</th>\n",
       "    </tr>\n",
       "  </thead>\n",
       "  <tbody>\n",
       "    <tr>\n",
       "      <th>0</th>\n",
       "      <td>0.21224</td>\n",
       "      <td>0.22535</td>\n",
       "      <td>0.20879</td>\n",
       "      <td>0.21429</td>\n",
       "      <td>0.22045</td>\n",
       "      <td>0.21995</td>\n",
       "      <td>0.21481</td>\n",
       "      <td>0.22678</td>\n",
       "      <td>0.171880</td>\n",
       "      <td>0.195290</td>\n",
       "      <td>...</td>\n",
       "      <td>0.016679</td>\n",
       "      <td>0.00000</td>\n",
       "      <td>0.214340</td>\n",
       "      <td>0.042681</td>\n",
       "      <td>0.21672</td>\n",
       "      <td>0.22260</td>\n",
       "      <td>0.061238</td>\n",
       "      <td>0.117210</td>\n",
       "      <td>0.106890</td>\n",
       "      <td>0</td>\n",
       "    </tr>\n",
       "    <tr>\n",
       "      <th>1</th>\n",
       "      <td>0.18447</td>\n",
       "      <td>0.19556</td>\n",
       "      <td>0.17976</td>\n",
       "      <td>0.19279</td>\n",
       "      <td>0.19957</td>\n",
       "      <td>0.19913</td>\n",
       "      <td>0.15050</td>\n",
       "      <td>0.18458</td>\n",
       "      <td>0.153390</td>\n",
       "      <td>0.167330</td>\n",
       "      <td>...</td>\n",
       "      <td>0.031154</td>\n",
       "      <td>0.00000</td>\n",
       "      <td>0.000000</td>\n",
       "      <td>0.039694</td>\n",
       "      <td>0.00000</td>\n",
       "      <td>0.00000</td>\n",
       "      <td>0.114370</td>\n",
       "      <td>0.073066</td>\n",
       "      <td>0.000000</td>\n",
       "      <td>0</td>\n",
       "    </tr>\n",
       "    <tr>\n",
       "      <th>2</th>\n",
       "      <td>0.19660</td>\n",
       "      <td>0.18856</td>\n",
       "      <td>0.20725</td>\n",
       "      <td>0.19338</td>\n",
       "      <td>0.19008</td>\n",
       "      <td>0.18969</td>\n",
       "      <td>0.19935</td>\n",
       "      <td>0.19960</td>\n",
       "      <td>0.150000</td>\n",
       "      <td>0.217270</td>\n",
       "      <td>...</td>\n",
       "      <td>0.083906</td>\n",
       "      <td>0.09446</td>\n",
       "      <td>0.233910</td>\n",
       "      <td>0.159050</td>\n",
       "      <td>0.31350</td>\n",
       "      <td>0.13854</td>\n",
       "      <td>0.039971</td>\n",
       "      <td>0.095524</td>\n",
       "      <td>0.065253</td>\n",
       "      <td>0</td>\n",
       "    </tr>\n",
       "    <tr>\n",
       "      <th>3</th>\n",
       "      <td>0.14088</td>\n",
       "      <td>0.16898</td>\n",
       "      <td>0.12224</td>\n",
       "      <td>0.12577</td>\n",
       "      <td>0.16223</td>\n",
       "      <td>0.16180</td>\n",
       "      <td>0.11220</td>\n",
       "      <td>0.14988</td>\n",
       "      <td>0.095618</td>\n",
       "      <td>0.065642</td>\n",
       "      <td>...</td>\n",
       "      <td>0.123260</td>\n",
       "      <td>0.06296</td>\n",
       "      <td>0.190130</td>\n",
       "      <td>0.166560</td>\n",
       "      <td>0.18835</td>\n",
       "      <td>0.18332</td>\n",
       "      <td>0.101120</td>\n",
       "      <td>0.083167</td>\n",
       "      <td>0.157730</td>\n",
       "      <td>0</td>\n",
       "    </tr>\n",
       "    <tr>\n",
       "      <th>4</th>\n",
       "      <td>0.26667</td>\n",
       "      <td>0.26453</td>\n",
       "      <td>0.26898</td>\n",
       "      <td>0.26678</td>\n",
       "      <td>0.25926</td>\n",
       "      <td>0.25875</td>\n",
       "      <td>0.19399</td>\n",
       "      <td>0.26071</td>\n",
       "      <td>0.169080</td>\n",
       "      <td>0.257440</td>\n",
       "      <td>...</td>\n",
       "      <td>0.099855</td>\n",
       "      <td>0.00000</td>\n",
       "      <td>0.061293</td>\n",
       "      <td>0.000000</td>\n",
       "      <td>0.00000</td>\n",
       "      <td>0.00000</td>\n",
       "      <td>0.000000</td>\n",
       "      <td>0.000000</td>\n",
       "      <td>0.000000</td>\n",
       "      <td>0</td>\n",
       "    </tr>\n",
       "  </tbody>\n",
       "</table>\n",
       "<p>5 rows × 907 columns</p>\n",
       "</div>"
      ],
      "text/plain": [
       "         0        1        2        3        4        5        6        7  \\\n",
       "0  0.21224  0.22535  0.20879  0.21429  0.22045  0.21995  0.21481  0.22678   \n",
       "1  0.18447  0.19556  0.17976  0.19279  0.19957  0.19913  0.15050  0.18458   \n",
       "2  0.19660  0.18856  0.20725  0.19338  0.19008  0.18969  0.19935  0.19960   \n",
       "3  0.14088  0.16898  0.12224  0.12577  0.16223  0.16180  0.11220  0.14988   \n",
       "4  0.26667  0.26453  0.26898  0.26678  0.25926  0.25875  0.19399  0.26071   \n",
       "\n",
       "          8         9  ...       897      898       899       900      901  \\\n",
       "0  0.171880  0.195290  ...  0.016679  0.00000  0.214340  0.042681  0.21672   \n",
       "1  0.153390  0.167330  ...  0.031154  0.00000  0.000000  0.039694  0.00000   \n",
       "2  0.150000  0.217270  ...  0.083906  0.09446  0.233910  0.159050  0.31350   \n",
       "3  0.095618  0.065642  ...  0.123260  0.06296  0.190130  0.166560  0.18835   \n",
       "4  0.169080  0.257440  ...  0.099855  0.00000  0.061293  0.000000  0.00000   \n",
       "\n",
       "       902       903       904       905  y  \n",
       "0  0.22260  0.061238  0.117210  0.106890  0  \n",
       "1  0.00000  0.114370  0.073066  0.000000  0  \n",
       "2  0.13854  0.039971  0.095524  0.065253  0  \n",
       "3  0.18332  0.101120  0.083167  0.157730  0  \n",
       "4  0.00000  0.000000  0.000000  0.000000  0  \n",
       "\n",
       "[5 rows x 907 columns]"
      ]
     },
     "execution_count": 23,
     "metadata": {},
     "output_type": "execute_result"
    }
   ],
   "source": [
    "dfadasyn = pd.DataFrame(X_adasyn)\n",
    "dfadasyn['y'] = y_adasyn\n",
    "dfadasyn.head()"
   ]
  },
  {
   "cell_type": "code",
   "execution_count": 24,
   "id": "29e74575",
   "metadata": {},
   "outputs": [
    {
     "name": "stdout",
     "output_type": "stream",
     "text": [
      "(330369, 907)\n"
     ]
    }
   ],
   "source": [
    "print(dfadasyn.shape)\n",
    "dfadasyn.to_csv('../F_Drug-Disease_Adasyn.csv', index=False)"
   ]
  },
  {
   "cell_type": "code",
   "execution_count": null,
   "id": "c435d6e2",
   "metadata": {},
   "outputs": [],
   "source": []
  }
 ],
 "metadata": {
  "kernelspec": {
   "display_name": "Python 3 (ipykernel)",
   "language": "python",
   "name": "python3"
  },
  "language_info": {
   "codemirror_mode": {
    "name": "ipython",
    "version": 3
   },
   "file_extension": ".py",
   "mimetype": "text/x-python",
   "name": "python",
   "nbconvert_exporter": "python",
   "pygments_lexer": "ipython3",
   "version": "3.8.10"
  }
 },
 "nbformat": 4,
 "nbformat_minor": 5
}
