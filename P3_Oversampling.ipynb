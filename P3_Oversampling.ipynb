{
 "cells": [
  {
   "cell_type": "code",
   "execution_count": 30,
   "id": "bbb66179",
   "metadata": {},
   "outputs": [],
   "source": [
    "import pandas as pd\n",
    "import numpy as np\n",
    "from sklearn.utils import shuffle"
   ]
  },
  {
   "cell_type": "code",
   "execution_count": 31,
   "id": "e0f5ab7a",
   "metadata": {},
   "outputs": [],
   "source": [
    "df = pd.read_csv('../saved F(Drug-Disease).csv', header=None)"
   ]
  },
  {
   "cell_type": "code",
   "execution_count": 32,
   "id": "4325427b",
   "metadata": {},
   "outputs": [],
   "source": [
    "# df"
   ]
  },
  {
   "cell_type": "code",
   "execution_count": 33,
   "id": "f4f14f65",
   "metadata": {},
   "outputs": [],
   "source": [
    "classOne = shuffle(df[df[2]==1])\n",
    "classZero = shuffle(df[df[2]==0])\n",
    "del df\n",
    "testClassOne = classOne.iloc[:int(len(classOne)/10), :]\n",
    "testClassZero = classZero.iloc[:int(len(classZero)/10), :]\n",
    "testData = shuffle(pd.concat([testClassOne, testClassZero] , ignore_index=True))\n",
    "del testClassZero\n",
    "testData.to_csv('../Drug_disease_testData.csv', index=False)\n",
    "del testData\n"
   ]
  },
  {
   "cell_type": "code",
   "execution_count": 34,
   "id": "074ec973",
   "metadata": {},
   "outputs": [],
   "source": [
    "trainClassOne = classOne.iloc[int(len(classOne)/10):, :]\n",
    "trainClassZero = classZero.iloc[int(len(classZero)/10):, :]\n",
    "del classOne\n",
    "del classZero\n",
    "trainData = shuffle(pd.concat([trainClassOne, trainClassZero] , ignore_index=True))\n",
    "del trainClassZero\n"
   ]
  },
  {
   "cell_type": "code",
   "execution_count": null,
   "id": "89f7e8c0",
   "metadata": {},
   "outputs": [],
   "source": [
    "trainData.to_csv('../Drug_disease_trainData.csv', index=False)\n",
    "del trainData"
   ]
  },
  {
   "cell_type": "code",
   "execution_count": null,
   "id": "13facdf3",
   "metadata": {},
   "outputs": [],
   "source": [
    "# Dividing the data into X and Y\n",
    "df = pd.read_csv('../Drug_disease_trainData.csv', header=None)\n",
    "X_train = df.drop(2, axis=1)\n",
    "y_train = df[2]\n",
    "del df"
   ]
  },
  {
   "cell_type": "code",
   "execution_count": null,
   "id": "28c0227a",
   "metadata": {},
   "outputs": [],
   "source": [
    "# OverSampling\n",
    "# from imblearn.over_sampling import RandomOverSample\n",
    "\n",
    "# oversample = RandomOverSampler(sampling_strategy='minority')\n",
    "# X_oversample, y_oversample = oversample.fit_resample(X, y)"
   ]
  },
  {
   "cell_type": "code",
   "execution_count": null,
   "id": "e7ef0641",
   "metadata": {},
   "outputs": [],
   "source": [
    "# y_over.value_counts()"
   ]
  },
  {
   "cell_type": "code",
   "execution_count": null,
   "id": "497e5c1a",
   "metadata": {},
   "outputs": [],
   "source": [
    "# df=pd.concat([X_over, y_over], axis=1)\n",
    "# df.shape"
   ]
  },
  {
   "cell_type": "code",
   "execution_count": null,
   "id": "3f4c1c65",
   "metadata": {},
   "outputs": [],
   "source": [
    "# df.to_csv('../Actual Data_BalanceData_oversampling.csv', index=False)\n",
    "# del df"
   ]
  },
  {
   "cell_type": "code",
   "execution_count": null,
   "id": "5547d31c",
   "metadata": {},
   "outputs": [],
   "source": [
    "#smote\n",
    "from imblearn.over_sampling import RandomOverSampler\n",
    "from imblearn.over_sampling import SMOTE\n",
    "from imblearn.pipeline import make_pipeline\n",
    "\n",
    "# smote_sampler = SMOTE(n_jobs=-1)\n",
    "smote_pipeline = make_pipeline(RandomOverSampler(n_jobs=-1), SMOTE(n_jobs=-1))\n",
    "print(smote_pipeline.get_params())\n",
    "X_smote , y_smote = smote_pipeline.fit_resample(X_train.values[:,2:], y_train)\n",
    "X_smote.shape"
   ]
  },
  {
   "cell_type": "code",
   "execution_count": null,
   "id": "14cd0aee",
   "metadata": {},
   "outputs": [],
   "source": [
    "y_train.value_counts()"
   ]
  },
  {
   "cell_type": "code",
   "execution_count": null,
   "id": "6d6862f0",
   "metadata": {},
   "outputs": [],
   "source": [
    "X_smote = pd.DataFrame(X_smote)\n",
    "y_smote = pd.DataFrame(y_smote)\n",
    "y_smote.value_counts()"
   ]
  },
  {
   "cell_type": "code",
   "execution_count": null,
   "id": "22c34fac",
   "metadata": {},
   "outputs": [],
   "source": [
    "dfsmote = pd.concat([X_smote, y_smote], axis=1)\n",
    "del X_smote, y_smotete\n",
    "dfsmote.to_csv('../F_Drug-Disease_SMOTE.csv', index=False)\n",
    "del dfsmote"
   ]
  },
  {
   "cell_type": "code",
   "execution_count": null,
   "id": "7f5b3a42",
   "metadata": {},
   "outputs": [],
   "source": [
    "# ADASYN\n",
    "from imblearn.over_sampling import ADASYN\n",
    "X_adasyn, y_adasyn = ADASYN().fit_resample(X_train.values[:,2:], y_train)\n",
    "del X\n",
    "X_adasyn= pd.DataFrame(X_adasyn)\n",
    "y_adasyn= pd.DataFrame(y_adasyn)\n",
    "y_adasyn.value_counts()"
   ]
  },
  {
   "cell_type": "code",
   "execution_count": null,
   "id": "843b0862",
   "metadata": {},
   "outputs": [],
   "source": [
    "X_adasyn.shape"
   ]
  },
  {
   "cell_type": "code",
   "execution_count": null,
   "id": "29e74575",
   "metadata": {},
   "outputs": [],
   "source": [
    "dfadasyn=pd.concat([X_adasyn, y_adasyn], axis=1)\n",
    "dfadasyn.to_csv('../F_Drug-Disease_Adasyn.csv', index=False)"
   ]
  },
  {
   "cell_type": "code",
   "execution_count": null,
   "id": "c435d6e2",
   "metadata": {},
   "outputs": [],
   "source": []
  }
 ],
 "metadata": {
  "kernelspec": {
   "display_name": "Python 3 (ipykernel)",
   "language": "python",
   "name": "python3"
  },
  "language_info": {
   "codemirror_mode": {
    "name": "ipython",
    "version": 3
   },
   "file_extension": ".py",
   "mimetype": "text/x-python",
   "name": "python",
   "nbconvert_exporter": "python",
   "pygments_lexer": "ipython3",
   "version": "3.8.10"
  }
 },
 "nbformat": 4,
 "nbformat_minor": 5
}
