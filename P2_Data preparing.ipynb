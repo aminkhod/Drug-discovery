{
 "cells": [
  {
   "cell_type": "code",
   "execution_count": 1,
   "metadata": {},
   "outputs": [],
   "source": [
    "import numpy as np\n",
    "import pandas as pd"
   ]
  },
  {
   "cell_type": "code",
   "execution_count": 2,
   "metadata": {},
   "outputs": [],
   "source": [
    "# two type of data 'C' and 'F'\n",
    "# Let's start with smaller one, I mean the 'F' with dimensions of (313 Diseases, 593 Drugs)."
   ]
  },
  {
   "cell_type": "code",
   "execution_count": 3,
   "metadata": {},
   "outputs": [
    {
     "name": "stdout",
     "output_type": "stream",
     "text": [
      "(708, 708)\n",
      "(5603, 5603)\n"
     ]
    }
   ],
   "source": [
    "# excel_file='Rivise data/DDI_triple_2.csv'\n",
    "# drug=pd.read_csv(excel_file, header=None)\n",
    "# df='data/drug_name_568.txt'\n",
    "# DF=pd.read_csv(df, header=None)\n",
    "d='data/Drug disease/Drug_CosineSNF(chemStracture_DrugProtein_sideEffect).csv'\n",
    "Drugsim=pd.read_csv(d, header=None)\n",
    "print(Drugsim.shape)\n",
    "\n",
    "Diseasesim = pd.read_csv('data/Drug disease/Disease_CosineSNF(DisPhenotype_DisProteinm).csv', header=None)\n",
    "print(Diseasesim.shape)\n",
    "\n",
    "# Drugs_disease_interaction = pd.read_csv('C-drug-disease interactions.txt',sep = '\\t', header=None)\n",
    "# # print(Drugs_disease_interaction.head())\n"
   ]
  },
  {
   "cell_type": "code",
   "execution_count": 82,
   "metadata": {},
   "outputs": [],
   "source": [
    "# ### Deleting missing Drugs\n",
    "# druglist=[]\n",
    "# mismatch=[]\n",
    "\n",
    "# for j in range(len(D)):\n",
    "#     druglist.insert(j,D.loc[j][0])\n",
    "# for i in range(len(DF.loc[0])):\n",
    "#     if not DF.loc[i][1] in (druglist):\n",
    "#             print(i,DF.loc[i][1])\n",
    "#             mismatch.insert(i,DF.loc[i][1])\n",
    "#             DF=DF.drop([i])\n",
    "#             drug=drug.drop([i],axis=0)\n",
    "#             drug=drug.drop([i],axis=1)"
   ]
  },
  {
   "cell_type": "code",
   "execution_count": 7,
   "metadata": {},
   "outputs": [
    {
     "name": "stdout",
     "output_type": "stream",
     "text": [
      "   0    1    2    3    4    5    6    7    8    9    ...  698  699  700  701  \\\n",
      "0    1    1    1    1    1    1    1    0    1    1  ...    0    0    0    0   \n",
      "1    1    1    1    1    1    1    1    1    1    1  ...    0    0    0    0   \n",
      "2    1    0    0    0    0    1    0    0    0    0  ...    0    0    0    0   \n",
      "3    1    0    1    1    1    1    1    0    1    1  ...    0    0    0    0   \n",
      "4    1    1    1    1    0    1    1    0    0    1  ...    0    0    0    0   \n",
      "\n",
      "   702  703  704  705  706  707  \n",
      "0    1    0    0    0    1    1  \n",
      "1    1    0    0    0    1    1  \n",
      "2    0    0    0    0    0    0  \n",
      "3    1    0    0    0    1    1  \n",
      "4    0    0    0    0    0    1  \n",
      "\n",
      "[5 rows x 708 columns] (5603, 708)\n",
      "(708, 709)\n",
      "(5603, 5604)\n"
     ]
    }
   ],
   "source": [
    "# Drugs_disease_interaction.iloc[1:,1:].to_csv('saved drug.csv',index=False)\n",
    "drug_disease_int = pd.read_csv('data/Drug disease/disease_drug_interaction.txt', sep='\\t', header=None)\n",
    "drug_disease_int.iloc[0:,0].to_csv(\"saved Diseasename.csv\")\n",
    "Diseasename = pd.read_csv(\"saved Diseasename.csv\", header=0)['Unnamed: 0']\n",
    "\n",
    "drug_disease_int.iloc[0,0:].to_csv(\"saved Drugname.csv\")\n",
    "Drugname = pd.read_csv(\"saved Drugname.csv\", header=0)['Unnamed: 0']\n",
    "\n",
    "print(drug_disease_int.head(), drug_disease_int.shape)\n",
    "\n",
    "Drugsim.insert(0, \"-1\", Drugname.values)\n",
    "Diseasesim.insert(0, \"-1\", Diseasename.values)\n",
    "\n",
    "\n",
    "print(Drugsim.shape)\n",
    "print(Diseasesim.shape)\n",
    "# print(drug.head())"
   ]
  },
  {
   "cell_type": "code",
   "execution_count": null,
   "metadata": {},
   "outputs": [],
   "source": [
    "finalmatrix=[]\n",
    "for i in range(len(drug_disease_int.iloc[:,0])-1): # putting disease names\n",
    "    for j in range(len(drug_disease_int.iloc[0,:])-1): # putting drug names\n",
    "        result = [drug_disease_int.iloc[0,j+1], drug_disease_int.iloc[i+1,0], drug_disease_int.loc[i+1][j+1]]\n",
    "#         print(result)\n",
    "        finalmatrix.append(result)\n"
   ]
  },
  {
   "cell_type": "code",
   "execution_count": null,
   "metadata": {},
   "outputs": [],
   "source": [
    "len(finalmatrix)"
   ]
  },
  {
   "cell_type": "code",
   "execution_count": null,
   "metadata": {},
   "outputs": [],
   "source": [
    "del drug_disease_int"
   ]
  },
  {
   "cell_type": "code",
   "execution_count": null,
   "metadata": {},
   "outputs": [],
   "source": [
    "pd.DataFrame(finalmatrix).to_csv(\"saved F_pairs.csv\",index=False)\n",
    "del finalmatrix"
   ]
  },
  {
   "cell_type": "code",
   "execution_count": null,
   "metadata": {},
   "outputs": [],
   "source": [
    "F = pd.read_csv(\"saved F_pairs.csv\")\n",
    "F"
   ]
  },
  {
   "cell_type": "code",
   "execution_count": null,
   "metadata": {},
   "outputs": [],
   "source": [
    "# r, c = F.shape\n",
    "# print(r,c)\n",
    "# print(F.iloc[0,:])"
   ]
  },
  {
   "cell_type": "code",
   "execution_count": null,
   "metadata": {},
   "outputs": [],
   "source": [
    "# j = 0\n",
    "# for i in range(0, r, len(DF.iloc[:,0])):\n",
    "#     try:\n",
    "#         F = F.drop([i + j])\n",
    "# #         print(i)\n",
    "#     except:\n",
    "#         1\n",
    "# #         print(str(i)+ \" can't be droped\")\n",
    "#     j += 1\n",
    "# F.shape"
   ]
  },
  {
   "cell_type": "code",
   "execution_count": null,
   "metadata": {},
   "outputs": [],
   "source": [
    "r, c = F.shape\n",
    "print(r,c)\n",
    "# list(range(0, r, len(DF.iloc[:,0])))\n",
    "F.iloc[0,:]"
   ]
  },
  {
   "cell_type": "code",
   "execution_count": null,
   "metadata": {},
   "outputs": [],
   "source": [
    "print(Drugsim.shape, Diseasesim.shape)"
   ]
  },
  {
   "cell_type": "code",
   "execution_count": null,
   "metadata": {},
   "outputs": [],
   "source": [
    "Drugsim"
   ]
  },
  {
   "cell_type": "code",
   "execution_count": null,
   "metadata": {
    "scrolled": true
   },
   "outputs": [],
   "source": [
    "313 * 593"
   ]
  },
  {
   "cell_type": "code",
   "execution_count": null,
   "metadata": {},
   "outputs": [],
   "source": [
    "# F =F.iloc[:,:3]\n",
    "# F"
   ]
  },
  {
   "cell_type": "code",
   "execution_count": null,
   "metadata": {},
   "outputs": [],
   "source": [
    "# print(len(Drugsim.iloc[0,:]),len(Diseasesim.iloc[0,:]))"
   ]
  },
  {
   "cell_type": "code",
   "execution_count": null,
   "metadata": {},
   "outputs": [],
   "source": [
    "for k in range(len(Drugsim.iloc[0,:])-1):\n",
    "    F[k + 3] = F['0'].map(Drugsim.set_index('-1')[k])\n",
    "    k += 1\n",
    "print(F.shape)\n",
    "# F"
   ]
  },
  {
   "cell_type": "code",
   "execution_count": null,
   "metadata": {},
   "outputs": [],
   "source": [
    "F"
   ]
  },
  {
   "cell_type": "code",
   "execution_count": null,
   "metadata": {},
   "outputs": [],
   "source": [
    "for k in range(len(Diseasesim.iloc[0,:])-1):\n",
    "    F[k - 1 + len(Drugsim.iloc[0,:]) + 3] = F['1'].map(Diseasesim.set_index('-1')[k])\n",
    "    k += 1"
   ]
  },
  {
   "cell_type": "code",
   "execution_count": null,
   "metadata": {},
   "outputs": [],
   "source": [
    "print(F.shape)\n",
    "F"
   ]
  },
  {
   "cell_type": "code",
   "execution_count": null,
   "metadata": {},
   "outputs": [],
   "source": [
    "del Diseasename\n",
    "del Drugsim\n",
    "del Drugname\n",
    "del Diseasesim"
   ]
  },
  {
   "cell_type": "code",
   "execution_count": null,
   "metadata": {},
   "outputs": [],
   "source": [
    "F.shape"
   ]
  },
  {
   "cell_type": "code",
   "execution_count": null,
   "metadata": {},
   "outputs": [],
   "source": [
    "F.to_csv(\"../saved F(Drug-Disease).csv\", index=False, header=None)\n"
   ]
  },
  {
   "cell_type": "code",
   "execution_count": null,
   "metadata": {},
   "outputs": [],
   "source": [
    "del F"
   ]
  },
  {
   "cell_type": "code",
   "execution_count": null,
   "metadata": {},
   "outputs": [],
   "source": []
  },
  {
   "cell_type": "code",
   "execution_count": null,
   "metadata": {},
   "outputs": [],
   "source": [
    "# F.head()"
   ]
  },
  {
   "cell_type": "code",
   "execution_count": null,
   "metadata": {},
   "outputs": [],
   "source": [
    "df = pd.read_csv(\"../saved F(Drug-Disease).csv\", header=None)"
   ]
  },
  {
   "cell_type": "code",
   "execution_count": null,
   "metadata": {},
   "outputs": [],
   "source": [
    "df"
   ]
  },
  {
   "cell_type": "code",
   "execution_count": null,
   "metadata": {},
   "outputs": [],
   "source": [
    "df[2]"
   ]
  },
  {
   "cell_type": "code",
   "execution_count": null,
   "metadata": {},
   "outputs": [],
   "source": [
    "# OverSampling\n",
    "from imblearn.over_sampling import RandomOverSampler\n",
    "\n",
    "\n",
    "# Dividing the data into X and Y\n",
    "X=df.drop(2,axis=1)\n",
    "y=df[2]\n",
    "\n",
    "oversample = RandomOverSampler(sampling_strategy='minority')\n",
    "X_oversample, y_oversample = oversample.fit_resample(X, y)"
   ]
  },
  {
   "cell_type": "code",
   "execution_count": null,
   "metadata": {},
   "outputs": [],
   "source": [
    "y_over.value_counts()"
   ]
  },
  {
   "cell_type": "code",
   "execution_count": null,
   "metadata": {},
   "outputs": [],
   "source": [
    "df=pd.concat([X_over, y_over], axis=1)\n",
    "df.shape"
   ]
  },
  {
   "cell_type": "code",
   "execution_count": null,
   "metadata": {},
   "outputs": [],
   "source": [
    "df.to_csv('../F-Drug-DiseaseRandomOverSampler.csv', index=False)\n",
    "del df"
   ]
  },
  {
   "cell_type": "code",
   "execution_count": null,
   "metadata": {},
   "outputs": [],
   "source": [
    "#smote\n",
    "from imblearn.over_sampling import SMOTE\n",
    "smote_sampler = SMOTE(random_state=42)\n",
    "X_smote , y_smote = smote_sampler.fit_resample(X,y)\n",
    "X_smote.shape"
   ]
  },
  {
   "cell_type": "code",
   "execution_count": null,
   "metadata": {},
   "outputs": [],
   "source": [
    "y.value_counts()"
   ]
  },
  {
   "cell_type": "code",
   "execution_count": null,
   "metadata": {},
   "outputs": [],
   "source": [
    "X_smote= pd.DataFrame(X_smote)\n",
    "y_smote= pd.DataFrame(y_smote)\n",
    "y_smote.value_counts()"
   ]
  },
  {
   "cell_type": "code",
   "execution_count": null,
   "metadata": {},
   "outputs": [],
   "source": [
    "dfsmote=pd.concat([X_smote, y_smote], axis=1)\n",
    "dfsmote.to_excel('../Actual Data_BalanceData_SMOTE.xlsx', index=False)\n",
    "del dfsmote"
   ]
  },
  {
   "cell_type": "code",
   "execution_count": null,
   "metadata": {},
   "outputs": [],
   "source": [
    "# ADASYN\n",
    "from imblearn.over_sampling import ADASYN\n",
    "X_adasyn, y_adasyn = ADASYN().fit_resample(X, y)\n",
    "del X\n",
    "X_adasyn= pd.DataFrame(X_adasyn)\n",
    "y_adasyn= pd.DataFrame(y_adasyn)\n",
    "y_adasyn.value_counts()"
   ]
  },
  {
   "cell_type": "code",
   "execution_count": null,
   "metadata": {},
   "outputs": [],
   "source": [
    "X_adasyn.shape"
   ]
  },
  {
   "cell_type": "code",
   "execution_count": null,
   "metadata": {},
   "outputs": [],
   "source": [
    "dfadasyn=pd.concat([X_adasyn, y_adasyn], axis=1)"
   ]
  },
  {
   "cell_type": "code",
   "execution_count": null,
   "metadata": {},
   "outputs": [],
   "source": [
    "dfadasyn.to_excel('../Actual Data_BalanceData_Adasyn.xlsx', index=False)"
   ]
  },
  {
   "cell_type": "code",
   "execution_count": null,
   "metadata": {},
   "outputs": [],
   "source": []
  }
 ],
 "metadata": {
  "kernelspec": {
   "display_name": "Python 3 (ipykernel)",
   "language": "python",
   "name": "python3"
  },
  "language_info": {
   "codemirror_mode": {
    "name": "ipython",
    "version": 3
   },
   "file_extension": ".py",
   "mimetype": "text/x-python",
   "name": "python",
   "nbconvert_exporter": "python",
   "pygments_lexer": "ipython3",
   "version": "3.8.10"
  }
 },
 "nbformat": 4,
 "nbformat_minor": 2
}
