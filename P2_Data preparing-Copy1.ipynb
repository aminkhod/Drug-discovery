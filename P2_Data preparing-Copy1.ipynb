{
 "cells": [
  {
   "cell_type": "code",
   "execution_count": 1,
   "metadata": {},
   "outputs": [],
   "source": [
    "import numpy as np\n",
    "import pandas as pd"
   ]
  },
  {
   "cell_type": "code",
   "execution_count": 2,
   "metadata": {},
   "outputs": [],
   "source": [
    "df = pd.read_csv(\"../saved F(Drug-Disease).csv\", header=None)"
   ]
  },
  {
   "cell_type": "code",
   "execution_count": 3,
   "metadata": {},
   "outputs": [
    {
     "data": {
      "text/html": [
       "<div>\n",
       "<style scoped>\n",
       "    .dataframe tbody tr th:only-of-type {\n",
       "        vertical-align: middle;\n",
       "    }\n",
       "\n",
       "    .dataframe tbody tr th {\n",
       "        vertical-align: top;\n",
       "    }\n",
       "\n",
       "    .dataframe thead th {\n",
       "        text-align: right;\n",
       "    }\n",
       "</style>\n",
       "<table border=\"1\" class=\"dataframe\">\n",
       "  <thead>\n",
       "    <tr style=\"text-align: right;\">\n",
       "      <th></th>\n",
       "      <th>0</th>\n",
       "      <th>1</th>\n",
       "      <th>2</th>\n",
       "      <th>3</th>\n",
       "      <th>4</th>\n",
       "      <th>5</th>\n",
       "      <th>6</th>\n",
       "      <th>7</th>\n",
       "      <th>8</th>\n",
       "      <th>9</th>\n",
       "      <th>...</th>\n",
       "      <th>899</th>\n",
       "      <th>900</th>\n",
       "      <th>901</th>\n",
       "      <th>902</th>\n",
       "      <th>903</th>\n",
       "      <th>904</th>\n",
       "      <th>905</th>\n",
       "      <th>906</th>\n",
       "      <th>907</th>\n",
       "      <th>908</th>\n",
       "    </tr>\n",
       "  </thead>\n",
       "  <tbody>\n",
       "    <tr>\n",
       "      <th>0</th>\n",
       "      <td>DB00007</td>\n",
       "      <td>D102100</td>\n",
       "      <td>0</td>\n",
       "      <td>1.00000</td>\n",
       "      <td>0.53282</td>\n",
       "      <td>0.86400</td>\n",
       "      <td>0.66606</td>\n",
       "      <td>0.55278</td>\n",
       "      <td>0.55172</td>\n",
       "      <td>0.32159</td>\n",
       "      <td>...</td>\n",
       "      <td>0.00000</td>\n",
       "      <td>0.064828</td>\n",
       "      <td>0.17917</td>\n",
       "      <td>0.017399</td>\n",
       "      <td>0.099807</td>\n",
       "      <td>0.16910</td>\n",
       "      <td>0.00000</td>\n",
       "      <td>0.00000</td>\n",
       "      <td>0.00000</td>\n",
       "      <td>0.0</td>\n",
       "    </tr>\n",
       "    <tr>\n",
       "      <th>1</th>\n",
       "      <td>DB00010</td>\n",
       "      <td>D102100</td>\n",
       "      <td>0</td>\n",
       "      <td>0.53282</td>\n",
       "      <td>1.00000</td>\n",
       "      <td>0.49826</td>\n",
       "      <td>0.66535</td>\n",
       "      <td>0.65618</td>\n",
       "      <td>0.65471</td>\n",
       "      <td>0.38220</td>\n",
       "      <td>...</td>\n",
       "      <td>0.00000</td>\n",
       "      <td>0.064828</td>\n",
       "      <td>0.17917</td>\n",
       "      <td>0.017399</td>\n",
       "      <td>0.099807</td>\n",
       "      <td>0.16910</td>\n",
       "      <td>0.00000</td>\n",
       "      <td>0.00000</td>\n",
       "      <td>0.00000</td>\n",
       "      <td>0.0</td>\n",
       "    </tr>\n",
       "    <tr>\n",
       "      <th>2</th>\n",
       "      <td>DB00014</td>\n",
       "      <td>D102100</td>\n",
       "      <td>0</td>\n",
       "      <td>0.86400</td>\n",
       "      <td>0.49826</td>\n",
       "      <td>1.00000</td>\n",
       "      <td>0.64000</td>\n",
       "      <td>0.51910</td>\n",
       "      <td>0.52083</td>\n",
       "      <td>0.29070</td>\n",
       "      <td>...</td>\n",
       "      <td>0.00000</td>\n",
       "      <td>0.064828</td>\n",
       "      <td>0.17917</td>\n",
       "      <td>0.017399</td>\n",
       "      <td>0.099807</td>\n",
       "      <td>0.16910</td>\n",
       "      <td>0.00000</td>\n",
       "      <td>0.00000</td>\n",
       "      <td>0.00000</td>\n",
       "      <td>0.0</td>\n",
       "    </tr>\n",
       "    <tr>\n",
       "      <th>3</th>\n",
       "      <td>DB00017</td>\n",
       "      <td>D102100</td>\n",
       "      <td>0</td>\n",
       "      <td>0.66606</td>\n",
       "      <td>0.66535</td>\n",
       "      <td>0.64000</td>\n",
       "      <td>1.00000</td>\n",
       "      <td>0.68824</td>\n",
       "      <td>0.69020</td>\n",
       "      <td>0.30924</td>\n",
       "      <td>...</td>\n",
       "      <td>0.00000</td>\n",
       "      <td>0.064828</td>\n",
       "      <td>0.17917</td>\n",
       "      <td>0.017399</td>\n",
       "      <td>0.099807</td>\n",
       "      <td>0.16910</td>\n",
       "      <td>0.00000</td>\n",
       "      <td>0.00000</td>\n",
       "      <td>0.00000</td>\n",
       "      <td>0.0</td>\n",
       "    </tr>\n",
       "    <tr>\n",
       "      <th>4</th>\n",
       "      <td>DB00035</td>\n",
       "      <td>D102100</td>\n",
       "      <td>0</td>\n",
       "      <td>0.55278</td>\n",
       "      <td>0.65618</td>\n",
       "      <td>0.51910</td>\n",
       "      <td>0.68824</td>\n",
       "      <td>1.00000</td>\n",
       "      <td>0.99735</td>\n",
       "      <td>0.31796</td>\n",
       "      <td>...</td>\n",
       "      <td>0.00000</td>\n",
       "      <td>0.064828</td>\n",
       "      <td>0.17917</td>\n",
       "      <td>0.017399</td>\n",
       "      <td>0.099807</td>\n",
       "      <td>0.16910</td>\n",
       "      <td>0.00000</td>\n",
       "      <td>0.00000</td>\n",
       "      <td>0.00000</td>\n",
       "      <td>0.0</td>\n",
       "    </tr>\n",
       "    <tr>\n",
       "      <th>...</th>\n",
       "      <td>...</td>\n",
       "      <td>...</td>\n",
       "      <td>...</td>\n",
       "      <td>...</td>\n",
       "      <td>...</td>\n",
       "      <td>...</td>\n",
       "      <td>...</td>\n",
       "      <td>...</td>\n",
       "      <td>...</td>\n",
       "      <td>...</td>\n",
       "      <td>...</td>\n",
       "      <td>...</td>\n",
       "      <td>...</td>\n",
       "      <td>...</td>\n",
       "      <td>...</td>\n",
       "      <td>...</td>\n",
       "      <td>...</td>\n",
       "      <td>...</td>\n",
       "      <td>...</td>\n",
       "      <td>...</td>\n",
       "      <td>...</td>\n",
       "    </tr>\n",
       "    <tr>\n",
       "      <th>185604</th>\n",
       "      <td>DB04844</td>\n",
       "      <td>D608622</td>\n",
       "      <td>0</td>\n",
       "      <td>0.32620</td>\n",
       "      <td>0.37143</td>\n",
       "      <td>0.31280</td>\n",
       "      <td>0.34233</td>\n",
       "      <td>0.35236</td>\n",
       "      <td>0.35167</td>\n",
       "      <td>0.20707</td>\n",
       "      <td>...</td>\n",
       "      <td>0.17204</td>\n",
       "      <td>0.182450</td>\n",
       "      <td>0.00000</td>\n",
       "      <td>0.076806</td>\n",
       "      <td>0.031694</td>\n",
       "      <td>0.11607</td>\n",
       "      <td>0.14199</td>\n",
       "      <td>0.27223</td>\n",
       "      <td>0.49842</td>\n",
       "      <td>1.0</td>\n",
       "    </tr>\n",
       "    <tr>\n",
       "      <th>185605</th>\n",
       "      <td>DB04861</td>\n",
       "      <td>D608622</td>\n",
       "      <td>1</td>\n",
       "      <td>0.27509</td>\n",
       "      <td>0.30638</td>\n",
       "      <td>0.28109</td>\n",
       "      <td>0.30851</td>\n",
       "      <td>0.28630</td>\n",
       "      <td>0.28571</td>\n",
       "      <td>0.24629</td>\n",
       "      <td>...</td>\n",
       "      <td>0.17204</td>\n",
       "      <td>0.182450</td>\n",
       "      <td>0.00000</td>\n",
       "      <td>0.076806</td>\n",
       "      <td>0.031694</td>\n",
       "      <td>0.11607</td>\n",
       "      <td>0.14199</td>\n",
       "      <td>0.27223</td>\n",
       "      <td>0.49842</td>\n",
       "      <td>1.0</td>\n",
       "    </tr>\n",
       "    <tr>\n",
       "      <th>185606</th>\n",
       "      <td>DB05259</td>\n",
       "      <td>D608622</td>\n",
       "      <td>0</td>\n",
       "      <td>0.22422</td>\n",
       "      <td>0.29155</td>\n",
       "      <td>0.19531</td>\n",
       "      <td>0.22041</td>\n",
       "      <td>0.25385</td>\n",
       "      <td>0.25320</td>\n",
       "      <td>0.17155</td>\n",
       "      <td>...</td>\n",
       "      <td>0.17204</td>\n",
       "      <td>0.182450</td>\n",
       "      <td>0.00000</td>\n",
       "      <td>0.076806</td>\n",
       "      <td>0.031694</td>\n",
       "      <td>0.11607</td>\n",
       "      <td>0.14199</td>\n",
       "      <td>0.27223</td>\n",
       "      <td>0.49842</td>\n",
       "      <td>1.0</td>\n",
       "    </tr>\n",
       "    <tr>\n",
       "      <th>185607</th>\n",
       "      <td>DB06285</td>\n",
       "      <td>D608622</td>\n",
       "      <td>0</td>\n",
       "      <td>0.75047</td>\n",
       "      <td>0.67184</td>\n",
       "      <td>0.69898</td>\n",
       "      <td>0.75267</td>\n",
       "      <td>0.52348</td>\n",
       "      <td>0.52257</td>\n",
       "      <td>0.29264</td>\n",
       "      <td>...</td>\n",
       "      <td>0.17204</td>\n",
       "      <td>0.182450</td>\n",
       "      <td>0.00000</td>\n",
       "      <td>0.076806</td>\n",
       "      <td>0.031694</td>\n",
       "      <td>0.11607</td>\n",
       "      <td>0.14199</td>\n",
       "      <td>0.27223</td>\n",
       "      <td>0.49842</td>\n",
       "      <td>1.0</td>\n",
       "    </tr>\n",
       "    <tr>\n",
       "      <th>185608</th>\n",
       "      <td>DB06287</td>\n",
       "      <td>D608622</td>\n",
       "      <td>0</td>\n",
       "      <td>0.35452</td>\n",
       "      <td>0.32973</td>\n",
       "      <td>0.39048</td>\n",
       "      <td>0.35535</td>\n",
       "      <td>0.30957</td>\n",
       "      <td>0.30903</td>\n",
       "      <td>0.30456</td>\n",
       "      <td>...</td>\n",
       "      <td>0.17204</td>\n",
       "      <td>0.182450</td>\n",
       "      <td>0.00000</td>\n",
       "      <td>0.076806</td>\n",
       "      <td>0.031694</td>\n",
       "      <td>0.11607</td>\n",
       "      <td>0.14199</td>\n",
       "      <td>0.27223</td>\n",
       "      <td>0.49842</td>\n",
       "      <td>1.0</td>\n",
       "    </tr>\n",
       "  </tbody>\n",
       "</table>\n",
       "<p>185609 rows × 909 columns</p>\n",
       "</div>"
      ],
      "text/plain": [
       "            0        1    2        3        4        5        6        7    \\\n",
       "0       DB00007  D102100    0  1.00000  0.53282  0.86400  0.66606  0.55278   \n",
       "1       DB00010  D102100    0  0.53282  1.00000  0.49826  0.66535  0.65618   \n",
       "2       DB00014  D102100    0  0.86400  0.49826  1.00000  0.64000  0.51910   \n",
       "3       DB00017  D102100    0  0.66606  0.66535  0.64000  1.00000  0.68824   \n",
       "4       DB00035  D102100    0  0.55278  0.65618  0.51910  0.68824  1.00000   \n",
       "...         ...      ...  ...      ...      ...      ...      ...      ...   \n",
       "185604  DB04844  D608622    0  0.32620  0.37143  0.31280  0.34233  0.35236   \n",
       "185605  DB04861  D608622    1  0.27509  0.30638  0.28109  0.30851  0.28630   \n",
       "185606  DB05259  D608622    0  0.22422  0.29155  0.19531  0.22041  0.25385   \n",
       "185607  DB06285  D608622    0  0.75047  0.67184  0.69898  0.75267  0.52348   \n",
       "185608  DB06287  D608622    0  0.35452  0.32973  0.39048  0.35535  0.30957   \n",
       "\n",
       "            8        9    ...      899       900      901       902       903  \\\n",
       "0       0.55172  0.32159  ...  0.00000  0.064828  0.17917  0.017399  0.099807   \n",
       "1       0.65471  0.38220  ...  0.00000  0.064828  0.17917  0.017399  0.099807   \n",
       "2       0.52083  0.29070  ...  0.00000  0.064828  0.17917  0.017399  0.099807   \n",
       "3       0.69020  0.30924  ...  0.00000  0.064828  0.17917  0.017399  0.099807   \n",
       "4       0.99735  0.31796  ...  0.00000  0.064828  0.17917  0.017399  0.099807   \n",
       "...         ...      ...  ...      ...       ...      ...       ...       ...   \n",
       "185604  0.35167  0.20707  ...  0.17204  0.182450  0.00000  0.076806  0.031694   \n",
       "185605  0.28571  0.24629  ...  0.17204  0.182450  0.00000  0.076806  0.031694   \n",
       "185606  0.25320  0.17155  ...  0.17204  0.182450  0.00000  0.076806  0.031694   \n",
       "185607  0.52257  0.29264  ...  0.17204  0.182450  0.00000  0.076806  0.031694   \n",
       "185608  0.30903  0.30456  ...  0.17204  0.182450  0.00000  0.076806  0.031694   \n",
       "\n",
       "            904      905      906      907  908  \n",
       "0       0.16910  0.00000  0.00000  0.00000  0.0  \n",
       "1       0.16910  0.00000  0.00000  0.00000  0.0  \n",
       "2       0.16910  0.00000  0.00000  0.00000  0.0  \n",
       "3       0.16910  0.00000  0.00000  0.00000  0.0  \n",
       "4       0.16910  0.00000  0.00000  0.00000  0.0  \n",
       "...         ...      ...      ...      ...  ...  \n",
       "185604  0.11607  0.14199  0.27223  0.49842  1.0  \n",
       "185605  0.11607  0.14199  0.27223  0.49842  1.0  \n",
       "185606  0.11607  0.14199  0.27223  0.49842  1.0  \n",
       "185607  0.11607  0.14199  0.27223  0.49842  1.0  \n",
       "185608  0.11607  0.14199  0.27223  0.49842  1.0  \n",
       "\n",
       "[185609 rows x 909 columns]"
      ]
     },
     "execution_count": 3,
     "metadata": {},
     "output_type": "execute_result"
    }
   ],
   "source": [
    "df"
   ]
  },
  {
   "cell_type": "code",
   "execution_count": 4,
   "metadata": {},
   "outputs": [
    {
     "data": {
      "text/plain": [
       "0         0\n",
       "1         0\n",
       "2         0\n",
       "3         0\n",
       "4         0\n",
       "         ..\n",
       "185604    0\n",
       "185605    1\n",
       "185606    0\n",
       "185607    0\n",
       "185608    0\n",
       "Name: 2, Length: 185609, dtype: int64"
      ]
     },
     "execution_count": 4,
     "metadata": {},
     "output_type": "execute_result"
    }
   ],
   "source": [
    "df[2]"
   ]
  },
  {
   "cell_type": "code",
   "execution_count": 15,
   "metadata": {},
   "outputs": [],
   "source": [
    "# # OverSampling\n",
    "# from imblearn.over_sampling import RandomOverSampler\n",
    "\n",
    "\n",
    "# Dividing the data into X and Y\n",
    "X=df.drop(2,axis=1)\n",
    "y=df[2]\n",
    "\n",
    "# oversample = RandomOverSampler(sampling_strategy='minority')\n",
    "# X_oversample, y_oversample = oversample.fit_resample(X, y)"
   ]
  },
  {
   "cell_type": "code",
   "execution_count": 16,
   "metadata": {},
   "outputs": [],
   "source": [
    "# y_oversample.value_counts()"
   ]
  },
  {
   "cell_type": "code",
   "execution_count": 17,
   "metadata": {},
   "outputs": [],
   "source": [
    "# df=pd.concat([X_oversample, y_oversample ], axis=1)\n",
    "# df.shape"
   ]
  },
  {
   "cell_type": "code",
   "execution_count": 18,
   "metadata": {},
   "outputs": [],
   "source": [
    "# df.to_csv('../F-Drug-DiseaseRandomOverSampler.csv', index=False)\n",
    "# del df"
   ]
  },
  {
   "cell_type": "code",
   "execution_count": null,
   "metadata": {},
   "outputs": [],
   "source": []
  },
  {
   "cell_type": "code",
   "execution_count": 19,
   "metadata": {},
   "outputs": [
    {
     "data": {
      "text/plain": [
       "(367352, 906)"
      ]
     },
     "execution_count": 19,
     "metadata": {},
     "output_type": "execute_result"
    }
   ],
   "source": [
    "#smote\n",
    "from imblearn.over_sampling import SMOTE\n",
    "smote_sampler = SMOTE(random_state=42)\n",
    "X_smote , y_smote = smote_sampler.fit_resample(X.iloc[:,2:],y)\n",
    "X_smote.shape"
   ]
  },
  {
   "cell_type": "code",
   "execution_count": 20,
   "metadata": {},
   "outputs": [
    {
     "data": {
      "text/plain": [
       "0    183676\n",
       "1    183676\n",
       "Name: 2, dtype: int64"
      ]
     },
     "execution_count": 20,
     "metadata": {},
     "output_type": "execute_result"
    }
   ],
   "source": [
    "y_smote.value_counts()"
   ]
  },
  {
   "cell_type": "code",
   "execution_count": 21,
   "metadata": {},
   "outputs": [
    {
     "data": {
      "text/plain": [
       "2\n",
       "0    183676\n",
       "1    183676\n",
       "dtype: int64"
      ]
     },
     "execution_count": 21,
     "metadata": {},
     "output_type": "execute_result"
    }
   ],
   "source": [
    "X_smote= pd.DataFrame(X_smote)\n",
    "y_smote= pd.DataFrame(y_smote)\n",
    "y_smote.value_counts()"
   ]
  },
  {
   "cell_type": "code",
   "execution_count": 22,
   "metadata": {},
   "outputs": [],
   "source": [
    "dfsmote=pd.concat([X_smote, y_smote], axis=1)\n",
    "dfsmote.to_csv('../Actual Data_BalanceData_SMOTE.csv', index=False)\n",
    "del dfsmote"
   ]
  },
  {
   "cell_type": "code",
   "execution_count": 24,
   "metadata": {},
   "outputs": [
    {
     "data": {
      "text/plain": [
       "2\n",
       "1    183845\n",
       "0    183676\n",
       "dtype: int64"
      ]
     },
     "execution_count": 24,
     "metadata": {},
     "output_type": "execute_result"
    }
   ],
   "source": [
    "# ADASYN\n",
    "from imblearn.over_sampling import ADASYN\n",
    "X_adasyn, y_adasyn = ADASYN().fit_resample(X.iloc[:,2:], y)\n",
    "del X\n",
    "X_adasyn= pd.DataFrame(X_adasyn)\n",
    "y_adasyn= pd.DataFrame(y_adasyn)  \n",
    "y_adasyn.value_counts()"
   ]
  },
  {
   "cell_type": "code",
   "execution_count": 26,
   "metadata": {},
   "outputs": [
    {
     "data": {
      "text/plain": [
       "(367521, 906)"
      ]
     },
     "execution_count": 26,
     "metadata": {},
     "output_type": "execute_result"
    }
   ],
   "source": [
    "X_adasyn.shape"
   ]
  },
  {
   "cell_type": "code",
   "execution_count": 27,
   "metadata": {},
   "outputs": [],
   "source": [
    "dfadasyn=pd.concat([X_adasyn, y_adasyn], axis=1)"
   ]
  },
  {
   "cell_type": "code",
   "execution_count": 28,
   "metadata": {},
   "outputs": [],
   "source": [
    "dfadasyn.to_csv('../Actual Data_BalanceData_Adasyn.csv', index=False)"
   ]
  },
  {
   "cell_type": "code",
   "execution_count": null,
   "metadata": {},
   "outputs": [],
   "source": []
  }
 ],
 "metadata": {
  "kernelspec": {
   "display_name": "Python 3 (ipykernel)",
   "language": "python",
   "name": "python3"
  },
  "language_info": {
   "codemirror_mode": {
    "name": "ipython",
    "version": 3
   },
   "file_extension": ".py",
   "mimetype": "text/x-python",
   "name": "python",
   "nbconvert_exporter": "python",
   "pygments_lexer": "ipython3",
   "version": "3.8.10"
  }
 },
 "nbformat": 4,
 "nbformat_minor": 2
}
