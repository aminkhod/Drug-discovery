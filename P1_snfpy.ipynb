{
 "cells": [
  {
   "cell_type": "code",
   "execution_count": 6,
   "metadata": {},
   "outputs": [],
   "source": [
    "from snf import datasets\n",
    "import numpy as np\n",
    "import pandas as pd\n",
    "import snf\n",
    "from snf import compute\n",
    "import sklearn"
   ]
  },
  {
   "cell_type": "code",
   "execution_count": 7,
   "metadata": {},
   "outputs": [],
   "source": [
    "# digits = datasets.load_digits()\n",
    "# digits.keys()"
   ]
  },
  {
   "cell_type": "code",
   "execution_count": 8,
   "metadata": {},
   "outputs": [],
   "source": [
    "# for arr in digits.data:\n",
    "#     print(arr.shape)"
   ]
  },
  {
   "cell_type": "code",
   "execution_count": 9,
   "metadata": {},
   "outputs": [],
   "source": [
    "# groups, samples = np.unique(digits.labels, return_counts=True)"
   ]
  },
  {
   "cell_type": "code",
   "execution_count": 10,
   "metadata": {},
   "outputs": [],
   "source": [
    "# for grp, count in zip(groups, samples):\n",
    "#     print('Group {:.0f}: {} samples'.format(grp, count))"
   ]
  },
  {
   "cell_type": "code",
   "execution_count": 20,
   "metadata": {},
   "outputs": [
    {
     "name": "stdout",
     "output_type": "stream",
     "text": [
      "       0        1        2        3        4        5        6        7    \\\n",
      "0  1.00000  0.53282  0.86400  0.66606  0.55278  0.55172  0.32159  0.64384   \n",
      "1  0.53282  1.00000  0.49826  0.66535  0.65618  0.65471  0.38220  0.53600   \n",
      "2  0.86400  0.49826  1.00000  0.64000  0.51910  0.52083  0.29070  0.60638   \n",
      "3  0.66606  0.66535  0.64000  1.00000  0.68824  0.69020  0.30924  0.68302   \n",
      "4  0.55278  0.65618  0.51910  0.68824  1.00000  0.99735  0.31796  0.62448   \n",
      "\n",
      "       8        9    ...       583      584       585       586       587  \\\n",
      "0  0.21617  0.40470  ...  0.038375  0.14938  0.060674  0.020785  0.073227   \n",
      "1  0.17347  0.33041  ...  0.045822  0.17848  0.086957  0.024931  0.090659   \n",
      "2  0.21672  0.44351  ...  0.037475  0.15028  0.052838  0.018036  0.063618   \n",
      "3  0.20725  0.41816  ...  0.040650  0.14991  0.069388  0.018557  0.072016   \n",
      "4  0.18000  0.34247  ...  0.035990  0.16393  0.066838  0.023936  0.070130   \n",
      "\n",
      "       588      589      590      591      592  \n",
      "0  0.32620  0.27509  0.22422  0.75047  0.35452  \n",
      "1  0.37143  0.30638  0.29155  0.67184  0.32973  \n",
      "2  0.31280  0.28109  0.19531  0.69898  0.39048  \n",
      "3  0.34233  0.30851  0.22041  0.75267  0.35535  \n",
      "4  0.35236  0.28630  0.25385  0.52348  0.30957  \n",
      "\n",
      "[5 rows x 593 columns] (593, 593)\n"
     ]
    },
    {
     "data": {
      "text/plain": [
       "'\\nC-DiDra                     409, 663\\nC-DiseaseSim                409, 409\\nC-drug-disease interactions 409, 663\\nC-DrugSim                   663, 663\\nF-DiDrA                     313, 593\\nF-DiseaseSim                313, 313\\nF-drug-disease interactions 313, 593\\nF-DrugSim                   \\n'"
      ]
     },
     "execution_count": 20,
     "metadata": {},
     "output_type": "execute_result"
    }
   ],
   "source": [
    "########## Drug Data\n",
    "# Number of Drug = 708\n",
    "\n",
    "##Similarity\n",
    "Drugs_chemStracture = pd.read_csv('data/Drug disease/drug sim/Similarity_Matrix_Drugs chem stracture.txt',\n",
    "                                     sep=' ', header=None)\n",
    "# simDrugs_chemStracture = simDrugs_chemStracture.dropna(axis=1)\n",
    "Drugs_chemStracture.replace(np.nan, 0, inplace=True)\n",
    "print(Drugs_chemStracture.head(), Drugs_chemStracture.shape)\n",
    "\n",
    "\n",
    "# Drug features\n",
    "sideeffect = pd.read_csv('data/Drug disease/drug sim/mat_drug_side effect.txt',sep=' ', header=None)\n",
    "sideeffect = sideeffect.replace(np.nan,0)\n",
    "print(sideeffect.head(), sideeffect.shape)\n",
    "\n",
    "protein = pd.read_csv('data/Drug disease/drug sim/mat_drug_protein.txt',sep=' ', header=None)\n",
    "protein.replace(np.nan, 0, inplace=True)\n",
    "\n",
    "print(protein.head(), protein.shape)\n"
   ]
  },
  {
   "cell_type": "code",
   "execution_count": 19,
   "metadata": {},
   "outputs": [
    {
     "name": "stdout",
     "output_type": "stream",
     "text": [
      "   0     1     2     3     4     5     6     7     8     9     ...  1618  \\\n",
      "0     0     0     1     1     0     0     1     0     0     0  ...     0   \n",
      "1     2     2     2     2     2     2     2     2     2     2  ...     2   \n",
      "2     0     0     1     0     0     0     0     0     0     0  ...     0   \n",
      "3     0     0     1     1     0     0     1     0     0     0  ...     0   \n",
      "4     0     0     1     1     1     0     1     0     0     0  ...     0   \n",
      "\n",
      "   1619  1620  1621  1622  1623  1624  1625  1626  1627  \n",
      "0     1     0     0     0     0     0     0     0   0.0  \n",
      "1     2     2     2     2     2     2     2     2   0.0  \n",
      "2     0     0     0     0     0     0     0     0   0.0  \n",
      "3     0     0     0     0     0     0     0     0   0.0  \n",
      "4     0     0     0     0     0     0     1     0   0.0  \n",
      "\n",
      "[5 rows x 1628 columns] (5603, 1628)\n",
      "   0     1     2     3     4     5     6     7     8     9     ...  1502  \\\n",
      "0     1     1     1     1     1     1     1     1     1     1  ...     1   \n",
      "1     1     1     1     1     1     1     1     1     1     1  ...     1   \n",
      "2     0     1     1     1     1     1     1     1     1     1  ...     1   \n",
      "3     1     1     1     1     1     1     1     1     1     1  ...     1   \n",
      "4     1     1     1     1     1     1     1     1     1     1  ...     1   \n",
      "\n",
      "   1503  1504  1505  1506  1507  1508  1509  1510  1511  \n",
      "0     1     1     1     1     0     1     1     1     1  \n",
      "1     1     1     1     1     1     1     1     1     1  \n",
      "2     1     0     1     0     1     1     1     1     1  \n",
      "3     1     1     1     1     1     1     1     1     1  \n",
      "4     1     1     1     1     1     1     1     1     1  \n",
      "\n",
      "[5 rows x 1512 columns] (5603, 1512)\n"
     ]
    }
   ],
   "source": [
    "########## Disease Data\n",
    "# Number of Disease = 5603\n",
    "# Disease Feature\n",
    "\n",
    "diseasePhenotype = pd.read_csv('data/Drug disease/disease sim/mat_disease Phenotype.txt',sep='\\t', header=None)\n",
    "diseasePhenotype.replace(np.nan, 0, inplace=True)\n",
    "print(diseasePhenotype.head(), diseasePhenotype.shape)\n",
    "\n",
    "\n",
    "disease_protein = pd.read_csv('data/Drug disease/disease sim/mat_disease_protein.txt',sep='\\t', header=None)\n",
    "disease_protein.replace(np.nan, 0, inplace=True)\n",
    "print(disease_protein.head(), disease_protein.shape)"
   ]
  },
  {
   "cell_type": "code",
   "execution_count": 18,
   "metadata": {},
   "outputs": [],
   "source": [
    "# Phenotype = pd.read_csv('data/Drug disease/disease sim/mat_disease Phenotype.txt',sep='\\t', header=None)\n",
    "# Phenotype = Phenotype.drop([1627],axis=1)\n",
    "# print(Phenotype.head())\n",
    "# protein = pd.read_csv('data/Drug disease/disease sim/mat_disease_protein.txt',sep='\\t', header=None)\n",
    "# print(protein.head())"
   ]
  },
  {
   "cell_type": "code",
   "execution_count": 19,
   "metadata": {},
   "outputs": [],
   "source": [
    "'''Similarity calculation based on feature data, \n",
    "and then, returning two ndarray similarities for drugs and diseases'''\n",
    "\n",
    "# print(offsidesF.isnull().sum().sum())\n",
    "protein = np.array(protein.values, dtype=np.float64)\n",
    "Drugs_chemStracture = np.array(Drugs_chemStracture.values, dtype=np.float64)\n",
    "sideeffect = np.array(sideeffect.values, dtype=np.float64)\n",
    "\n",
    "diseasePhenotype = np.array(diseasePhenotype.values, dtype=np.float64)\n",
    "disease_protein = np.array(disease_protein.values, dtype=np.float64)\n",
    "\n",
    "proteinSim = sklearn.metrics.pairwise.cosine_similarity(protein, Y=None, dense_output=True)\n",
    "Drugs_chemStracture = sklearn.metrics.pairwise.cosine_similarity(Drugs_chemStracture, Y=None, dense_output=True)\n",
    "# chemstractureSim = chemstracture.copy()\n",
    "sideeffectSim = sklearn.metrics.pairwise.cosine_similarity(protein, Y=None, dense_output=True)\n",
    "\n",
    "\n",
    "disease_proteinSim = sklearn.metrics.pairwise.cosine_similarity(disease_protein, Y=None, dense_output=True)\n",
    "diseasePhenotypeSim = sklearn.metrics.pairwise.cosine_similarity(diseasePhenotype, Y=None, dense_output=True)\n",
    "\n",
    "diseaseSimData = [disease_proteinSim, diseasePhenotypeSim]\n",
    "drugSimData = [Drugs_chemStracture, proteinSim, sideeffectSim]\n",
    "del Drugs_chemStracture, proteinSim, sideeffectSim, disease_proteinSim, diseasePhenotypeSim \n",
    "del disease_protein, diseasePhenotype, protein, sideeffect\n",
    "# drugSimData\n",
    "# diseaseSimData "
   ]
  },
  {
   "cell_type": "code",
   "execution_count": 20,
   "metadata": {},
   "outputs": [],
   "source": [
    "# affinity_networks = compute.make_affinity(data, metric='cosine', K=9150, mu=0.5,normalize=True)\n",
    "# # simcosine = pd.DataFrame(affinity_networks)\n",
    "# # simcosine.to_csv(\"cosineSim.csv\",index=False)"
   ]
  },
  {
   "cell_type": "code",
   "execution_count": 21,
   "metadata": {},
   "outputs": [],
   "source": [
    "# len(affinity_networks[1])"
   ]
  },
  {
   "cell_type": "code",
   "execution_count": 22,
   "metadata": {},
   "outputs": [],
   "source": [
    "# for grp, count in zip(groups, samples):\n",
    "#     print('Group {:.0f}: {} samples'.format(grp, count))# chem =  np.array(pd.read_csv('chem_Jacarrd_sim.csv', header=-1))\n",
    "# enzyme =  np.array(pd.read_csv('enzyme_Jacarrd_sim.csv', header=-1))\n",
    "# # chem = array(chem,enzyme)\n",
    "# affinity_network = [chem,enzyme]"
   ]
  },
  {
   "cell_type": "code",
   "execution_count": 23,
   "metadata": {},
   "outputs": [
    {
     "name": "stderr",
     "output_type": "stream",
     "text": [
      "/home/amin/.local/lib/python3.8/site-packages/snf/compute.py:401: RuntimeWarning: invalid value encountered in true_divide\n",
      "  mat = mat / np.nansum(mat, axis=1, keepdims=True)\n",
      "/home/amin/.local/lib/python3.8/site-packages/snf/compute.py:401: RuntimeWarning: invalid value encountered in true_divide\n",
      "  mat = mat / np.nansum(mat, axis=1, keepdims=True)\n"
     ]
    }
   ],
   "source": [
    "fused_drugSim = snf.snf(drugSimData, K=20)\n",
    "fused_diseaseSim = snf.snf(diseaseSimData, K=20)"
   ]
  },
  {
   "cell_type": "code",
   "execution_count": 24,
   "metadata": {},
   "outputs": [
    {
     "name": "stdout",
     "output_type": "stream",
     "text": [
      "(708, 708) (5603, 5603)\n"
     ]
    }
   ],
   "source": [
    "print(fused_drugSim.shape, fused_diseaseSim.shape)"
   ]
  },
  {
   "cell_type": "code",
   "execution_count": 25,
   "metadata": {},
   "outputs": [
    {
     "data": {
      "text/plain": [
       "array([[6.08227309e-01, 1.83960526e-04, 1.89408917e-04, ...,\n",
       "        1.04492694e-04, 9.17893003e-06, 1.04492694e-04],\n",
       "       [1.83960526e-04, 6.48055640e-01, 1.89596580e-04, ...,\n",
       "        1.13370033e-04, 6.52462888e-06, 1.13370033e-04],\n",
       "       [1.89408917e-04, 1.89596580e-04, 6.25036651e-01, ...,\n",
       "        1.02510644e-04, 8.92211981e-06, 1.02510644e-04],\n",
       "       ...,\n",
       "       [1.04492694e-04, 1.13370033e-04, 1.02510644e-04, ...,\n",
       "        7.86606062e-01, 8.02912549e-06, 1.49554023e-04],\n",
       "       [9.17893003e-06, 6.52462888e-06, 8.92211981e-06, ...,\n",
       "        8.02912549e-06, 9.64834019e-01, 8.02912549e-06],\n",
       "       [1.04492694e-04, 1.13370033e-04, 1.02510644e-04, ...,\n",
       "        1.49554023e-04, 8.02912549e-06, 7.86606062e-01]])"
      ]
     },
     "execution_count": 25,
     "metadata": {},
     "output_type": "execute_result"
    }
   ],
   "source": [
    "fused_diseaseSim"
   ]
  },
  {
   "cell_type": "code",
   "execution_count": 26,
   "metadata": {},
   "outputs": [
    {
     "data": {
      "text/plain": [
       "array([[6.80784551e-01, 4.22887259e-04, 1.46532303e-03, ...,\n",
       "        3.53902873e-04, 3.92028636e-04, 1.53527157e-03],\n",
       "       [4.22887259e-04, 7.92566226e-01, 3.35408827e-04, ...,\n",
       "        3.63634276e-04, 3.81223556e-04, 4.33499956e-04],\n",
       "       [1.46532303e-03, 3.35408827e-04, 6.12446405e-01, ...,\n",
       "        1.71330057e-03, 6.80083532e-03, 3.59153822e-03],\n",
       "       ...,\n",
       "       [3.53902873e-04, 3.63634276e-04, 1.71330057e-03, ...,\n",
       "        7.52984947e-01, 1.99698440e-03, 1.12674124e-03],\n",
       "       [3.92028636e-04, 3.81223556e-04, 6.80083532e-03, ...,\n",
       "        1.99698440e-03, 6.50544376e-01, 1.03564516e-03],\n",
       "       [1.53527157e-03, 4.33499956e-04, 3.59153822e-03, ...,\n",
       "        1.12674124e-03, 1.03564516e-03, 5.88170326e-01]])"
      ]
     },
     "execution_count": 26,
     "metadata": {},
     "output_type": "execute_result"
    }
   ],
   "source": [
    "fused_drugSim"
   ]
  },
  {
   "cell_type": "code",
   "execution_count": 27,
   "metadata": {},
   "outputs": [],
   "source": [
    "# digits.data"
   ]
  },
  {
   "cell_type": "code",
   "execution_count": 30,
   "metadata": {},
   "outputs": [],
   "source": [
    "pd.DataFrame(fused_drugSim).to_csv(\n",
    "    'data/Drug disease/Drug_CosineSNF(chemstractureSim_proteinSim_sideeffectSim).csv', \n",
    "                                      index = False,header=False)"
   ]
  },
  {
   "cell_type": "code",
   "execution_count": 31,
   "metadata": {},
   "outputs": [],
   "source": [
    "pd.DataFrame(fused_diseaseSim).to_csv(\n",
    "    'data/Drug disease/Disease_CosineSNF(PhenotypeSim_ProteinSim).csv', \n",
    "                                      index = False,header=False)"
   ]
  },
  {
   "cell_type": "code",
   "execution_count": null,
   "metadata": {},
   "outputs": [],
   "source": []
  }
 ],
 "metadata": {
  "kernelspec": {
   "display_name": "Python 3 (ipykernel)",
   "language": "python",
   "name": "python3"
  },
  "language_info": {
   "codemirror_mode": {
    "name": "ipython",
    "version": 3
   },
   "file_extension": ".py",
   "mimetype": "text/x-python",
   "name": "python",
   "nbconvert_exporter": "python",
   "pygments_lexer": "ipython3",
   "version": "3.8.10"
  }
 },
 "nbformat": 4,
 "nbformat_minor": 2
}
