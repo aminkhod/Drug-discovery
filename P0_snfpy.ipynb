{
 "cells": [
  {
   "cell_type": "code",
   "execution_count": 2,
   "metadata": {},
   "outputs": [],
   "source": [
    "from snf import datasets\n",
    "import numpy as np\n",
    "import pandas as pd\n",
    "import snf\n",
    "from snf import compute\n",
    "import sklearn"
   ]
  },
  {
   "cell_type": "code",
   "execution_count": 3,
   "metadata": {},
   "outputs": [
    {
     "data": {
      "text/plain": [
       "dict_keys(['data', 'labels'])"
      ]
     },
     "execution_count": 3,
     "metadata": {},
     "output_type": "execute_result"
    }
   ],
   "source": [
    "digits = datasets.load_digits()\n",
    "digits.keys()"
   ]
  },
  {
   "cell_type": "code",
   "execution_count": 4,
   "metadata": {},
   "outputs": [
    {
     "name": "stdout",
     "output_type": "stream",
     "text": [
      "(600, 76)\n",
      "(600, 240)\n",
      "(600, 216)\n",
      "(600, 47)\n"
     ]
    }
   ],
   "source": [
    "for arr in digits.data:\n",
    "    print(arr.shape)"
   ]
  },
  {
   "cell_type": "code",
   "execution_count": 5,
   "metadata": {},
   "outputs": [],
   "source": [
    "groups, samples = np.unique(digits.labels, return_counts=True)"
   ]
  },
  {
   "cell_type": "code",
   "execution_count": 6,
   "metadata": {},
   "outputs": [
    {
     "name": "stdout",
     "output_type": "stream",
     "text": [
      "Group 0: 200 samples\n",
      "Group 1: 200 samples\n",
      "Group 2: 200 samples\n"
     ]
    }
   ],
   "source": [
    "for grp, count in zip(groups, samples):\n",
    "    print('Group {:.0f}: {} samples'.format(grp, count))"
   ]
  },
  {
   "cell_type": "code",
   "execution_count": 22,
   "metadata": {},
   "outputs": [
    {
     "name": "stdout",
     "output_type": "stream",
     "text": [
      "(5603, 1627)\n",
      "(5603, 1512)\n"
     ]
    }
   ],
   "source": [
    "Phenotype = pd.read_csv('data/Drug disease/disease sim/mat_disease Phenotype.txt',sep='\\t', header=None)\n",
    "Phenotype = Phenotype.drop([1627],axis=1)\n",
    "print(Phenotype.shape)\n",
    "protein = pd.read_csv('data/Drug disease/disease sim/mat_disease_protein.txt',sep='\\t', header=None)\n",
    "print(protein.shape)"
   ]
  },
  {
   "cell_type": "code",
   "execution_count": 18,
   "metadata": {},
   "outputs": [
    {
     "data": {
      "text/plain": [
       "[array([[1.        , 0.31941865, 0.25670988, ..., 0.31941865, 0.07761505,\n",
       "         0.31941865],\n",
       "        [0.31941865, 1.        , 0.14241745, ..., 1.        , 0.0247917 ,\n",
       "         1.        ],\n",
       "        [0.25670988, 0.14241745, 1.        , ..., 0.14241745, 0.        ,\n",
       "         0.14241745],\n",
       "        ...,\n",
       "        [0.31941865, 1.        , 0.14241745, ..., 1.        , 0.0247917 ,\n",
       "         1.        ],\n",
       "        [0.07761505, 0.0247917 , 0.        , ..., 0.0247917 , 1.        ,\n",
       "         0.0247917 ],\n",
       "        [0.31941865, 1.        , 0.14241745, ..., 1.        , 0.0247917 ,\n",
       "         1.        ]]),\n",
       " array([[1.        , 0.9883115 , 0.81666908, ..., 0.        , 0.        ,\n",
       "         0.        ],\n",
       "        [0.9883115 , 1.        , 0.81446093, ..., 0.        , 0.        ,\n",
       "         0.        ],\n",
       "        [0.81666908, 0.81446093, 1.        , ..., 0.        , 0.        ,\n",
       "         0.        ],\n",
       "        ...,\n",
       "        [0.        , 0.        , 0.        , ..., 0.        , 0.        ,\n",
       "         0.        ],\n",
       "        [0.        , 0.        , 0.        , ..., 0.        , 0.        ,\n",
       "         0.        ],\n",
       "        [0.        , 0.        , 0.        , ..., 0.        , 0.        ,\n",
       "         0.        ]])]"
      ]
     },
     "execution_count": 18,
     "metadata": {},
     "output_type": "execute_result"
    }
   ],
   "source": [
    "\n",
    "# print(offsidesF.isnull().sum().sum())\n",
    "protein = np.array(protein.values, dtype=np.float64)\n",
    "Phenotype = np.array(Phenotype.values, dtype=np.float64)\n",
    "proteinSim = sklearn.metrics.pairwise.cosine_similarity(protein, Y=None, dense_output=True)\n",
    "PhenotypeSim = sklearn.metrics.pairwise.cosine_similarity(Phenotype, Y=None, dense_output=True)\n",
    "data = [PhenotypeSim, proteinSim]\n",
    "data"
   ]
  },
  {
   "cell_type": "code",
   "execution_count": 40,
   "metadata": {},
   "outputs": [
    {
     "name": "stderr",
     "output_type": "stream",
     "text": [
      "c:\\program files\\python36\\lib\\site-packages\\scipy\\stats\\stats.py:2253: RuntimeWarning: invalid value encountered in true_divide\n",
      "  return (a - mns) / sstd\n",
      "c:\\program files\\python36\\lib\\site-packages\\scipy\\stats\\stats.py:2253: RuntimeWarning: invalid value encountered in true_divide\n",
      "  return (a - mns) / sstd\n"
     ]
    }
   ],
   "source": [
    "# affinity_networks = compute.make_affinity(data, metric='cosine', K=9150, mu=0.5,normalize=True)\n",
    "# # simcosine = pd.DataFrame(affinity_networks)\n",
    "# # simcosine.to_csv(\"cosineSim.csv\",index=False)"
   ]
  },
  {
   "cell_type": "code",
   "execution_count": 23,
   "metadata": {},
   "outputs": [
    {
     "data": {
      "text/plain": [
       "568"
      ]
     },
     "execution_count": 23,
     "metadata": {},
     "output_type": "execute_result"
    }
   ],
   "source": [
    "# len(affinity_networks[1])"
   ]
  },
  {
   "cell_type": "code",
   "execution_count": 68,
   "metadata": {},
   "outputs": [],
   "source": [
    "# chem =  np.array(pd.read_csv('chem_Jacarrd_sim.csv', header=-1))\n",
    "# enzyme =  np.array(pd.read_csv('enzyme_Jacarrd_sim.csv', header=-1))\n",
    "# # chem = array(chem,enzyme)\n",
    "# affinity_network = [chem,enzyme]"
   ]
  },
  {
   "cell_type": "code",
   "execution_count": null,
   "metadata": {},
   "outputs": [
    {
     "name": "stderr",
     "output_type": "stream",
     "text": [
      "/home/amin/.local/lib/python3.6/site-packages/snf/compute.py:401: RuntimeWarning: invalid value encountered in true_divide\n",
      "  mat = mat / np.nansum(mat, axis=1, keepdims=True)\n"
     ]
    }
   ],
   "source": [
    "fused_network = snf.snf(data, K=20)"
   ]
  },
  {
   "cell_type": "code",
   "execution_count": null,
   "metadata": {},
   "outputs": [],
   "source": [
    "fused_network.shape"
   ]
  },
  {
   "cell_type": "code",
   "execution_count": null,
   "metadata": {},
   "outputs": [],
   "source": [
    "fused_network"
   ]
  },
  {
   "cell_type": "code",
   "execution_count": 188,
   "metadata": {},
   "outputs": [],
   "source": [
    "# digits.data"
   ]
  },
  {
   "cell_type": "code",
   "execution_count": null,
   "metadata": {},
   "outputs": [],
   "source": [
    "fused_network = pd.DataFrame(fused_network)\n",
    "fused_network.to_csv('CosineSNF(PhenotypeSim_ProteinSim).csv',index = False,header=False)"
   ]
  },
  {
   "cell_type": "code",
   "execution_count": null,
   "metadata": {},
   "outputs": [],
   "source": []
  }
 ],
 "metadata": {
  "kernelspec": {
   "display_name": "Python 3",
   "language": "python",
   "name": "python3"
  },
  "language_info": {
   "codemirror_mode": {
    "name": "ipython",
    "version": 3
   },
   "file_extension": ".py",
   "mimetype": "text/x-python",
   "name": "python",
   "nbconvert_exporter": "python",
   "pygments_lexer": "ipython3",
   "version": "3.6.9"
  }
 },
 "nbformat": 4,
 "nbformat_minor": 2
}
